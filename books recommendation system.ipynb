{
 "cells": [
  {
   "cell_type": "code",
   "execution_count": 361,
   "metadata": {},
   "outputs": [],
   "source": [
    "import pandas as pd\n",
    "import warnings\n",
    "from sklearn.feature_extraction.text import CountVectorizer\n",
    "import numpy as np\n",
    "from collections import Counter\n",
    "from scipy.sparse import csr_matrix\n",
    "from pandas.api.types import is_numeric_dtype\n",
    "from sklearn.neighbors import NearestNeighbors\n",
    "from sklearn.feature_extraction import DictVectorizer\n",
    "from sklearn.metrics.pairwise import cosine_similarity\n",
    "from sklearn.feature_extraction.text import TfidfVectorizer\n",
    "from sklearn.metrics.pairwise import cosine_similarity\n",
    "warnings.filterwarnings('ignore')"
   ]
  },
  {
   "cell_type": "code",
   "execution_count": 362,
   "metadata": {},
   "outputs": [
    {
     "data": {
      "text/html": [
       "<div>\n",
       "<style scoped>\n",
       "    .dataframe tbody tr th:only-of-type {\n",
       "        vertical-align: middle;\n",
       "    }\n",
       "\n",
       "    .dataframe tbody tr th {\n",
       "        vertical-align: top;\n",
       "    }\n",
       "\n",
       "    .dataframe thead th {\n",
       "        text-align: right;\n",
       "    }\n",
       "</style>\n",
       "<table border=\"1\" class=\"dataframe\">\n",
       "  <thead>\n",
       "    <tr style=\"text-align: right;\">\n",
       "      <th></th>\n",
       "      <th>ISBN</th>\n",
       "      <th>Book-Title</th>\n",
       "      <th>Book-Author</th>\n",
       "      <th>Year-Of-Publication</th>\n",
       "      <th>Publisher</th>\n",
       "      <th>Image-URL-S</th>\n",
       "      <th>Image-URL-M</th>\n",
       "      <th>Image-URL-L</th>\n",
       "    </tr>\n",
       "  </thead>\n",
       "  <tbody>\n",
       "    <tr>\n",
       "      <th>0</th>\n",
       "      <td>0195153448</td>\n",
       "      <td>Classical Mythology</td>\n",
       "      <td>Mark P. O. Morford</td>\n",
       "      <td>2002</td>\n",
       "      <td>Oxford University Press</td>\n",
       "      <td>http://images.amazon.com/images/P/0195153448.0...</td>\n",
       "      <td>http://images.amazon.com/images/P/0195153448.0...</td>\n",
       "      <td>http://images.amazon.com/images/P/0195153448.0...</td>\n",
       "    </tr>\n",
       "    <tr>\n",
       "      <th>1</th>\n",
       "      <td>0002005018</td>\n",
       "      <td>Clara Callan</td>\n",
       "      <td>Richard Bruce Wright</td>\n",
       "      <td>2001</td>\n",
       "      <td>HarperFlamingo Canada</td>\n",
       "      <td>http://images.amazon.com/images/P/0002005018.0...</td>\n",
       "      <td>http://images.amazon.com/images/P/0002005018.0...</td>\n",
       "      <td>http://images.amazon.com/images/P/0002005018.0...</td>\n",
       "    </tr>\n",
       "    <tr>\n",
       "      <th>2</th>\n",
       "      <td>0060973129</td>\n",
       "      <td>Decision in Normandy</td>\n",
       "      <td>Carlo D'Este</td>\n",
       "      <td>1991</td>\n",
       "      <td>HarperPerennial</td>\n",
       "      <td>http://images.amazon.com/images/P/0060973129.0...</td>\n",
       "      <td>http://images.amazon.com/images/P/0060973129.0...</td>\n",
       "      <td>http://images.amazon.com/images/P/0060973129.0...</td>\n",
       "    </tr>\n",
       "  </tbody>\n",
       "</table>\n",
       "</div>"
      ],
      "text/plain": [
       "         ISBN            Book-Title           Book-Author Year-Of-Publication  \\\n",
       "0  0195153448   Classical Mythology    Mark P. O. Morford                2002   \n",
       "1  0002005018          Clara Callan  Richard Bruce Wright                2001   \n",
       "2  0060973129  Decision in Normandy          Carlo D'Este                1991   \n",
       "\n",
       "                 Publisher                                        Image-URL-S  \\\n",
       "0  Oxford University Press  http://images.amazon.com/images/P/0195153448.0...   \n",
       "1    HarperFlamingo Canada  http://images.amazon.com/images/P/0002005018.0...   \n",
       "2          HarperPerennial  http://images.amazon.com/images/P/0060973129.0...   \n",
       "\n",
       "                                         Image-URL-M  \\\n",
       "0  http://images.amazon.com/images/P/0195153448.0...   \n",
       "1  http://images.amazon.com/images/P/0002005018.0...   \n",
       "2  http://images.amazon.com/images/P/0060973129.0...   \n",
       "\n",
       "                                         Image-URL-L  \n",
       "0  http://images.amazon.com/images/P/0195153448.0...  \n",
       "1  http://images.amazon.com/images/P/0002005018.0...  \n",
       "2  http://images.amazon.com/images/P/0060973129.0...  "
      ]
     },
     "execution_count": 362,
     "metadata": {},
     "output_type": "execute_result"
    }
   ],
   "source": [
    "books = pd.read_csv('Books.csv', header=0)\n",
    "books.head(3)"
   ]
  },
  {
   "cell_type": "code",
   "execution_count": 363,
   "metadata": {},
   "outputs": [
    {
     "data": {
      "text/plain": [
       "(271360, 8)"
      ]
     },
     "execution_count": 363,
     "metadata": {},
     "output_type": "execute_result"
    }
   ],
   "source": [
    "books.shape"
   ]
  },
  {
   "cell_type": "code",
   "execution_count": 364,
   "metadata": {},
   "outputs": [
    {
     "data": {
      "text/plain": [
       "(271360, 5)"
      ]
     },
     "execution_count": 364,
     "metadata": {},
     "output_type": "execute_result"
    }
   ],
   "source": [
    "columns = ['ISBN','Book-Title','Book-Author','Year-Of-Publication','Publisher']\n",
    "books = books[columns]\n",
    "books.shape"
   ]
  },
  {
   "cell_type": "code",
   "execution_count": 365,
   "metadata": {},
   "outputs": [
    {
     "data": {
      "text/html": [
       "<div>\n",
       "<style scoped>\n",
       "    .dataframe tbody tr th:only-of-type {\n",
       "        vertical-align: middle;\n",
       "    }\n",
       "\n",
       "    .dataframe tbody tr th {\n",
       "        vertical-align: top;\n",
       "    }\n",
       "\n",
       "    .dataframe thead th {\n",
       "        text-align: right;\n",
       "    }\n",
       "</style>\n",
       "<table border=\"1\" class=\"dataframe\">\n",
       "  <thead>\n",
       "    <tr style=\"text-align: right;\">\n",
       "      <th></th>\n",
       "      <th>ISBN</th>\n",
       "      <th>Book-Title</th>\n",
       "      <th>Book-Author</th>\n",
       "      <th>Year-Of-Publication</th>\n",
       "      <th>Publisher</th>\n",
       "    </tr>\n",
       "  </thead>\n",
       "  <tbody>\n",
       "    <tr>\n",
       "      <th>0</th>\n",
       "      <td>0195153448</td>\n",
       "      <td>Classical Mythology</td>\n",
       "      <td>Mark P. O. Morford</td>\n",
       "      <td>2002</td>\n",
       "      <td>Oxford University Press</td>\n",
       "    </tr>\n",
       "    <tr>\n",
       "      <th>1</th>\n",
       "      <td>0002005018</td>\n",
       "      <td>Clara Callan</td>\n",
       "      <td>Richard Bruce Wright</td>\n",
       "      <td>2001</td>\n",
       "      <td>HarperFlamingo Canada</td>\n",
       "    </tr>\n",
       "    <tr>\n",
       "      <th>2</th>\n",
       "      <td>0060973129</td>\n",
       "      <td>Decision in Normandy</td>\n",
       "      <td>Carlo D'Este</td>\n",
       "      <td>1991</td>\n",
       "      <td>HarperPerennial</td>\n",
       "    </tr>\n",
       "  </tbody>\n",
       "</table>\n",
       "</div>"
      ],
      "text/plain": [
       "         ISBN            Book-Title           Book-Author Year-Of-Publication  \\\n",
       "0  0195153448   Classical Mythology    Mark P. O. Morford                2002   \n",
       "1  0002005018          Clara Callan  Richard Bruce Wright                2001   \n",
       "2  0060973129  Decision in Normandy          Carlo D'Este                1991   \n",
       "\n",
       "                 Publisher  \n",
       "0  Oxford University Press  \n",
       "1    HarperFlamingo Canada  \n",
       "2          HarperPerennial  "
      ]
     },
     "execution_count": 365,
     "metadata": {},
     "output_type": "execute_result"
    }
   ],
   "source": [
    "books.head(3)"
   ]
  },
  {
   "cell_type": "code",
   "execution_count": 366,
   "metadata": {},
   "outputs": [
    {
     "name": "stdout",
     "output_type": "stream",
     "text": [
      "<class 'pandas.core.frame.DataFrame'>\n",
      "RangeIndex: 271360 entries, 0 to 271359\n",
      "Data columns (total 5 columns):\n",
      " #   Column               Non-Null Count   Dtype \n",
      "---  ------               --------------   ----- \n",
      " 0   ISBN                 271360 non-null  object\n",
      " 1   Book-Title           271360 non-null  object\n",
      " 2   Book-Author          271359 non-null  object\n",
      " 3   Year-Of-Publication  271360 non-null  object\n",
      " 4   Publisher            271358 non-null  object\n",
      "dtypes: object(5)\n",
      "memory usage: 10.4+ MB\n"
     ]
    }
   ],
   "source": [
    "books.info()"
   ]
  },
  {
   "cell_type": "code",
   "execution_count": 367,
   "metadata": {},
   "outputs": [
    {
     "data": {
      "text/plain": [
       "ISBN                   271360\n",
       "Book-Title             242135\n",
       "Book-Author            102023\n",
       "Year-Of-Publication       202\n",
       "Publisher               16807\n",
       "dtype: int64"
      ]
     },
     "execution_count": 367,
     "metadata": {},
     "output_type": "execute_result"
    }
   ],
   "source": [
    "books.nunique(dropna=True)"
   ]
  },
  {
   "cell_type": "code",
   "execution_count": 368,
   "metadata": {},
   "outputs": [
    {
     "data": {
      "text/plain": [
       "ISBN                   0\n",
       "Book-Title             0\n",
       "Book-Author            1\n",
       "Year-Of-Publication    0\n",
       "Publisher              2\n",
       "dtype: int64"
      ]
     },
     "execution_count": 368,
     "metadata": {},
     "output_type": "execute_result"
    }
   ],
   "source": [
    "books.isnull().sum()"
   ]
  },
  {
   "cell_type": "code",
   "execution_count": 369,
   "metadata": {},
   "outputs": [],
   "source": [
    "books = books[books['Year-Of-Publication'] != '']\n",
    "books = books[books['Book-Title'] != '']\n",
    "books = books[books['Book-Author'] != '']\n",
    "books = books[books['Publisher'] != '']\n",
    "books = books[books['ISBN'] != '']"
   ]
  },
  {
   "cell_type": "code",
   "execution_count": 370,
   "metadata": {},
   "outputs": [],
   "source": [
    "books = books[~books['Year-Of-Publication'].isna()]\n",
    "books = books[~books['Book-Title'].isna()]\n",
    "books = books[~books['Book-Author'].isna()]\n",
    "books = books[~books['Publisher'].isna()]\n",
    "books = books[~books['ISBN'].isna()]"
   ]
  },
  {
   "cell_type": "code",
   "execution_count": 371,
   "metadata": {},
   "outputs": [
    {
     "data": {
      "text/html": [
       "<div>\n",
       "<style scoped>\n",
       "    .dataframe tbody tr th:only-of-type {\n",
       "        vertical-align: middle;\n",
       "    }\n",
       "\n",
       "    .dataframe tbody tr th {\n",
       "        vertical-align: top;\n",
       "    }\n",
       "\n",
       "    .dataframe thead th {\n",
       "        text-align: right;\n",
       "    }\n",
       "</style>\n",
       "<table border=\"1\" class=\"dataframe\">\n",
       "  <thead>\n",
       "    <tr style=\"text-align: right;\">\n",
       "      <th></th>\n",
       "      <th>ISBN</th>\n",
       "      <th>Book-Title</th>\n",
       "      <th>Book-Author</th>\n",
       "      <th>Year-Of-Publication</th>\n",
       "      <th>Publisher</th>\n",
       "    </tr>\n",
       "  </thead>\n",
       "  <tbody>\n",
       "    <tr>\n",
       "      <th>0</th>\n",
       "      <td>0195153448</td>\n",
       "      <td>Classical Mythology</td>\n",
       "      <td>Mark P. O. Morford</td>\n",
       "      <td>2002</td>\n",
       "      <td>Oxford University Press</td>\n",
       "    </tr>\n",
       "    <tr>\n",
       "      <th>1</th>\n",
       "      <td>0002005018</td>\n",
       "      <td>Clara Callan</td>\n",
       "      <td>Richard Bruce Wright</td>\n",
       "      <td>2001</td>\n",
       "      <td>HarperFlamingo Canada</td>\n",
       "    </tr>\n",
       "    <tr>\n",
       "      <th>2</th>\n",
       "      <td>0060973129</td>\n",
       "      <td>Decision in Normandy</td>\n",
       "      <td>Carlo D'Este</td>\n",
       "      <td>1991</td>\n",
       "      <td>HarperPerennial</td>\n",
       "    </tr>\n",
       "    <tr>\n",
       "      <th>3</th>\n",
       "      <td>0374157065</td>\n",
       "      <td>Flu: The Story of the Great Influenza Pandemic...</td>\n",
       "      <td>Gina Bari Kolata</td>\n",
       "      <td>1999</td>\n",
       "      <td>Farrar Straus Giroux</td>\n",
       "    </tr>\n",
       "    <tr>\n",
       "      <th>4</th>\n",
       "      <td>0393045218</td>\n",
       "      <td>The Mummies of Urumchi</td>\n",
       "      <td>E. J. W. Barber</td>\n",
       "      <td>1999</td>\n",
       "      <td>W. W. Norton &amp;amp; Company</td>\n",
       "    </tr>\n",
       "  </tbody>\n",
       "</table>\n",
       "</div>"
      ],
      "text/plain": [
       "         ISBN                                         Book-Title  \\\n",
       "0  0195153448                                Classical Mythology   \n",
       "1  0002005018                                       Clara Callan   \n",
       "2  0060973129                               Decision in Normandy   \n",
       "3  0374157065  Flu: The Story of the Great Influenza Pandemic...   \n",
       "4  0393045218                             The Mummies of Urumchi   \n",
       "\n",
       "            Book-Author Year-Of-Publication                   Publisher  \n",
       "0    Mark P. O. Morford                2002     Oxford University Press  \n",
       "1  Richard Bruce Wright                2001       HarperFlamingo Canada  \n",
       "2          Carlo D'Este                1991             HarperPerennial  \n",
       "3      Gina Bari Kolata                1999        Farrar Straus Giroux  \n",
       "4       E. J. W. Barber                1999  W. W. Norton &amp; Company  "
      ]
     },
     "execution_count": 371,
     "metadata": {},
     "output_type": "execute_result"
    }
   ],
   "source": [
    "books.head(5)"
   ]
  },
  {
   "cell_type": "code",
   "execution_count": 372,
   "metadata": {},
   "outputs": [
    {
     "data": {
      "text/plain": [
       "ISBN                   0\n",
       "Book-Title             0\n",
       "Book-Author            0\n",
       "Year-Of-Publication    0\n",
       "Publisher              0\n",
       "dtype: int64"
      ]
     },
     "execution_count": 372,
     "metadata": {},
     "output_type": "execute_result"
    }
   ],
   "source": [
    "books.isnull().sum()"
   ]
  },
  {
   "cell_type": "code",
   "execution_count": 373,
   "metadata": {},
   "outputs": [
    {
     "data": {
      "text/plain": [
       "(271357, 5)"
      ]
     },
     "execution_count": 373,
     "metadata": {},
     "output_type": "execute_result"
    }
   ],
   "source": [
    "books.shape"
   ]
  },
  {
   "cell_type": "code",
   "execution_count": 374,
   "metadata": {},
   "outputs": [
    {
     "data": {
      "text/html": [
       "<div>\n",
       "<style scoped>\n",
       "    .dataframe tbody tr th:only-of-type {\n",
       "        vertical-align: middle;\n",
       "    }\n",
       "\n",
       "    .dataframe tbody tr th {\n",
       "        vertical-align: top;\n",
       "    }\n",
       "\n",
       "    .dataframe thead th {\n",
       "        text-align: right;\n",
       "    }\n",
       "</style>\n",
       "<table border=\"1\" class=\"dataframe\">\n",
       "  <thead>\n",
       "    <tr style=\"text-align: right;\">\n",
       "      <th></th>\n",
       "      <th>data_type</th>\n",
       "      <th>missing_val</th>\n",
       "      <th>missing_val_ratio</th>\n",
       "    </tr>\n",
       "  </thead>\n",
       "  <tbody>\n",
       "    <tr>\n",
       "      <th>ISBN</th>\n",
       "      <td>object</td>\n",
       "      <td>0</td>\n",
       "      <td>0</td>\n",
       "    </tr>\n",
       "    <tr>\n",
       "      <th>Book-Title</th>\n",
       "      <td>object</td>\n",
       "      <td>0</td>\n",
       "      <td>0</td>\n",
       "    </tr>\n",
       "    <tr>\n",
       "      <th>Book-Author</th>\n",
       "      <td>object</td>\n",
       "      <td>0</td>\n",
       "      <td>0</td>\n",
       "    </tr>\n",
       "    <tr>\n",
       "      <th>Year-Of-Publication</th>\n",
       "      <td>object</td>\n",
       "      <td>0</td>\n",
       "      <td>0</td>\n",
       "    </tr>\n",
       "    <tr>\n",
       "      <th>Publisher</th>\n",
       "      <td>object</td>\n",
       "      <td>0</td>\n",
       "      <td>0</td>\n",
       "    </tr>\n",
       "  </tbody>\n",
       "</table>\n",
       "</div>"
      ],
      "text/plain": [
       "                    data_type  missing_val  missing_val_ratio\n",
       "ISBN                   object            0                  0\n",
       "Book-Title             object            0                  0\n",
       "Book-Author            object            0                  0\n",
       "Year-Of-Publication    object            0                  0\n",
       "Publisher              object            0                  0"
      ]
     },
     "execution_count": 374,
     "metadata": {},
     "output_type": "execute_result"
    }
   ],
   "source": [
    "info_df = pd.DataFrame(books.dtypes)\n",
    "info_df['missing_val'] = books.isnull().sum()\n",
    "info_df['missing_val_ratio'] = (info_df['missing_val'] / books.shape[0] * 100).round().astype(int)\n",
    "info_df = info_df.rename(columns = {0:'data_type'})\n",
    "info_df"
   ]
  },
  {
   "cell_type": "code",
   "execution_count": 375,
   "metadata": {},
   "outputs": [
    {
     "data": {
      "text/html": [
       "<div>\n",
       "<style scoped>\n",
       "    .dataframe tbody tr th:only-of-type {\n",
       "        vertical-align: middle;\n",
       "    }\n",
       "\n",
       "    .dataframe tbody tr th {\n",
       "        vertical-align: top;\n",
       "    }\n",
       "\n",
       "    .dataframe thead th {\n",
       "        text-align: right;\n",
       "    }\n",
       "</style>\n",
       "<table border=\"1\" class=\"dataframe\">\n",
       "  <thead>\n",
       "    <tr style=\"text-align: right;\">\n",
       "      <th></th>\n",
       "      <th>ISBN</th>\n",
       "      <th>Book-Title</th>\n",
       "      <th>Book-Author</th>\n",
       "      <th>Year-Of-Publication</th>\n",
       "      <th>Publisher</th>\n",
       "    </tr>\n",
       "  </thead>\n",
       "  <tbody>\n",
       "    <tr>\n",
       "      <th>0</th>\n",
       "      <td>0195153448</td>\n",
       "      <td>Classical Mythology</td>\n",
       "      <td>Mark P. O. Morford</td>\n",
       "      <td>2002</td>\n",
       "      <td>Oxford University Press</td>\n",
       "    </tr>\n",
       "    <tr>\n",
       "      <th>1</th>\n",
       "      <td>0002005018</td>\n",
       "      <td>Clara Callan</td>\n",
       "      <td>Richard Bruce Wright</td>\n",
       "      <td>2001</td>\n",
       "      <td>HarperFlamingo Canada</td>\n",
       "    </tr>\n",
       "    <tr>\n",
       "      <th>2</th>\n",
       "      <td>0060973129</td>\n",
       "      <td>Decision in Normandy</td>\n",
       "      <td>Carlo D'Este</td>\n",
       "      <td>1991</td>\n",
       "      <td>HarperPerennial</td>\n",
       "    </tr>\n",
       "    <tr>\n",
       "      <th>3</th>\n",
       "      <td>0374157065</td>\n",
       "      <td>Flu: The Story of the Great Influenza Pandemic...</td>\n",
       "      <td>Gina Bari Kolata</td>\n",
       "      <td>1999</td>\n",
       "      <td>Farrar Straus Giroux</td>\n",
       "    </tr>\n",
       "    <tr>\n",
       "      <th>4</th>\n",
       "      <td>0393045218</td>\n",
       "      <td>The Mummies of Urumchi</td>\n",
       "      <td>E. J. W. Barber</td>\n",
       "      <td>1999</td>\n",
       "      <td>W. W. Norton &amp;amp; Company</td>\n",
       "    </tr>\n",
       "  </tbody>\n",
       "</table>\n",
       "</div>"
      ],
      "text/plain": [
       "         ISBN                                         Book-Title  \\\n",
       "0  0195153448                                Classical Mythology   \n",
       "1  0002005018                                       Clara Callan   \n",
       "2  0060973129                               Decision in Normandy   \n",
       "3  0374157065  Flu: The Story of the Great Influenza Pandemic...   \n",
       "4  0393045218                             The Mummies of Urumchi   \n",
       "\n",
       "            Book-Author Year-Of-Publication                   Publisher  \n",
       "0    Mark P. O. Morford                2002     Oxford University Press  \n",
       "1  Richard Bruce Wright                2001       HarperFlamingo Canada  \n",
       "2          Carlo D'Este                1991             HarperPerennial  \n",
       "3      Gina Bari Kolata                1999        Farrar Straus Giroux  \n",
       "4       E. J. W. Barber                1999  W. W. Norton &amp; Company  "
      ]
     },
     "execution_count": 375,
     "metadata": {},
     "output_type": "execute_result"
    }
   ],
   "source": [
    "import re\n",
    "\n",
    "def Year_Of_Publication(year):\n",
    "    match = re.search(r'\\d*', year)\n",
    "    if match:\n",
    "        if (match.group(len(match.groups())) < '2023') and (match.group(len(match.groups())) > '1800'):\n",
    "            return match.group(len(match.groups()))\n",
    "        return ''\n",
    "    return ''\n",
    "\n",
    "books['Year-Of-Publication'] = books['Year-Of-Publication'].apply(lambda x: Year_Of_Publication(str(x)))\n",
    "books.dropna()\n",
    "books = books[books['Year-Of-Publication'] != '']\n",
    "books.head(5)"
   ]
  },
  {
   "cell_type": "code",
   "execution_count": 376,
   "metadata": {},
   "outputs": [
    {
     "data": {
      "text/plain": [
       "'2021'"
      ]
     },
     "execution_count": 376,
     "metadata": {},
     "output_type": "execute_result"
    }
   ],
   "source": [
    "books['Year-Of-Publication'].max()"
   ]
  },
  {
   "cell_type": "code",
   "execution_count": 377,
   "metadata": {},
   "outputs": [
    {
     "data": {
      "text/plain": [
       "'1806'"
      ]
     },
     "execution_count": 377,
     "metadata": {},
     "output_type": "execute_result"
    }
   ],
   "source": [
    "books['Year-Of-Publication'].min()"
   ]
  },
  {
   "cell_type": "code",
   "execution_count": 378,
   "metadata": {
    "scrolled": true
   },
   "outputs": [
    {
     "data": {
      "text/plain": [
       "inf"
      ]
     },
     "execution_count": 378,
     "metadata": {},
     "output_type": "execute_result"
    }
   ],
   "source": [
    "books['Year-Of-Publication'].mean()"
   ]
  },
  {
   "cell_type": "code",
   "execution_count": 379,
   "metadata": {},
   "outputs": [
    {
     "data": {
      "text/plain": [
       "1996.0"
      ]
     },
     "execution_count": 379,
     "metadata": {},
     "output_type": "execute_result"
    }
   ],
   "source": [
    "books['Year-Of-Publication'].median()"
   ]
  },
  {
   "cell_type": "code",
   "execution_count": 380,
   "metadata": {},
   "outputs": [
    {
     "data": {
      "text/plain": [
       "count     266721\n",
       "unique       107\n",
       "top         2002\n",
       "freq       17626\n",
       "Name: Year-Of-Publication, dtype: object"
      ]
     },
     "execution_count": 380,
     "metadata": {},
     "output_type": "execute_result"
    }
   ],
   "source": [
    "books['Year-Of-Publication'].describe()"
   ]
  },
  {
   "cell_type": "code",
   "execution_count": 381,
   "metadata": {},
   "outputs": [
    {
     "data": {
      "text/plain": [
       "(266721, 5)"
      ]
     },
     "execution_count": 381,
     "metadata": {},
     "output_type": "execute_result"
    }
   ],
   "source": [
    "books.shape"
   ]
  },
  {
   "cell_type": "code",
   "execution_count": 382,
   "metadata": {},
   "outputs": [
    {
     "data": {
      "text/html": [
       "<div>\n",
       "<style scoped>\n",
       "    .dataframe tbody tr th:only-of-type {\n",
       "        vertical-align: middle;\n",
       "    }\n",
       "\n",
       "    .dataframe tbody tr th {\n",
       "        vertical-align: top;\n",
       "    }\n",
       "\n",
       "    .dataframe thead th {\n",
       "        text-align: right;\n",
       "    }\n",
       "</style>\n",
       "<table border=\"1\" class=\"dataframe\">\n",
       "  <thead>\n",
       "    <tr style=\"text-align: right;\">\n",
       "      <th></th>\n",
       "      <th>ISBN</th>\n",
       "      <th>Book-Title</th>\n",
       "      <th>Book-Author</th>\n",
       "      <th>Year-Of-Publication</th>\n",
       "      <th>Publisher</th>\n",
       "    </tr>\n",
       "  </thead>\n",
       "  <tbody>\n",
       "    <tr>\n",
       "      <th>0</th>\n",
       "      <td>0195153448</td>\n",
       "      <td>Classical Mythology</td>\n",
       "      <td>Mark P. O. Morford</td>\n",
       "      <td>2002</td>\n",
       "      <td>Oxford University Press</td>\n",
       "    </tr>\n",
       "    <tr>\n",
       "      <th>1</th>\n",
       "      <td>0002005018</td>\n",
       "      <td>Clara Callan</td>\n",
       "      <td>Richard Bruce Wright</td>\n",
       "      <td>2001</td>\n",
       "      <td>HarperFlamingo Canada</td>\n",
       "    </tr>\n",
       "    <tr>\n",
       "      <th>2</th>\n",
       "      <td>0060973129</td>\n",
       "      <td>Decision in Normandy</td>\n",
       "      <td>Carlo D'Este</td>\n",
       "      <td>1991</td>\n",
       "      <td>HarperPerennial</td>\n",
       "    </tr>\n",
       "    <tr>\n",
       "      <th>3</th>\n",
       "      <td>0374157065</td>\n",
       "      <td>Flu: The Story of the Great Influenza Pandemic...</td>\n",
       "      <td>Gina Bari Kolata</td>\n",
       "      <td>1999</td>\n",
       "      <td>Farrar Straus Giroux</td>\n",
       "    </tr>\n",
       "    <tr>\n",
       "      <th>4</th>\n",
       "      <td>0393045218</td>\n",
       "      <td>The Mummies of Urumchi</td>\n",
       "      <td>E. J. W. Barber</td>\n",
       "      <td>1999</td>\n",
       "      <td>W. W. Norton &amp;amp; Company</td>\n",
       "    </tr>\n",
       "  </tbody>\n",
       "</table>\n",
       "</div>"
      ],
      "text/plain": [
       "         ISBN                                         Book-Title  \\\n",
       "0  0195153448                                Classical Mythology   \n",
       "1  0002005018                                       Clara Callan   \n",
       "2  0060973129                               Decision in Normandy   \n",
       "3  0374157065  Flu: The Story of the Great Influenza Pandemic...   \n",
       "4  0393045218                             The Mummies of Urumchi   \n",
       "\n",
       "            Book-Author Year-Of-Publication                   Publisher  \n",
       "0    Mark P. O. Morford                2002     Oxford University Press  \n",
       "1  Richard Bruce Wright                2001       HarperFlamingo Canada  \n",
       "2          Carlo D'Este                1991             HarperPerennial  \n",
       "3      Gina Bari Kolata                1999        Farrar Straus Giroux  \n",
       "4       E. J. W. Barber                1999  W. W. Norton &amp; Company  "
      ]
     },
     "execution_count": 382,
     "metadata": {},
     "output_type": "execute_result"
    }
   ],
   "source": [
    "def C_ISBN(ISBN):\n",
    "    match = re.search(r'\\d*', ISBN)\n",
    "    if match:\n",
    "        return match.group(len(match.groups()))\n",
    "    return ''\n",
    "\n",
    "books['ISBN'] = books['ISBN'].apply(lambda x: C_ISBN(str(x)))\n",
    "books.dropna()\n",
    "books = books[books['ISBN'] != '']\n",
    "books.head(5)"
   ]
  },
  {
   "cell_type": "code",
   "execution_count": 383,
   "metadata": {},
   "outputs": [
    {
     "data": {
      "text/plain": [
       "'9999999999'"
      ]
     },
     "execution_count": 383,
     "metadata": {},
     "output_type": "execute_result"
    }
   ],
   "source": [
    "books['ISBN'].max()"
   ]
  },
  {
   "cell_type": "code",
   "execution_count": 384,
   "metadata": {},
   "outputs": [
    {
     "data": {
      "text/plain": [
       "'0000913154'"
      ]
     },
     "execution_count": 384,
     "metadata": {},
     "output_type": "execute_result"
    }
   ],
   "source": [
    "books['ISBN'].min()"
   ]
  },
  {
   "cell_type": "code",
   "execution_count": 385,
   "metadata": {},
   "outputs": [
    {
     "data": {
      "text/plain": [
       "count        266662\n",
       "unique       266353\n",
       "top       055321232\n",
       "freq              2\n",
       "Name: ISBN, dtype: object"
      ]
     },
     "execution_count": 385,
     "metadata": {},
     "output_type": "execute_result"
    }
   ],
   "source": [
    "books['ISBN'].describe()"
   ]
  },
  {
   "cell_type": "code",
   "execution_count": 386,
   "metadata": {},
   "outputs": [
    {
     "data": {
      "text/plain": [
       "(266662, 5)"
      ]
     },
     "execution_count": 386,
     "metadata": {},
     "output_type": "execute_result"
    }
   ],
   "source": [
    "books.shape"
   ]
  },
  {
   "cell_type": "code",
   "execution_count": 387,
   "metadata": {},
   "outputs": [],
   "source": [
    "books = books.sample(1500)"
   ]
  },
  {
   "cell_type": "code",
   "execution_count": 388,
   "metadata": {},
   "outputs": [
    {
     "data": {
      "text/html": [
       "<div>\n",
       "<style scoped>\n",
       "    .dataframe tbody tr th:only-of-type {\n",
       "        vertical-align: middle;\n",
       "    }\n",
       "\n",
       "    .dataframe tbody tr th {\n",
       "        vertical-align: top;\n",
       "    }\n",
       "\n",
       "    .dataframe thead th {\n",
       "        text-align: right;\n",
       "    }\n",
       "</style>\n",
       "<table border=\"1\" class=\"dataframe\">\n",
       "  <thead>\n",
       "    <tr style=\"text-align: right;\">\n",
       "      <th></th>\n",
       "      <th>User-ID</th>\n",
       "      <th>ISBN</th>\n",
       "      <th>Book-Rating</th>\n",
       "    </tr>\n",
       "  </thead>\n",
       "  <tbody>\n",
       "    <tr>\n",
       "      <th>0</th>\n",
       "      <td>276725</td>\n",
       "      <td>034545104X</td>\n",
       "      <td>0</td>\n",
       "    </tr>\n",
       "    <tr>\n",
       "      <th>1</th>\n",
       "      <td>276726</td>\n",
       "      <td>0155061224</td>\n",
       "      <td>5</td>\n",
       "    </tr>\n",
       "    <tr>\n",
       "      <th>2</th>\n",
       "      <td>276727</td>\n",
       "      <td>0446520802</td>\n",
       "      <td>0</td>\n",
       "    </tr>\n",
       "    <tr>\n",
       "      <th>3</th>\n",
       "      <td>276729</td>\n",
       "      <td>052165615X</td>\n",
       "      <td>3</td>\n",
       "    </tr>\n",
       "    <tr>\n",
       "      <th>4</th>\n",
       "      <td>276729</td>\n",
       "      <td>0521795028</td>\n",
       "      <td>6</td>\n",
       "    </tr>\n",
       "  </tbody>\n",
       "</table>\n",
       "</div>"
      ],
      "text/plain": [
       "   User-ID        ISBN  Book-Rating\n",
       "0   276725  034545104X            0\n",
       "1   276726  0155061224            5\n",
       "2   276727  0446520802            0\n",
       "3   276729  052165615X            3\n",
       "4   276729  0521795028            6"
      ]
     },
     "execution_count": 388,
     "metadata": {},
     "output_type": "execute_result"
    }
   ],
   "source": [
    "ratings = pd.read_csv('Ratings.csv', header=0)\n",
    "ratings.head(5)"
   ]
  },
  {
   "cell_type": "code",
   "execution_count": 389,
   "metadata": {},
   "outputs": [
    {
     "data": {
      "text/plain": [
       "(1149780, 3)"
      ]
     },
     "execution_count": 389,
     "metadata": {},
     "output_type": "execute_result"
    }
   ],
   "source": [
    "ratings.shape"
   ]
  },
  {
   "cell_type": "code",
   "execution_count": 390,
   "metadata": {},
   "outputs": [
    {
     "data": {
      "text/plain": [
       "User-ID        0\n",
       "ISBN           0\n",
       "Book-Rating    0\n",
       "dtype: int64"
      ]
     },
     "execution_count": 390,
     "metadata": {},
     "output_type": "execute_result"
    }
   ],
   "source": [
    "ratings.isnull().sum()"
   ]
  },
  {
   "cell_type": "code",
   "execution_count": 391,
   "metadata": {},
   "outputs": [],
   "source": [
    "ratings = ratings[ratings['Book-Rating'] != '']\n",
    "ratings = ratings[ratings['Book-Rating'] != 0]\n",
    "ratings = ratings[ratings['ISBN'] != '']\n",
    "ratings = ratings[ratings['User-ID'] != '']\n",
    "ratings = ratings[ratings['Book-Rating'] != ' ']\n",
    "ratings = ratings[ratings['ISBN'] != ' ']\n",
    "ratings = ratings[ratings['User-ID'] != ' ']"
   ]
  },
  {
   "cell_type": "code",
   "execution_count": 392,
   "metadata": {},
   "outputs": [
    {
     "data": {
      "text/html": [
       "<div>\n",
       "<style scoped>\n",
       "    .dataframe tbody tr th:only-of-type {\n",
       "        vertical-align: middle;\n",
       "    }\n",
       "\n",
       "    .dataframe tbody tr th {\n",
       "        vertical-align: top;\n",
       "    }\n",
       "\n",
       "    .dataframe thead th {\n",
       "        text-align: right;\n",
       "    }\n",
       "</style>\n",
       "<table border=\"1\" class=\"dataframe\">\n",
       "  <thead>\n",
       "    <tr style=\"text-align: right;\">\n",
       "      <th></th>\n",
       "      <th>User-ID</th>\n",
       "      <th>ISBN</th>\n",
       "      <th>Book-Rating</th>\n",
       "    </tr>\n",
       "  </thead>\n",
       "  <tbody>\n",
       "    <tr>\n",
       "      <th>1</th>\n",
       "      <td>276726</td>\n",
       "      <td>0155061224</td>\n",
       "      <td>5</td>\n",
       "    </tr>\n",
       "    <tr>\n",
       "      <th>3</th>\n",
       "      <td>276729</td>\n",
       "      <td>052165615X</td>\n",
       "      <td>3</td>\n",
       "    </tr>\n",
       "    <tr>\n",
       "      <th>4</th>\n",
       "      <td>276729</td>\n",
       "      <td>0521795028</td>\n",
       "      <td>6</td>\n",
       "    </tr>\n",
       "    <tr>\n",
       "      <th>6</th>\n",
       "      <td>276736</td>\n",
       "      <td>3257224281</td>\n",
       "      <td>8</td>\n",
       "    </tr>\n",
       "    <tr>\n",
       "      <th>7</th>\n",
       "      <td>276737</td>\n",
       "      <td>0600570967</td>\n",
       "      <td>6</td>\n",
       "    </tr>\n",
       "  </tbody>\n",
       "</table>\n",
       "</div>"
      ],
      "text/plain": [
       "   User-ID        ISBN  Book-Rating\n",
       "1   276726  0155061224            5\n",
       "3   276729  052165615X            3\n",
       "4   276729  0521795028            6\n",
       "6   276736  3257224281            8\n",
       "7   276737  0600570967            6"
      ]
     },
     "execution_count": 392,
     "metadata": {},
     "output_type": "execute_result"
    }
   ],
   "source": [
    "ratings = ratings[~ratings['User-ID'].isna()]\n",
    "ratings = ratings[~ratings['ISBN'].isna()]\n",
    "ratings = ratings[~ratings['Book-Rating'].isna()]\n",
    "ratings.head()"
   ]
  },
  {
   "cell_type": "code",
   "execution_count": 393,
   "metadata": {},
   "outputs": [
    {
     "data": {
      "text/plain": [
       "(433671, 3)"
      ]
     },
     "execution_count": 393,
     "metadata": {},
     "output_type": "execute_result"
    }
   ],
   "source": [
    "ratings.shape"
   ]
  },
  {
   "cell_type": "code",
   "execution_count": 394,
   "metadata": {
    "scrolled": true
   },
   "outputs": [
    {
     "data": {
      "text/html": [
       "<div>\n",
       "<style scoped>\n",
       "    .dataframe tbody tr th:only-of-type {\n",
       "        vertical-align: middle;\n",
       "    }\n",
       "\n",
       "    .dataframe tbody tr th {\n",
       "        vertical-align: top;\n",
       "    }\n",
       "\n",
       "    .dataframe thead th {\n",
       "        text-align: right;\n",
       "    }\n",
       "</style>\n",
       "<table border=\"1\" class=\"dataframe\">\n",
       "  <thead>\n",
       "    <tr style=\"text-align: right;\">\n",
       "      <th></th>\n",
       "      <th>User-ID</th>\n",
       "      <th>ISBN</th>\n",
       "      <th>Book-Rating</th>\n",
       "    </tr>\n",
       "  </thead>\n",
       "  <tbody>\n",
       "    <tr>\n",
       "      <th>1</th>\n",
       "      <td>276726</td>\n",
       "      <td>0155061224</td>\n",
       "      <td>5</td>\n",
       "    </tr>\n",
       "    <tr>\n",
       "      <th>3</th>\n",
       "      <td>276729</td>\n",
       "      <td>052165615</td>\n",
       "      <td>3</td>\n",
       "    </tr>\n",
       "    <tr>\n",
       "      <th>4</th>\n",
       "      <td>276729</td>\n",
       "      <td>0521795028</td>\n",
       "      <td>6</td>\n",
       "    </tr>\n",
       "    <tr>\n",
       "      <th>6</th>\n",
       "      <td>276736</td>\n",
       "      <td>3257224281</td>\n",
       "      <td>8</td>\n",
       "    </tr>\n",
       "    <tr>\n",
       "      <th>7</th>\n",
       "      <td>276737</td>\n",
       "      <td>0600570967</td>\n",
       "      <td>6</td>\n",
       "    </tr>\n",
       "  </tbody>\n",
       "</table>\n",
       "</div>"
      ],
      "text/plain": [
       "   User-ID        ISBN  Book-Rating\n",
       "1   276726  0155061224            5\n",
       "3   276729   052165615            3\n",
       "4   276729  0521795028            6\n",
       "6   276736  3257224281            8\n",
       "7   276737  0600570967            6"
      ]
     },
     "execution_count": 394,
     "metadata": {},
     "output_type": "execute_result"
    }
   ],
   "source": [
    "ratings['ISBN'] = ratings['ISBN'].apply(lambda x: C_ISBN(str(x)))\n",
    "ratings.dropna()\n",
    "ratings = ratings[ratings['ISBN'] != '']\n",
    "ratings.head(5)"
   ]
  },
  {
   "cell_type": "code",
   "execution_count": 395,
   "metadata": {},
   "outputs": [
    {
     "data": {
      "text/html": [
       "<div>\n",
       "<style scoped>\n",
       "    .dataframe tbody tr th:only-of-type {\n",
       "        vertical-align: middle;\n",
       "    }\n",
       "\n",
       "    .dataframe tbody tr th {\n",
       "        vertical-align: top;\n",
       "    }\n",
       "\n",
       "    .dataframe thead th {\n",
       "        text-align: right;\n",
       "    }\n",
       "</style>\n",
       "<table border=\"1\" class=\"dataframe\">\n",
       "  <thead>\n",
       "    <tr style=\"text-align: right;\">\n",
       "      <th></th>\n",
       "      <th>User-ID</th>\n",
       "      <th>ISBN</th>\n",
       "      <th>Book-Rating</th>\n",
       "    </tr>\n",
       "  </thead>\n",
       "  <tbody>\n",
       "    <tr>\n",
       "      <th>1</th>\n",
       "      <td>276726</td>\n",
       "      <td>0155061224</td>\n",
       "      <td>5</td>\n",
       "    </tr>\n",
       "    <tr>\n",
       "      <th>3</th>\n",
       "      <td>276729</td>\n",
       "      <td>052165615</td>\n",
       "      <td>3</td>\n",
       "    </tr>\n",
       "    <tr>\n",
       "      <th>4</th>\n",
       "      <td>276729</td>\n",
       "      <td>0521795028</td>\n",
       "      <td>6</td>\n",
       "    </tr>\n",
       "    <tr>\n",
       "      <th>6</th>\n",
       "      <td>276736</td>\n",
       "      <td>3257224281</td>\n",
       "      <td>8</td>\n",
       "    </tr>\n",
       "    <tr>\n",
       "      <th>7</th>\n",
       "      <td>276737</td>\n",
       "      <td>0600570967</td>\n",
       "      <td>6</td>\n",
       "    </tr>\n",
       "  </tbody>\n",
       "</table>\n",
       "</div>"
      ],
      "text/plain": [
       "  User-ID        ISBN  Book-Rating\n",
       "1  276726  0155061224            5\n",
       "3  276729   052165615            3\n",
       "4  276729  0521795028            6\n",
       "6  276736  3257224281            8\n",
       "7  276737  0600570967            6"
      ]
     },
     "execution_count": 395,
     "metadata": {},
     "output_type": "execute_result"
    }
   ],
   "source": [
    "ratings['User-ID'] = ratings['User-ID'].apply(lambda x: C_ISBN(str(x)))\n",
    "ratings.dropna()\n",
    "ratings = ratings[ratings['User-ID'] != '']\n",
    "ratings.head(5)"
   ]
  },
  {
   "cell_type": "code",
   "execution_count": 396,
   "metadata": {},
   "outputs": [
    {
     "data": {
      "text/plain": [
       "(433115, 3)"
      ]
     },
     "execution_count": 396,
     "metadata": {},
     "output_type": "execute_result"
    }
   ],
   "source": [
    "ratings.shape"
   ]
  },
  {
   "cell_type": "code",
   "execution_count": 397,
   "metadata": {},
   "outputs": [
    {
     "data": {
      "text/plain": [
       "10"
      ]
     },
     "execution_count": 397,
     "metadata": {},
     "output_type": "execute_result"
    }
   ],
   "source": [
    "ratings['Book-Rating'].max()"
   ]
  },
  {
   "cell_type": "code",
   "execution_count": 398,
   "metadata": {},
   "outputs": [
    {
     "data": {
      "text/plain": [
       "1"
      ]
     },
     "execution_count": 398,
     "metadata": {},
     "output_type": "execute_result"
    }
   ],
   "source": [
    "ratings['Book-Rating'].min()"
   ]
  },
  {
   "cell_type": "code",
   "execution_count": 399,
   "metadata": {},
   "outputs": [
    {
     "data": {
      "text/plain": [
       "'9999999999999'"
      ]
     },
     "execution_count": 399,
     "metadata": {},
     "output_type": "execute_result"
    }
   ],
   "source": [
    "ratings['ISBN'].max()"
   ]
  },
  {
   "cell_type": "code",
   "execution_count": 400,
   "metadata": {},
   "outputs": [
    {
     "data": {
      "text/plain": [
       "'0'"
      ]
     },
     "execution_count": 400,
     "metadata": {},
     "output_type": "execute_result"
    }
   ],
   "source": [
    "ratings['ISBN'].min()"
   ]
  },
  {
   "cell_type": "code",
   "execution_count": 401,
   "metadata": {},
   "outputs": [
    {
     "data": {
      "text/plain": [
       "'99998'"
      ]
     },
     "execution_count": 401,
     "metadata": {},
     "output_type": "execute_result"
    }
   ],
   "source": [
    "ratings['User-ID'].max()"
   ]
  },
  {
   "cell_type": "code",
   "execution_count": 402,
   "metadata": {},
   "outputs": [
    {
     "data": {
      "text/plain": [
       "'10'"
      ]
     },
     "execution_count": 402,
     "metadata": {},
     "output_type": "execute_result"
    }
   ],
   "source": [
    "ratings['User-ID'].min()"
   ]
  },
  {
   "cell_type": "code",
   "execution_count": 403,
   "metadata": {},
   "outputs": [
    {
     "data": {
      "text/html": [
       "<div>\n",
       "<style scoped>\n",
       "    .dataframe tbody tr th:only-of-type {\n",
       "        vertical-align: middle;\n",
       "    }\n",
       "\n",
       "    .dataframe tbody tr th {\n",
       "        vertical-align: top;\n",
       "    }\n",
       "\n",
       "    .dataframe thead th {\n",
       "        text-align: right;\n",
       "    }\n",
       "</style>\n",
       "<table border=\"1\" class=\"dataframe\">\n",
       "  <thead>\n",
       "    <tr style=\"text-align: right;\">\n",
       "      <th></th>\n",
       "      <th>data_type</th>\n",
       "      <th>missing_val</th>\n",
       "      <th>missing_val_ratio</th>\n",
       "    </tr>\n",
       "  </thead>\n",
       "  <tbody>\n",
       "    <tr>\n",
       "      <th>User-ID</th>\n",
       "      <td>object</td>\n",
       "      <td>0</td>\n",
       "      <td>0</td>\n",
       "    </tr>\n",
       "    <tr>\n",
       "      <th>ISBN</th>\n",
       "      <td>object</td>\n",
       "      <td>0</td>\n",
       "      <td>0</td>\n",
       "    </tr>\n",
       "    <tr>\n",
       "      <th>Book-Rating</th>\n",
       "      <td>int64</td>\n",
       "      <td>0</td>\n",
       "      <td>0</td>\n",
       "    </tr>\n",
       "  </tbody>\n",
       "</table>\n",
       "</div>"
      ],
      "text/plain": [
       "            data_type  missing_val  missing_val_ratio\n",
       "User-ID        object            0                  0\n",
       "ISBN           object            0                  0\n",
       "Book-Rating     int64            0                  0"
      ]
     },
     "execution_count": 403,
     "metadata": {},
     "output_type": "execute_result"
    }
   ],
   "source": [
    "info_df = pd.DataFrame(ratings.dtypes)\n",
    "info_df['missing_val'] = ratings.isnull().sum()\n",
    "info_df['missing_val_ratio'] = (info_df['missing_val'] / ratings.shape[0] * 100).round().astype(int)\n",
    "info_df = info_df.rename(columns = {0:'data_type'})\n",
    "info_df"
   ]
  },
  {
   "cell_type": "code",
   "execution_count": 404,
   "metadata": {},
   "outputs": [],
   "source": [
    "ids = books['ISBN'].values\n",
    "ratings = ratings[ratings['ISBN'].isin(ids)]"
   ]
  },
  {
   "cell_type": "code",
   "execution_count": 405,
   "metadata": {},
   "outputs": [
    {
     "data": {
      "text/plain": [
       "(2243, 3)"
      ]
     },
     "execution_count": 405,
     "metadata": {},
     "output_type": "execute_result"
    }
   ],
   "source": [
    "ratings.shape"
   ]
  },
  {
   "cell_type": "code",
   "execution_count": 406,
   "metadata": {},
   "outputs": [
    {
     "data": {
      "text/html": [
       "<div>\n",
       "<style scoped>\n",
       "    .dataframe tbody tr th:only-of-type {\n",
       "        vertical-align: middle;\n",
       "    }\n",
       "\n",
       "    .dataframe tbody tr th {\n",
       "        vertical-align: top;\n",
       "    }\n",
       "\n",
       "    .dataframe thead th {\n",
       "        text-align: right;\n",
       "    }\n",
       "</style>\n",
       "<table border=\"1\" class=\"dataframe\">\n",
       "  <thead>\n",
       "    <tr style=\"text-align: right;\">\n",
       "      <th></th>\n",
       "      <th>User-ID</th>\n",
       "      <th>Location</th>\n",
       "      <th>Age</th>\n",
       "    </tr>\n",
       "  </thead>\n",
       "  <tbody>\n",
       "    <tr>\n",
       "      <th>0</th>\n",
       "      <td>1</td>\n",
       "      <td>nyc, new york, usa</td>\n",
       "      <td>NaN</td>\n",
       "    </tr>\n",
       "    <tr>\n",
       "      <th>1</th>\n",
       "      <td>2</td>\n",
       "      <td>stockton, california, usa</td>\n",
       "      <td>18.0</td>\n",
       "    </tr>\n",
       "    <tr>\n",
       "      <th>2</th>\n",
       "      <td>3</td>\n",
       "      <td>moscow, yukon territory, russia</td>\n",
       "      <td>NaN</td>\n",
       "    </tr>\n",
       "    <tr>\n",
       "      <th>3</th>\n",
       "      <td>4</td>\n",
       "      <td>porto, v.n.gaia, portugal</td>\n",
       "      <td>17.0</td>\n",
       "    </tr>\n",
       "    <tr>\n",
       "      <th>4</th>\n",
       "      <td>5</td>\n",
       "      <td>farnborough, hants, united kingdom</td>\n",
       "      <td>NaN</td>\n",
       "    </tr>\n",
       "  </tbody>\n",
       "</table>\n",
       "</div>"
      ],
      "text/plain": [
       "   User-ID                            Location   Age\n",
       "0        1                  nyc, new york, usa   NaN\n",
       "1        2           stockton, california, usa  18.0\n",
       "2        3     moscow, yukon territory, russia   NaN\n",
       "3        4           porto, v.n.gaia, portugal  17.0\n",
       "4        5  farnborough, hants, united kingdom   NaN"
      ]
     },
     "execution_count": 406,
     "metadata": {},
     "output_type": "execute_result"
    }
   ],
   "source": [
    "users = pd.read_csv('Users.csv', header=0)\n",
    "users.head(5)"
   ]
  },
  {
   "cell_type": "code",
   "execution_count": 407,
   "metadata": {},
   "outputs": [
    {
     "data": {
      "text/plain": [
       "(278858, 3)"
      ]
     },
     "execution_count": 407,
     "metadata": {},
     "output_type": "execute_result"
    }
   ],
   "source": [
    "users.shape"
   ]
  },
  {
   "cell_type": "code",
   "execution_count": 408,
   "metadata": {},
   "outputs": [
    {
     "data": {
      "text/plain": [
       "User-ID          0\n",
       "Location         0\n",
       "Age         110762\n",
       "dtype: int64"
      ]
     },
     "execution_count": 408,
     "metadata": {},
     "output_type": "execute_result"
    }
   ],
   "source": [
    "users.isnull().sum()"
   ]
  },
  {
   "cell_type": "code",
   "execution_count": 409,
   "metadata": {},
   "outputs": [
    {
     "data": {
      "text/html": [
       "<div>\n",
       "<style scoped>\n",
       "    .dataframe tbody tr th:only-of-type {\n",
       "        vertical-align: middle;\n",
       "    }\n",
       "\n",
       "    .dataframe tbody tr th {\n",
       "        vertical-align: top;\n",
       "    }\n",
       "\n",
       "    .dataframe thead th {\n",
       "        text-align: right;\n",
       "    }\n",
       "</style>\n",
       "<table border=\"1\" class=\"dataframe\">\n",
       "  <thead>\n",
       "    <tr style=\"text-align: right;\">\n",
       "      <th></th>\n",
       "      <th>User-ID</th>\n",
       "      <th>Location</th>\n",
       "      <th>Age</th>\n",
       "    </tr>\n",
       "  </thead>\n",
       "  <tbody>\n",
       "    <tr>\n",
       "      <th>0</th>\n",
       "      <td>1</td>\n",
       "      <td>nyc, new york, usa</td>\n",
       "      <td>NaN</td>\n",
       "    </tr>\n",
       "    <tr>\n",
       "      <th>1</th>\n",
       "      <td>2</td>\n",
       "      <td>stockton, california, usa</td>\n",
       "      <td>18.0</td>\n",
       "    </tr>\n",
       "    <tr>\n",
       "      <th>2</th>\n",
       "      <td>3</td>\n",
       "      <td>moscow, yukon territory, russia</td>\n",
       "      <td>NaN</td>\n",
       "    </tr>\n",
       "    <tr>\n",
       "      <th>3</th>\n",
       "      <td>4</td>\n",
       "      <td>porto, v.n.gaia, portugal</td>\n",
       "      <td>17.0</td>\n",
       "    </tr>\n",
       "    <tr>\n",
       "      <th>4</th>\n",
       "      <td>5</td>\n",
       "      <td>farnborough, hants, united kingdom</td>\n",
       "      <td>NaN</td>\n",
       "    </tr>\n",
       "  </tbody>\n",
       "</table>\n",
       "</div>"
      ],
      "text/plain": [
       "  User-ID                            Location   Age\n",
       "0       1                  nyc, new york, usa   NaN\n",
       "1       2           stockton, california, usa  18.0\n",
       "2       3     moscow, yukon territory, russia   NaN\n",
       "3       4           porto, v.n.gaia, portugal  17.0\n",
       "4       5  farnborough, hants, united kingdom   NaN"
      ]
     },
     "execution_count": 409,
     "metadata": {},
     "output_type": "execute_result"
    }
   ],
   "source": [
    "users['User-ID'] = users['User-ID'].apply(lambda x: C_ISBN(str(x)))\n",
    "users.dropna()\n",
    "users = users[users['User-ID'] != '']\n",
    "users = users[users['Location'] != '']\n",
    "users = users[~users['User-ID'].isna()]\n",
    "users = users[~users['Location'].isna()]\n",
    "users.head(5)"
   ]
  },
  {
   "cell_type": "code",
   "execution_count": 410,
   "metadata": {},
   "outputs": [
    {
     "data": {
      "text/plain": [
       "'99999'"
      ]
     },
     "execution_count": 410,
     "metadata": {},
     "output_type": "execute_result"
    }
   ],
   "source": [
    "users['User-ID'].max()"
   ]
  },
  {
   "cell_type": "code",
   "execution_count": 411,
   "metadata": {},
   "outputs": [
    {
     "data": {
      "text/plain": [
       "'1'"
      ]
     },
     "execution_count": 411,
     "metadata": {},
     "output_type": "execute_result"
    }
   ],
   "source": [
    "users['User-ID'].min()"
   ]
  },
  {
   "cell_type": "code",
   "execution_count": 412,
   "metadata": {},
   "outputs": [],
   "source": [
    "ids = ratings['User-ID'].values\n",
    "users = users[users['User-ID'].isin(ids)]"
   ]
  },
  {
   "cell_type": "code",
   "execution_count": 413,
   "metadata": {},
   "outputs": [
    {
     "data": {
      "text/plain": [
       "(1812, 3)"
      ]
     },
     "execution_count": 413,
     "metadata": {},
     "output_type": "execute_result"
    }
   ],
   "source": [
    "users.shape"
   ]
  },
  {
   "cell_type": "code",
   "execution_count": 414,
   "metadata": {},
   "outputs": [
    {
     "data": {
      "text/html": [
       "<div>\n",
       "<style scoped>\n",
       "    .dataframe tbody tr th:only-of-type {\n",
       "        vertical-align: middle;\n",
       "    }\n",
       "\n",
       "    .dataframe tbody tr th {\n",
       "        vertical-align: top;\n",
       "    }\n",
       "\n",
       "    .dataframe thead th {\n",
       "        text-align: right;\n",
       "    }\n",
       "</style>\n",
       "<table border=\"1\" class=\"dataframe\">\n",
       "  <thead>\n",
       "    <tr style=\"text-align: right;\">\n",
       "      <th></th>\n",
       "      <th>User-ID</th>\n",
       "      <th>Location</th>\n",
       "      <th>Age</th>\n",
       "    </tr>\n",
       "  </thead>\n",
       "  <tbody>\n",
       "    <tr>\n",
       "      <th>253</th>\n",
       "      <td>254</td>\n",
       "      <td>minneapolis, minnesota, usa</td>\n",
       "      <td>24.0</td>\n",
       "    </tr>\n",
       "    <tr>\n",
       "      <th>336</th>\n",
       "      <td>337</td>\n",
       "      <td>málaga, n/a, spain</td>\n",
       "      <td>17.0</td>\n",
       "    </tr>\n",
       "    <tr>\n",
       "      <th>407</th>\n",
       "      <td>408</td>\n",
       "      <td>mountain view, california, usa</td>\n",
       "      <td>17.0</td>\n",
       "    </tr>\n",
       "    <tr>\n",
       "      <th>439</th>\n",
       "      <td>440</td>\n",
       "      <td>brookfield, wisconsin, usa</td>\n",
       "      <td>16.0</td>\n",
       "    </tr>\n",
       "    <tr>\n",
       "      <th>928</th>\n",
       "      <td>929</td>\n",
       "      <td>king of prussia, ,</td>\n",
       "      <td>36.0</td>\n",
       "    </tr>\n",
       "  </tbody>\n",
       "</table>\n",
       "</div>"
      ],
      "text/plain": [
       "    User-ID                        Location   Age\n",
       "253     254     minneapolis, minnesota, usa  24.0\n",
       "336     337              málaga, n/a, spain  17.0\n",
       "407     408  mountain view, california, usa  17.0\n",
       "439     440      brookfield, wisconsin, usa  16.0\n",
       "928     929              king of prussia, ,  36.0"
      ]
     },
     "execution_count": 414,
     "metadata": {},
     "output_type": "execute_result"
    }
   ],
   "source": [
    "users.head()"
   ]
  },
  {
   "cell_type": "code",
   "execution_count": 415,
   "metadata": {},
   "outputs": [
    {
     "data": {
      "text/plain": [
       "User-ID       0\n",
       "Location      0\n",
       "Age         545\n",
       "dtype: int64"
      ]
     },
     "execution_count": 415,
     "metadata": {},
     "output_type": "execute_result"
    }
   ],
   "source": [
    "users.isnull().sum()"
   ]
  },
  {
   "cell_type": "code",
   "execution_count": 416,
   "metadata": {},
   "outputs": [],
   "source": [
    "users = users[~users['Age'].isna()]\n",
    "users = users[users['Age'] != '']"
   ]
  },
  {
   "cell_type": "code",
   "execution_count": 417,
   "metadata": {},
   "outputs": [
    {
     "name": "stdout",
     "output_type": "stream",
     "text": [
      "(1267, 3)\n"
     ]
    },
    {
     "data": {
      "text/html": [
       "<div>\n",
       "<style scoped>\n",
       "    .dataframe tbody tr th:only-of-type {\n",
       "        vertical-align: middle;\n",
       "    }\n",
       "\n",
       "    .dataframe tbody tr th {\n",
       "        vertical-align: top;\n",
       "    }\n",
       "\n",
       "    .dataframe thead th {\n",
       "        text-align: right;\n",
       "    }\n",
       "</style>\n",
       "<table border=\"1\" class=\"dataframe\">\n",
       "  <thead>\n",
       "    <tr style=\"text-align: right;\">\n",
       "      <th></th>\n",
       "      <th>User-ID</th>\n",
       "      <th>Location</th>\n",
       "      <th>Age</th>\n",
       "    </tr>\n",
       "  </thead>\n",
       "  <tbody>\n",
       "    <tr>\n",
       "      <th>253</th>\n",
       "      <td>254</td>\n",
       "      <td>minneapolis, minnesota, usa</td>\n",
       "      <td>24.0</td>\n",
       "    </tr>\n",
       "    <tr>\n",
       "      <th>336</th>\n",
       "      <td>337</td>\n",
       "      <td>málaga, n/a, spain</td>\n",
       "      <td>17.0</td>\n",
       "    </tr>\n",
       "    <tr>\n",
       "      <th>407</th>\n",
       "      <td>408</td>\n",
       "      <td>mountain view, california, usa</td>\n",
       "      <td>17.0</td>\n",
       "    </tr>\n",
       "    <tr>\n",
       "      <th>439</th>\n",
       "      <td>440</td>\n",
       "      <td>brookfield, wisconsin, usa</td>\n",
       "      <td>16.0</td>\n",
       "    </tr>\n",
       "    <tr>\n",
       "      <th>928</th>\n",
       "      <td>929</td>\n",
       "      <td>king of prussia, ,</td>\n",
       "      <td>36.0</td>\n",
       "    </tr>\n",
       "  </tbody>\n",
       "</table>\n",
       "</div>"
      ],
      "text/plain": [
       "    User-ID                        Location   Age\n",
       "253     254     minneapolis, minnesota, usa  24.0\n",
       "336     337              málaga, n/a, spain  17.0\n",
       "407     408  mountain view, california, usa  17.0\n",
       "439     440      brookfield, wisconsin, usa  16.0\n",
       "928     929              king of prussia, ,  36.0"
      ]
     },
     "execution_count": 417,
     "metadata": {},
     "output_type": "execute_result"
    }
   ],
   "source": [
    "print(users.shape)\n",
    "users.head()"
   ]
  },
  {
   "cell_type": "code",
   "execution_count": 418,
   "metadata": {},
   "outputs": [
    {
     "data": {
      "text/plain": [
       "209.0"
      ]
     },
     "execution_count": 418,
     "metadata": {},
     "output_type": "execute_result"
    }
   ],
   "source": [
    "users['Age'].max()"
   ]
  },
  {
   "cell_type": "code",
   "execution_count": 419,
   "metadata": {},
   "outputs": [
    {
     "data": {
      "text/plain": [
       "1.0"
      ]
     },
     "execution_count": 419,
     "metadata": {},
     "output_type": "execute_result"
    }
   ],
   "source": [
    "users['Age'].min()"
   ]
  },
  {
   "cell_type": "code",
   "execution_count": 420,
   "metadata": {},
   "outputs": [
    {
     "data": {
      "text/plain": [
       "36.26835043409629"
      ]
     },
     "execution_count": 420,
     "metadata": {},
     "output_type": "execute_result"
    }
   ],
   "source": [
    "users['Age'].mean()"
   ]
  },
  {
   "cell_type": "code",
   "execution_count": 421,
   "metadata": {},
   "outputs": [
    {
     "data": {
      "text/plain": [
       "34.0"
      ]
     },
     "execution_count": 421,
     "metadata": {},
     "output_type": "execute_result"
    }
   ],
   "source": [
    "users['Age'].median()"
   ]
  },
  {
   "cell_type": "code",
   "execution_count": 422,
   "metadata": {},
   "outputs": [
    {
     "data": {
      "text/plain": [
       "count    1267.000000\n",
       "mean       36.268350\n",
       "std        14.926962\n",
       "min         1.000000\n",
       "25%        27.000000\n",
       "50%        34.000000\n",
       "75%        44.000000\n",
       "max       209.000000\n",
       "Name: Age, dtype: float64"
      ]
     },
     "execution_count": 422,
     "metadata": {},
     "output_type": "execute_result"
    }
   ],
   "source": [
    "users['Age'].describe()"
   ]
  },
  {
   "cell_type": "code",
   "execution_count": 423,
   "metadata": {},
   "outputs": [],
   "source": [
    "def Age(age):\n",
    "    if (age < 50) and (age > 14):\n",
    "        return age\n",
    "    return 0\n",
    "users['Age'] = users['Age'].apply(lambda x: Age(x))\n",
    "users = users[users['Age'] != 0]"
   ]
  },
  {
   "cell_type": "code",
   "execution_count": 424,
   "metadata": {},
   "outputs": [
    {
     "name": "stdout",
     "output_type": "stream",
     "text": [
      "(1039, 3)\n"
     ]
    },
    {
     "data": {
      "text/html": [
       "<div>\n",
       "<style scoped>\n",
       "    .dataframe tbody tr th:only-of-type {\n",
       "        vertical-align: middle;\n",
       "    }\n",
       "\n",
       "    .dataframe tbody tr th {\n",
       "        vertical-align: top;\n",
       "    }\n",
       "\n",
       "    .dataframe thead th {\n",
       "        text-align: right;\n",
       "    }\n",
       "</style>\n",
       "<table border=\"1\" class=\"dataframe\">\n",
       "  <thead>\n",
       "    <tr style=\"text-align: right;\">\n",
       "      <th></th>\n",
       "      <th>User-ID</th>\n",
       "      <th>Location</th>\n",
       "      <th>Age</th>\n",
       "    </tr>\n",
       "  </thead>\n",
       "  <tbody>\n",
       "    <tr>\n",
       "      <th>253</th>\n",
       "      <td>254</td>\n",
       "      <td>minneapolis, minnesota, usa</td>\n",
       "      <td>24.0</td>\n",
       "    </tr>\n",
       "    <tr>\n",
       "      <th>336</th>\n",
       "      <td>337</td>\n",
       "      <td>málaga, n/a, spain</td>\n",
       "      <td>17.0</td>\n",
       "    </tr>\n",
       "    <tr>\n",
       "      <th>407</th>\n",
       "      <td>408</td>\n",
       "      <td>mountain view, california, usa</td>\n",
       "      <td>17.0</td>\n",
       "    </tr>\n",
       "    <tr>\n",
       "      <th>439</th>\n",
       "      <td>440</td>\n",
       "      <td>brookfield, wisconsin, usa</td>\n",
       "      <td>16.0</td>\n",
       "    </tr>\n",
       "    <tr>\n",
       "      <th>928</th>\n",
       "      <td>929</td>\n",
       "      <td>king of prussia, ,</td>\n",
       "      <td>36.0</td>\n",
       "    </tr>\n",
       "  </tbody>\n",
       "</table>\n",
       "</div>"
      ],
      "text/plain": [
       "    User-ID                        Location   Age\n",
       "253     254     minneapolis, minnesota, usa  24.0\n",
       "336     337              málaga, n/a, spain  17.0\n",
       "407     408  mountain view, california, usa  17.0\n",
       "439     440      brookfield, wisconsin, usa  16.0\n",
       "928     929              king of prussia, ,  36.0"
      ]
     },
     "execution_count": 424,
     "metadata": {},
     "output_type": "execute_result"
    }
   ],
   "source": [
    "print(users.shape)\n",
    "users.head()"
   ]
  },
  {
   "cell_type": "code",
   "execution_count": 425,
   "metadata": {},
   "outputs": [
    {
     "data": {
      "text/plain": [
       "49.0"
      ]
     },
     "execution_count": 425,
     "metadata": {},
     "output_type": "execute_result"
    }
   ],
   "source": [
    "users['Age'].max()"
   ]
  },
  {
   "cell_type": "code",
   "execution_count": 426,
   "metadata": {},
   "outputs": [
    {
     "data": {
      "text/plain": [
       "15.0"
      ]
     },
     "execution_count": 426,
     "metadata": {},
     "output_type": "execute_result"
    }
   ],
   "source": [
    "users['Age'].min()"
   ]
  },
  {
   "cell_type": "code",
   "execution_count": 427,
   "metadata": {},
   "outputs": [
    {
     "data": {
      "text/plain": [
       "32.1665062560154"
      ]
     },
     "execution_count": 427,
     "metadata": {},
     "output_type": "execute_result"
    }
   ],
   "source": [
    "users['Age'].mean()"
   ]
  },
  {
   "cell_type": "code",
   "execution_count": 428,
   "metadata": {},
   "outputs": [
    {
     "data": {
      "text/plain": [
       "32.0"
      ]
     },
     "execution_count": 428,
     "metadata": {},
     "output_type": "execute_result"
    }
   ],
   "source": [
    "users['Age'].median()"
   ]
  },
  {
   "cell_type": "code",
   "execution_count": 429,
   "metadata": {},
   "outputs": [
    {
     "data": {
      "text/plain": [
       "count    1039.000000\n",
       "mean       32.166506\n",
       "std         8.373863\n",
       "min        15.000000\n",
       "25%        26.000000\n",
       "50%        32.000000\n",
       "75%        38.000000\n",
       "max        49.000000\n",
       "Name: Age, dtype: float64"
      ]
     },
     "execution_count": 429,
     "metadata": {},
     "output_type": "execute_result"
    }
   ],
   "source": [
    "users['Age'].describe()"
   ]
  },
  {
   "cell_type": "code",
   "execution_count": 430,
   "metadata": {},
   "outputs": [
    {
     "name": "stdout",
     "output_type": "stream",
     "text": [
      "Training data size: (1851, 3)\n",
      "Testing data size: (392, 3)\n"
     ]
    }
   ],
   "source": [
    "threshold_date = '2002'\n",
    "ids = books[books['Year-Of-Publication'] < threshold_date]['ISBN'].values\n",
    "\n",
    "training_data = ratings[ratings['ISBN'].isin(ids)]\n",
    "print(f'Training data size: {training_data.shape}')\n",
    "testing_data = ratings[~ratings['ISBN'].isin(ids)]\n",
    "print(f'Testing data size: {testing_data.shape}')"
   ]
  },
  {
   "cell_type": "code",
   "execution_count": 431,
   "metadata": {},
   "outputs": [
    {
     "data": {
      "text/html": [
       "<div>\n",
       "<style scoped>\n",
       "    .dataframe tbody tr th:only-of-type {\n",
       "        vertical-align: middle;\n",
       "    }\n",
       "\n",
       "    .dataframe tbody tr th {\n",
       "        vertical-align: top;\n",
       "    }\n",
       "\n",
       "    .dataframe thead th {\n",
       "        text-align: right;\n",
       "    }\n",
       "</style>\n",
       "<table border=\"1\" class=\"dataframe\">\n",
       "  <thead>\n",
       "    <tr style=\"text-align: right;\">\n",
       "      <th></th>\n",
       "      <th>User-ID</th>\n",
       "      <th>ISBN</th>\n",
       "      <th>Book-Rating</th>\n",
       "    </tr>\n",
       "  </thead>\n",
       "  <tbody>\n",
       "    <tr>\n",
       "      <th>90</th>\n",
       "      <td>276798</td>\n",
       "      <td>3442131340</td>\n",
       "      <td>7</td>\n",
       "    </tr>\n",
       "    <tr>\n",
       "      <th>470</th>\n",
       "      <td>276925</td>\n",
       "      <td>840149236</td>\n",
       "      <td>5</td>\n",
       "    </tr>\n",
       "  </tbody>\n",
       "</table>\n",
       "</div>"
      ],
      "text/plain": [
       "    User-ID        ISBN  Book-Rating\n",
       "90   276798  3442131340            7\n",
       "470  276925   840149236            5"
      ]
     },
     "execution_count": 431,
     "metadata": {},
     "output_type": "execute_result"
    }
   ],
   "source": [
    "training_data.head(2)"
   ]
  },
  {
   "cell_type": "code",
   "execution_count": 432,
   "metadata": {},
   "outputs": [],
   "source": [
    "def normalize(value, old_max, old_min, new_max=10, new_min=0.0):\n",
    "    old_range = (old_max - old_min)  \n",
    "    new_range = (new_max - new_min)  \n",
    "    return (((value - old_min) * new_range) / old_range) + new_min"
   ]
  },
  {
   "cell_type": "code",
   "execution_count": 433,
   "metadata": {},
   "outputs": [],
   "source": [
    "def get_favorite_movies(user_id, ratings_df):\n",
    "    favorites = ratings_df[(ratings_df['User-ID'] == user_id) & (ratings_df['Book-Rating'] >= 0.5)].sort_values(by='Book-Rating', ascending=False)['ISBN']\n",
    "    return set(favorites if type(favorites) == pd.Series else [favorites])"
   ]
  },
  {
   "cell_type": "code",
   "execution_count": 434,
   "metadata": {},
   "outputs": [],
   "source": [
    "class ModelEvaluator:\n",
    "    def __init__(self, training_data, testing_data, threshold=0.5):\n",
    "        self.training_data = training_data\n",
    "        self.testing_data = testing_data\n",
    "        self.threshold = threshold\n",
    "    def evaluate_model_for_user(self, model, user_id):\n",
    "        favorites_in_test = get_favorite_movies(user_id, self.testing_data)\n",
    "        person_recs_df = model.recommend_items(user_id,items_to_ignore=get_favorite_movies(user_id, self.training_data))\n",
    "        person_recs_df = person_recs_df[person_recs_df['predicted_rating'] >= self.threshold].sort_values(by='predicted_rating', ascending=False)\n",
    "        true_relevent = person_recs_df[person_recs_df['ISBN'].isin(favorites_in_test)].shape[0]        \n",
    "        top_5_recommended = person_recs_df.head(5)\n",
    "        top_10_recommended = person_recs_df.head(10)\n",
    "        hits_at_5_count = top_5_recommended[top_5_recommended['ISBN'].isin(favorites_in_test)].shape[0]\n",
    "        hits_at_10_count = top_10_recommended[top_10_recommended['ISBN'].isin(favorites_in_test)].shape[0]        \n",
    "        precision_at_5 = hits_at_5_count / top_5_recommended.shape[0] if top_5_recommended.shape[0] != 0 else 1\n",
    "        recall_at_5 = hits_at_5_count / true_relevent if true_relevent != 0 else 1\n",
    "        precision_at_10 = hits_at_10_count / top_10_recommended.shape[0] if top_10_recommended.shape[0] != 0 else 1\n",
    "        recall_at_10 = hits_at_10_count / true_relevent if true_relevent != 0 else 1\n",
    "        person_metrics = {'hits@5_count':hits_at_5_count, \n",
    "                        'hits@10_count':hits_at_10_count,\n",
    "                        'recommended@5_count':top_5_recommended.shape[0], \n",
    "                        'recommended@10_count':top_10_recommended.shape[0],  \n",
    "                        'relevents': true_relevent,\n",
    "                        'recall@5': recall_at_5,\n",
    "                        'recall@10': recall_at_10,\n",
    "                        'precision@5': precision_at_5,\n",
    "                        'precision@10': precision_at_10}\n",
    "        return person_recs_df,person_metrics\n",
    "    def evaluate_model(self, model):\n",
    "        users_metrics = []\n",
    "        person_recs_df = pd.DataFrame()\n",
    "        users_ids = list(set(self.testing_data['User-ID'].values))\n",
    "        for idx, user_id in enumerate(users_ids):\n",
    "            rec , metrics = self.evaluate_model_for_user(model, user_id)\n",
    "            metrics['User-ID'] = user_id\n",
    "            users_metrics.append(metrics)\n",
    "            if(not person_recs_df.empty):\n",
    "                person_recs_df.append(rec)\n",
    "            else:\n",
    "                person_recs_df = rec\n",
    "        detailed_results_df = pd.DataFrame(users_metrics).sort_values('hits@5_count', ascending=False)\n",
    "        global_recall_at_5 = detailed_results_df['hits@5_count'].sum() / float(detailed_results_df['relevents'].sum())\n",
    "        global_recall_at_10 = detailed_results_df['hits@10_count'].sum() / float(detailed_results_df['relevents'].sum())\n",
    "        global_precision_at_5 = detailed_results_df['hits@5_count'].sum() / float(detailed_results_df['recommended@5_count'].sum())\n",
    "        global_precision_at_10 = detailed_results_df['hits@10_count'].sum() / float(detailed_results_df['recommended@10_count'].sum())\n",
    "        global_metrics = {'modelName': model.get_model_name(),\n",
    "                        'recall@5': global_recall_at_5,\n",
    "                        'recall@10': global_recall_at_10,\n",
    "                        'precision@5': global_precision_at_5,\n",
    "                        'precision@10': global_precision_at_10}    \n",
    "        return global_metrics, detailed_results_df,person_recs_df\n",
    "model_evaluator = ModelEvaluator(training_data, testing_data)              "
   ]
  },
  {
   "cell_type": "markdown",
   "metadata": {},
   "source": [
    "# الطلب الأول"
   ]
  },
  {
   "cell_type": "markdown",
   "metadata": {},
   "source": [
    "# popularity"
   ]
  },
  {
   "cell_type": "code",
   "execution_count": 435,
   "metadata": {
    "scrolled": true
   },
   "outputs": [
    {
     "name": "stdout",
     "output_type": "stream",
     "text": [
      "(129, 3)\n"
     ]
    },
    {
     "data": {
      "text/html": [
       "<div>\n",
       "<style scoped>\n",
       "    .dataframe tbody tr th:only-of-type {\n",
       "        vertical-align: middle;\n",
       "    }\n",
       "\n",
       "    .dataframe tbody tr th {\n",
       "        vertical-align: top;\n",
       "    }\n",
       "\n",
       "    .dataframe thead th {\n",
       "        text-align: right;\n",
       "    }\n",
       "</style>\n",
       "<table border=\"1\" class=\"dataframe\">\n",
       "  <thead>\n",
       "    <tr style=\"text-align: right;\">\n",
       "      <th></th>\n",
       "      <th>ISBN</th>\n",
       "      <th>ratings_mean</th>\n",
       "      <th>ratings_count</th>\n",
       "    </tr>\n",
       "  </thead>\n",
       "  <tbody>\n",
       "    <tr>\n",
       "      <th>46</th>\n",
       "      <td>0451458818</td>\n",
       "      <td>10.0</td>\n",
       "      <td>1</td>\n",
       "    </tr>\n",
       "    <tr>\n",
       "      <th>22</th>\n",
       "      <td>0373691602</td>\n",
       "      <td>10.0</td>\n",
       "      <td>1</td>\n",
       "    </tr>\n",
       "    <tr>\n",
       "      <th>98</th>\n",
       "      <td>156931893</td>\n",
       "      <td>10.0</td>\n",
       "      <td>1</td>\n",
       "    </tr>\n",
       "    <tr>\n",
       "      <th>29</th>\n",
       "      <td>0375414908</td>\n",
       "      <td>10.0</td>\n",
       "      <td>1</td>\n",
       "    </tr>\n",
       "    <tr>\n",
       "      <th>112</th>\n",
       "      <td>1931514054</td>\n",
       "      <td>10.0</td>\n",
       "      <td>1</td>\n",
       "    </tr>\n",
       "  </tbody>\n",
       "</table>\n",
       "</div>"
      ],
      "text/plain": [
       "           ISBN  ratings_mean  ratings_count\n",
       "46   0451458818          10.0              1\n",
       "22   0373691602          10.0              1\n",
       "98    156931893          10.0              1\n",
       "29   0375414908          10.0              1\n",
       "112  1931514054          10.0              1"
      ]
     },
     "execution_count": 435,
     "metadata": {},
     "output_type": "execute_result"
    }
   ],
   "source": [
    "populartiy = testing_data.groupby('ISBN').agg({'Book-Rating': ['mean', 'count']}).reset_index()\n",
    "populartiy.columns = ['ISBN', 'ratings_mean', 'ratings_count']\n",
    "print(populartiy.shape)\n",
    "populartiy.sort_values(by='ratings_mean', ascending=False).head(5)"
   ]
  },
  {
   "cell_type": "code",
   "execution_count": 436,
   "metadata": {},
   "outputs": [],
   "source": [
    "class PopularityRecommender:\n",
    "    MODEL_NAME = 'Popularity'\n",
    "    def __init__(self, popularities_df):\n",
    "        self.popularities_df = popularities_df\n",
    "    def get_model_name(self):\n",
    "        return self.MODEL_NAME\n",
    "    def weighted_rating(self, x, m, C):\n",
    "        v = x['ratings_count']\n",
    "        R = x['ratings_mean']\n",
    "        return (v/(v+m) * R) + (m/(m+v) * C)\n",
    "    def recommend_items(self, user_id, items_to_ignore=[], topn=10, verbose=False):\n",
    "        C = self.popularities_df['ratings_mean'].mean()\n",
    "        self.popularities_df['predicted_rating'] = self.popularities_df.apply(lambda x: self.weighted_rating(x, 5, C), axis=1)\n",
    "        recommendations_df = self.popularities_df[~self.popularities_df['ISBN'].isin(items_to_ignore)].sort_values('predicted_rating', ascending = False).head(topn)\n",
    "        return recommendations_df\n",
    "popularity_model = PopularityRecommender(populartiy)"
   ]
  },
  {
   "cell_type": "code",
   "execution_count": 437,
   "metadata": {},
   "outputs": [
    {
     "name": "stdout",
     "output_type": "stream",
     "text": [
      "Evaluating Popularity recommendation model...\n",
      "\n",
      "Global metrics:\n",
      "{'modelName': 'Popularity', 'recall@5': 0.6875, 'recall@10': 1.0, 'precision@5': 0.00625, 'precision@10': 0.004545454545454545}\n"
     ]
    },
    {
     "data": {
      "text/html": [
       "<div>\n",
       "<style scoped>\n",
       "    .dataframe tbody tr th:only-of-type {\n",
       "        vertical-align: middle;\n",
       "    }\n",
       "\n",
       "    .dataframe tbody tr th {\n",
       "        vertical-align: top;\n",
       "    }\n",
       "\n",
       "    .dataframe thead th {\n",
       "        text-align: right;\n",
       "    }\n",
       "</style>\n",
       "<table border=\"1\" class=\"dataframe\">\n",
       "  <thead>\n",
       "    <tr style=\"text-align: right;\">\n",
       "      <th></th>\n",
       "      <th>hits@5_count</th>\n",
       "      <th>hits@10_count</th>\n",
       "      <th>recommended@5_count</th>\n",
       "      <th>recommended@10_count</th>\n",
       "      <th>relevents</th>\n",
       "      <th>recall@5</th>\n",
       "      <th>recall@10</th>\n",
       "      <th>precision@5</th>\n",
       "      <th>precision@10</th>\n",
       "      <th>User-ID</th>\n",
       "    </tr>\n",
       "  </thead>\n",
       "  <tbody>\n",
       "    <tr>\n",
       "      <th>46</th>\n",
       "      <td>1</td>\n",
       "      <td>1</td>\n",
       "      <td>5</td>\n",
       "      <td>10</td>\n",
       "      <td>1</td>\n",
       "      <td>1.0</td>\n",
       "      <td>1.0</td>\n",
       "      <td>0.2</td>\n",
       "      <td>0.1</td>\n",
       "      <td>205314</td>\n",
       "    </tr>\n",
       "    <tr>\n",
       "      <th>152</th>\n",
       "      <td>1</td>\n",
       "      <td>2</td>\n",
       "      <td>5</td>\n",
       "      <td>10</td>\n",
       "      <td>2</td>\n",
       "      <td>0.5</td>\n",
       "      <td>1.0</td>\n",
       "      <td>0.2</td>\n",
       "      <td>0.2</td>\n",
       "      <td>98391</td>\n",
       "    </tr>\n",
       "    <tr>\n",
       "      <th>53</th>\n",
       "      <td>1</td>\n",
       "      <td>1</td>\n",
       "      <td>5</td>\n",
       "      <td>10</td>\n",
       "      <td>1</td>\n",
       "      <td>1.0</td>\n",
       "      <td>1.0</td>\n",
       "      <td>0.2</td>\n",
       "      <td>0.1</td>\n",
       "      <td>196148</td>\n",
       "    </tr>\n",
       "    <tr>\n",
       "      <th>258</th>\n",
       "      <td>1</td>\n",
       "      <td>1</td>\n",
       "      <td>5</td>\n",
       "      <td>10</td>\n",
       "      <td>1</td>\n",
       "      <td>1.0</td>\n",
       "      <td>1.0</td>\n",
       "      <td>0.2</td>\n",
       "      <td>0.1</td>\n",
       "      <td>169140</td>\n",
       "    </tr>\n",
       "    <tr>\n",
       "      <th>129</th>\n",
       "      <td>1</td>\n",
       "      <td>1</td>\n",
       "      <td>5</td>\n",
       "      <td>10</td>\n",
       "      <td>1</td>\n",
       "      <td>1.0</td>\n",
       "      <td>1.0</td>\n",
       "      <td>0.2</td>\n",
       "      <td>0.1</td>\n",
       "      <td>227447</td>\n",
       "    </tr>\n",
       "    <tr>\n",
       "      <th>111</th>\n",
       "      <td>1</td>\n",
       "      <td>1</td>\n",
       "      <td>5</td>\n",
       "      <td>10</td>\n",
       "      <td>1</td>\n",
       "      <td>1.0</td>\n",
       "      <td>1.0</td>\n",
       "      <td>0.2</td>\n",
       "      <td>0.1</td>\n",
       "      <td>125039</td>\n",
       "    </tr>\n",
       "    <tr>\n",
       "      <th>84</th>\n",
       "      <td>1</td>\n",
       "      <td>1</td>\n",
       "      <td>5</td>\n",
       "      <td>10</td>\n",
       "      <td>1</td>\n",
       "      <td>1.0</td>\n",
       "      <td>1.0</td>\n",
       "      <td>0.2</td>\n",
       "      <td>0.1</td>\n",
       "      <td>231354</td>\n",
       "    </tr>\n",
       "    <tr>\n",
       "      <th>142</th>\n",
       "      <td>1</td>\n",
       "      <td>1</td>\n",
       "      <td>5</td>\n",
       "      <td>10</td>\n",
       "      <td>1</td>\n",
       "      <td>1.0</td>\n",
       "      <td>1.0</td>\n",
       "      <td>0.2</td>\n",
       "      <td>0.1</td>\n",
       "      <td>31471</td>\n",
       "    </tr>\n",
       "    <tr>\n",
       "      <th>74</th>\n",
       "      <td>1</td>\n",
       "      <td>1</td>\n",
       "      <td>5</td>\n",
       "      <td>10</td>\n",
       "      <td>1</td>\n",
       "      <td>1.0</td>\n",
       "      <td>1.0</td>\n",
       "      <td>0.2</td>\n",
       "      <td>0.1</td>\n",
       "      <td>226006</td>\n",
       "    </tr>\n",
       "    <tr>\n",
       "      <th>316</th>\n",
       "      <td>1</td>\n",
       "      <td>1</td>\n",
       "      <td>5</td>\n",
       "      <td>10</td>\n",
       "      <td>1</td>\n",
       "      <td>1.0</td>\n",
       "      <td>1.0</td>\n",
       "      <td>0.2</td>\n",
       "      <td>0.1</td>\n",
       "      <td>254377</td>\n",
       "    </tr>\n",
       "  </tbody>\n",
       "</table>\n",
       "</div>"
      ],
      "text/plain": [
       "     hits@5_count  hits@10_count  recommended@5_count  recommended@10_count  \\\n",
       "46              1              1                    5                    10   \n",
       "152             1              2                    5                    10   \n",
       "53              1              1                    5                    10   \n",
       "258             1              1                    5                    10   \n",
       "129             1              1                    5                    10   \n",
       "111             1              1                    5                    10   \n",
       "84              1              1                    5                    10   \n",
       "142             1              1                    5                    10   \n",
       "74              1              1                    5                    10   \n",
       "316             1              1                    5                    10   \n",
       "\n",
       "     relevents  recall@5  recall@10  precision@5  precision@10 User-ID  \n",
       "46           1       1.0        1.0          0.2           0.1  205314  \n",
       "152          2       0.5        1.0          0.2           0.2   98391  \n",
       "53           1       1.0        1.0          0.2           0.1  196148  \n",
       "258          1       1.0        1.0          0.2           0.1  169140  \n",
       "129          1       1.0        1.0          0.2           0.1  227447  \n",
       "111          1       1.0        1.0          0.2           0.1  125039  \n",
       "84           1       1.0        1.0          0.2           0.1  231354  \n",
       "142          1       1.0        1.0          0.2           0.1   31471  \n",
       "74           1       1.0        1.0          0.2           0.1  226006  \n",
       "316          1       1.0        1.0          0.2           0.1  254377  "
      ]
     },
     "execution_count": 437,
     "metadata": {},
     "output_type": "execute_result"
    }
   ],
   "source": [
    "print('Evaluating Popularity recommendation model...')\n",
    "pop_global_metrics, pop_detailed_results_df,recommend_items_popularity = model_evaluator.evaluate_model(popularity_model)\n",
    "print('\\nGlobal metrics:\\n%s' % pop_global_metrics)\n",
    "pop_detailed_results_df.head(10)"
   ]
  },
  {
   "cell_type": "code",
   "execution_count": 438,
   "metadata": {},
   "outputs": [],
   "source": [
    "recommend_items_popularity = recommend_items_popularity.drop(columns=['ratings_mean','ratings_count'])"
   ]
  },
  {
   "cell_type": "code",
   "execution_count": 439,
   "metadata": {},
   "outputs": [
    {
     "data": {
      "text/html": [
       "<div>\n",
       "<style scoped>\n",
       "    .dataframe tbody tr th:only-of-type {\n",
       "        vertical-align: middle;\n",
       "    }\n",
       "\n",
       "    .dataframe tbody tr th {\n",
       "        vertical-align: top;\n",
       "    }\n",
       "\n",
       "    .dataframe thead th {\n",
       "        text-align: right;\n",
       "    }\n",
       "</style>\n",
       "<table border=\"1\" class=\"dataframe\">\n",
       "  <thead>\n",
       "    <tr style=\"text-align: right;\">\n",
       "      <th></th>\n",
       "      <th>ISBN</th>\n",
       "      <th>predicted_rating</th>\n",
       "    </tr>\n",
       "  </thead>\n",
       "  <tbody>\n",
       "    <tr>\n",
       "      <th>59</th>\n",
       "      <td>0689860242</td>\n",
       "      <td>8.396000</td>\n",
       "    </tr>\n",
       "    <tr>\n",
       "      <th>62</th>\n",
       "      <td>0740733001</td>\n",
       "      <td>8.309714</td>\n",
       "    </tr>\n",
       "    <tr>\n",
       "      <th>86</th>\n",
       "      <td>0843951818</td>\n",
       "      <td>8.240889</td>\n",
       "    </tr>\n",
       "    <tr>\n",
       "      <th>68</th>\n",
       "      <td>0765307219</td>\n",
       "      <td>8.194667</td>\n",
       "    </tr>\n",
       "    <tr>\n",
       "      <th>79</th>\n",
       "      <td>0786867213</td>\n",
       "      <td>8.194667</td>\n",
       "    </tr>\n",
       "  </tbody>\n",
       "</table>\n",
       "</div>"
      ],
      "text/plain": [
       "          ISBN  predicted_rating\n",
       "59  0689860242          8.396000\n",
       "62  0740733001          8.309714\n",
       "86  0843951818          8.240889\n",
       "68  0765307219          8.194667\n",
       "79  0786867213          8.194667"
      ]
     },
     "execution_count": 439,
     "metadata": {},
     "output_type": "execute_result"
    }
   ],
   "source": [
    "recommend_items_popularity.head()"
   ]
  },
  {
   "cell_type": "code",
   "execution_count": 440,
   "metadata": {},
   "outputs": [
    {
     "data": {
      "text/plain": [
       "(10, 2)"
      ]
     },
     "execution_count": 440,
     "metadata": {},
     "output_type": "execute_result"
    }
   ],
   "source": [
    "recommend_items_popularity.shape"
   ]
  },
  {
   "cell_type": "code",
   "execution_count": 441,
   "metadata": {},
   "outputs": [
    {
     "data": {
      "text/plain": [
       "array(['The Journal of Professor Abraham Van Helsing',\n",
       "       'Guide to the Bible', 'Behemoth: B-Max',\n",
       "       'Treasure Island (Treasury of Illustrated Classics)',\n",
       "       'Dragonsinger (Mccaffrey, Anne. Harper Hall Trilogy, V. 2.)',\n",
       "       'Juline, Book 5',\n",
       "       'The Color Code : A Revolutionary Eating Plan for Optimum Health',\n",
       "       'Seek My Face', 'The Get Fuzzy Experience', 'Blood Games'],\n",
       "      dtype=object)"
      ]
     },
     "execution_count": 441,
     "metadata": {},
     "output_type": "execute_result"
    }
   ],
   "source": [
    "ids = popularity_model.recommend_items(10)['ISBN'].values\n",
    "books[books['ISBN'].isin(ids)]['Book-Title'].values"
   ]
  },
  {
   "cell_type": "markdown",
   "metadata": {},
   "source": [
    "# الطلب الثاني"
   ]
  },
  {
   "cell_type": "markdown",
   "metadata": {},
   "source": [
    "# based-content"
   ]
  },
  {
   "cell_type": "code",
   "execution_count": 442,
   "metadata": {},
   "outputs": [
    {
     "data": {
      "text/html": [
       "<div>\n",
       "<style scoped>\n",
       "    .dataframe tbody tr th:only-of-type {\n",
       "        vertical-align: middle;\n",
       "    }\n",
       "\n",
       "    .dataframe tbody tr th {\n",
       "        vertical-align: top;\n",
       "    }\n",
       "\n",
       "    .dataframe thead th {\n",
       "        text-align: right;\n",
       "    }\n",
       "</style>\n",
       "<table border=\"1\" class=\"dataframe\">\n",
       "  <thead>\n",
       "    <tr style=\"text-align: right;\">\n",
       "      <th></th>\n",
       "      <th>ISBN</th>\n",
       "      <th>Book-Title</th>\n",
       "      <th>Book-Author</th>\n",
       "      <th>Year-Of-Publication</th>\n",
       "      <th>Publisher</th>\n",
       "    </tr>\n",
       "  </thead>\n",
       "  <tbody>\n",
       "    <tr>\n",
       "      <th>255012</th>\n",
       "      <td>1895455529</td>\n",
       "      <td>Pizza (Original)</td>\n",
       "      <td>Jean Par</td>\n",
       "      <td>1999</td>\n",
       "      <td>Company's Coming Publishing</td>\n",
       "    </tr>\n",
       "    <tr>\n",
       "      <th>30724</th>\n",
       "      <td>0689714874</td>\n",
       "      <td>Stormy : Mistys Foal</td>\n",
       "      <td>Marguerite Henry</td>\n",
       "      <td>1991</td>\n",
       "      <td>Aladdin</td>\n",
       "    </tr>\n",
       "  </tbody>\n",
       "</table>\n",
       "</div>"
      ],
      "text/plain": [
       "              ISBN            Book-Title       Book-Author  \\\n",
       "255012  1895455529      Pizza (Original)          Jean Par   \n",
       "30724   0689714874  Stormy : Mistys Foal  Marguerite Henry   \n",
       "\n",
       "       Year-Of-Publication                    Publisher  \n",
       "255012                1999  Company's Coming Publishing  \n",
       "30724                 1991                      Aladdin  "
      ]
     },
     "execution_count": 442,
     "metadata": {},
     "output_type": "execute_result"
    }
   ],
   "source": [
    "expended_books_df = books.copy()\n",
    "expended_books_df.head(2)"
   ]
  },
  {
   "cell_type": "code",
   "execution_count": 443,
   "metadata": {},
   "outputs": [
    {
     "data": {
      "text/plain": [
       "(1500, 824)"
      ]
     },
     "execution_count": 443,
     "metadata": {},
     "output_type": "execute_result"
    }
   ],
   "source": [
    "count1 = CountVectorizer(stop_words='english')\n",
    "count_matrix1 = count1.fit_transform(expended_books_df['Publisher'])\n",
    "count_matrix1.shape"
   ]
  },
  {
   "cell_type": "code",
   "execution_count": 444,
   "metadata": {},
   "outputs": [],
   "source": [
    "items_ids = expended_books_df['ISBN'].values.tolist()\n",
    "users_ids = list(set(testing_data['User-ID'].values))\n",
    "topn = 2000\n",
    "threshold = 4\n",
    "users_metrics = []\n",
    "recommendations = pd.DataFrame()"
   ]
  },
  {
   "cell_type": "code",
   "execution_count": 445,
   "metadata": {},
   "outputs": [],
   "source": [
    "def get_item_profile(item_id):\n",
    "    idx = items_ids.index(item_id)\n",
    "    return items_matrix[idx].toarray().reshape(-1)\n",
    "def get_items_profiles(ids):\n",
    "    items_profiles = np.array([get_item_profile(x) for x in ids])\n",
    "    return items_profiles"
   ]
  },
  {
   "cell_type": "code",
   "execution_count": 446,
   "metadata": {},
   "outputs": [],
   "source": [
    "def result(users_metrics,ModelName):\n",
    "    detailed_results_df = pd.DataFrame(users_metrics).sort_values('hits@5_count', ascending=False)\n",
    "\n",
    "    global_recall_at_5 = detailed_results_df['hits@5_count'].sum() / float(detailed_results_df['relevents'].sum()) if float(detailed_results_df['relevents'].sum()) !=0 else 1\n",
    "    global_recall_at_10 = detailed_results_df['hits@10_count'].sum() / float(detailed_results_df['relevents'].sum()) if float(detailed_results_df['relevents'].sum()) !=0 else 1\n",
    "\n",
    "    global_precision_at_5 = detailed_results_df['hits@5_count'].sum() / float(detailed_results_df['recommended@5_count'].sum()) if float(detailed_results_df['recommended@5_count'].sum()) != 0 else 1\n",
    "    global_precision_at_10 = detailed_results_df['hits@10_count'].sum() / float(detailed_results_df['recommended@10_count'].sum()) if float(detailed_results_df['recommended@5_count'].sum()) != 0 else 1\n",
    "\n",
    "    global_metrics = {'modelName': ModelName,\n",
    "                    'recall@5': global_recall_at_5,\n",
    "                    'recall@10': global_recall_at_10,\n",
    "                    'precision@5': global_precision_at_5,\n",
    "                    'precision@10': global_precision_at_10}\n",
    "    return detailed_results_df,global_metrics"
   ]
  },
  {
   "cell_type": "code",
   "execution_count": 447,
   "metadata": {},
   "outputs": [],
   "source": [
    "def Metrics(favorites_in_test,person_recs_df,threshold):\n",
    "    person_recs_df = person_recs_df[person_recs_df['predicted_rating'] >= threshold].sort_values(by='predicted_rating', ascending=False)\n",
    "    true_relevent = person_recs_df[person_recs_df['ISBN'].isin(favorites_in_test)].shape[0]\n",
    "    top_5_recommended = person_recs_df.head(5)\n",
    "    top_10_recommended = person_recs_df.head(10)\n",
    "    hits_at_5_count = top_5_recommended[top_5_recommended['ISBN'].isin(favorites_in_test)].shape[0]\n",
    "    hits_at_10_count = top_10_recommended[top_10_recommended['ISBN'].isin(favorites_in_test)].shape[0]\n",
    "    precision_at_5 = hits_at_5_count / top_5_recommended.shape[0] if top_5_recommended.shape[0] != 0 else 1\n",
    "    recall_at_5 = hits_at_5_count / true_relevent if true_relevent != 0 else 1\n",
    "    precision_at_10 = hits_at_10_count / top_10_recommended.shape[0] if top_10_recommended.shape[0] != 0 else 1\n",
    "    recall_at_10 = hits_at_10_count / true_relevent if true_relevent != 0 else 1\n",
    "    person_metrics = {'hits@5_count':hits_at_5_count, \n",
    "                    'hits@10_count':hits_at_10_count,\n",
    "                    'recommended@5_count':top_5_recommended.shape[0], \n",
    "                    'recommended@10_count':top_10_recommended.shape[0],  \n",
    "                    'relevents': true_relevent,\n",
    "                    'recall@5': recall_at_5,\n",
    "                    'recall@10': recall_at_10,\n",
    "                    'precision@5': precision_at_5,\n",
    "                    'precision@10': precision_at_10}\n",
    "    return person_metrics"
   ]
  },
  {
   "cell_type": "code",
   "execution_count": 448,
   "metadata": {},
   "outputs": [],
   "source": [
    "def Content_based(items_ids,users_ids,items_matrix,topn,threshold,users_metrics,recommendations,ModelName):\n",
    "    for idx, user_id in enumerate(users_ids):\n",
    "        items_to_ignore=get_favorite_movies(user_id, training_data)\n",
    "        favorites_in_test = get_favorite_movies(user_id, testing_data)\n",
    "        user_df = training_data[training_data['User-ID'] == user_id]\n",
    "        if not (user_df.empty) :\n",
    "            user_items_profiles = get_items_profiles(user_df['ISBN'].values)\n",
    "            user_items_ratings = np.array(user_df['Book-Rating'].values).reshape(-1,1)\n",
    "            if sum(user_items_ratings)!=0:\n",
    "                user_profile = np.sum(np.multiply(user_items_profiles, user_items_ratings), axis=0) / np.sum(user_items_ratings)\n",
    "                user_profile = user_profile.reshape(1, -1)\n",
    "                cosine_similarities = cosine_similarity(user_profile, items_matrix.toarray())\n",
    "                similar_indices = cosine_similarities.argsort().flatten()[-1000:]\n",
    "                similar_items = sorted([(int(items_ids[i]), cosine_similarities[0,i]) for i in similar_indices[0:len(items_ids)-5]], key=lambda x: -x[0])\n",
    "                similar_items_filtered = list(filter(lambda x: x[0] not in items_to_ignore, similar_items))        \n",
    "                recommendations_df = pd.DataFrame(similar_items_filtered, columns=['ISBN', 'predicted_rating']).head(topn)\n",
    "                recommendations_df['predicted_rating'] = recommendations_df['predicted_rating'].apply(lambda x: normalize(x, 1.0, 0.0))\n",
    "                recommendations = recommendations_df\n",
    "                person_recs_df = recommendations_df\n",
    "                metrics = Metrics(favorites_in_test,person_recs_df,threshold)\n",
    "                metrics['User-ID'] = user_id\n",
    "                users_metrics.append(metrics)\n",
    "    detailed_results_df,global_metrics = result(users_metrics,ModelName)\n",
    "    return recommendations,detailed_results_df,global_metrics"
   ]
  },
  {
   "cell_type": "code",
   "execution_count": 449,
   "metadata": {},
   "outputs": [
    {
     "name": "stdout",
     "output_type": "stream",
     "text": [
      "Evaluating Content-Based Filtering model number 1 (Publisher)...\n",
      "\n",
      "Global metrics:\n",
      "{'modelName': 'Publisher_based', 'recall@5': 0.4, 'recall@10': 0.4, 'precision@5': 0.010443864229765013, 'precision@10': 0.00554016620498615}\n"
     ]
    },
    {
     "data": {
      "text/html": [
       "<div>\n",
       "<style scoped>\n",
       "    .dataframe tbody tr th:only-of-type {\n",
       "        vertical-align: middle;\n",
       "    }\n",
       "\n",
       "    .dataframe tbody tr th {\n",
       "        vertical-align: top;\n",
       "    }\n",
       "\n",
       "    .dataframe thead th {\n",
       "        text-align: right;\n",
       "    }\n",
       "</style>\n",
       "<table border=\"1\" class=\"dataframe\">\n",
       "  <thead>\n",
       "    <tr style=\"text-align: right;\">\n",
       "      <th></th>\n",
       "      <th>hits@5_count</th>\n",
       "      <th>hits@10_count</th>\n",
       "      <th>recommended@5_count</th>\n",
       "      <th>recommended@10_count</th>\n",
       "      <th>relevents</th>\n",
       "      <th>recall@5</th>\n",
       "      <th>recall@10</th>\n",
       "      <th>precision@5</th>\n",
       "      <th>precision@10</th>\n",
       "      <th>User-ID</th>\n",
       "    </tr>\n",
       "  </thead>\n",
       "  <tbody>\n",
       "    <tr>\n",
       "      <th>38</th>\n",
       "      <td>2</td>\n",
       "      <td>2</td>\n",
       "      <td>5</td>\n",
       "      <td>6</td>\n",
       "      <td>2</td>\n",
       "      <td>1.0</td>\n",
       "      <td>1.0</td>\n",
       "      <td>0.4</td>\n",
       "      <td>0.333333</td>\n",
       "      <td>189835</td>\n",
       "    </tr>\n",
       "    <tr>\n",
       "      <th>31</th>\n",
       "      <td>1</td>\n",
       "      <td>1</td>\n",
       "      <td>5</td>\n",
       "      <td>10</td>\n",
       "      <td>1</td>\n",
       "      <td>1.0</td>\n",
       "      <td>1.0</td>\n",
       "      <td>0.2</td>\n",
       "      <td>0.100000</td>\n",
       "      <td>98391</td>\n",
       "    </tr>\n",
       "    <tr>\n",
       "      <th>39</th>\n",
       "      <td>1</td>\n",
       "      <td>1</td>\n",
       "      <td>5</td>\n",
       "      <td>10</td>\n",
       "      <td>1</td>\n",
       "      <td>1.0</td>\n",
       "      <td>1.0</td>\n",
       "      <td>0.2</td>\n",
       "      <td>0.100000</td>\n",
       "      <td>169663</td>\n",
       "    </tr>\n",
       "    <tr>\n",
       "      <th>50</th>\n",
       "      <td>0</td>\n",
       "      <td>0</td>\n",
       "      <td>5</td>\n",
       "      <td>10</td>\n",
       "      <td>0</td>\n",
       "      <td>1.0</td>\n",
       "      <td>1.0</td>\n",
       "      <td>0.0</td>\n",
       "      <td>0.000000</td>\n",
       "      <td>16795</td>\n",
       "    </tr>\n",
       "    <tr>\n",
       "      <th>57</th>\n",
       "      <td>0</td>\n",
       "      <td>0</td>\n",
       "      <td>5</td>\n",
       "      <td>10</td>\n",
       "      <td>0</td>\n",
       "      <td>1.0</td>\n",
       "      <td>1.0</td>\n",
       "      <td>0.0</td>\n",
       "      <td>0.000000</td>\n",
       "      <td>28634</td>\n",
       "    </tr>\n",
       "    <tr>\n",
       "      <th>56</th>\n",
       "      <td>0</td>\n",
       "      <td>0</td>\n",
       "      <td>5</td>\n",
       "      <td>6</td>\n",
       "      <td>0</td>\n",
       "      <td>1.0</td>\n",
       "      <td>1.0</td>\n",
       "      <td>0.0</td>\n",
       "      <td>0.000000</td>\n",
       "      <td>222488</td>\n",
       "    </tr>\n",
       "    <tr>\n",
       "      <th>55</th>\n",
       "      <td>0</td>\n",
       "      <td>0</td>\n",
       "      <td>5</td>\n",
       "      <td>10</td>\n",
       "      <td>0</td>\n",
       "      <td>1.0</td>\n",
       "      <td>1.0</td>\n",
       "      <td>0.0</td>\n",
       "      <td>0.000000</td>\n",
       "      <td>144531</td>\n",
       "    </tr>\n",
       "    <tr>\n",
       "      <th>54</th>\n",
       "      <td>0</td>\n",
       "      <td>0</td>\n",
       "      <td>5</td>\n",
       "      <td>10</td>\n",
       "      <td>0</td>\n",
       "      <td>1.0</td>\n",
       "      <td>1.0</td>\n",
       "      <td>0.0</td>\n",
       "      <td>0.000000</td>\n",
       "      <td>31556</td>\n",
       "    </tr>\n",
       "    <tr>\n",
       "      <th>53</th>\n",
       "      <td>0</td>\n",
       "      <td>0</td>\n",
       "      <td>5</td>\n",
       "      <td>5</td>\n",
       "      <td>0</td>\n",
       "      <td>1.0</td>\n",
       "      <td>1.0</td>\n",
       "      <td>0.0</td>\n",
       "      <td>0.000000</td>\n",
       "      <td>158627</td>\n",
       "    </tr>\n",
       "    <tr>\n",
       "      <th>52</th>\n",
       "      <td>0</td>\n",
       "      <td>0</td>\n",
       "      <td>5</td>\n",
       "      <td>10</td>\n",
       "      <td>0</td>\n",
       "      <td>1.0</td>\n",
       "      <td>1.0</td>\n",
       "      <td>0.0</td>\n",
       "      <td>0.000000</td>\n",
       "      <td>204864</td>\n",
       "    </tr>\n",
       "  </tbody>\n",
       "</table>\n",
       "</div>"
      ],
      "text/plain": [
       "    hits@5_count  hits@10_count  recommended@5_count  recommended@10_count  \\\n",
       "38             2              2                    5                     6   \n",
       "31             1              1                    5                    10   \n",
       "39             1              1                    5                    10   \n",
       "50             0              0                    5                    10   \n",
       "57             0              0                    5                    10   \n",
       "56             0              0                    5                     6   \n",
       "55             0              0                    5                    10   \n",
       "54             0              0                    5                    10   \n",
       "53             0              0                    5                     5   \n",
       "52             0              0                    5                    10   \n",
       "\n",
       "    relevents  recall@5  recall@10  precision@5  precision@10 User-ID  \n",
       "38          2       1.0        1.0          0.4      0.333333  189835  \n",
       "31          1       1.0        1.0          0.2      0.100000   98391  \n",
       "39          1       1.0        1.0          0.2      0.100000  169663  \n",
       "50          0       1.0        1.0          0.0      0.000000   16795  \n",
       "57          0       1.0        1.0          0.0      0.000000   28634  \n",
       "56          0       1.0        1.0          0.0      0.000000  222488  \n",
       "55          0       1.0        1.0          0.0      0.000000  144531  \n",
       "54          0       1.0        1.0          0.0      0.000000   31556  \n",
       "53          0       1.0        1.0          0.0      0.000000  158627  \n",
       "52          0       1.0        1.0          0.0      0.000000  204864  "
      ]
     },
     "execution_count": 449,
     "metadata": {},
     "output_type": "execute_result"
    }
   ],
   "source": [
    "items_matrix = count_matrix1 \n",
    "recommendations_Publisher_based,detailed_results_Publisher_based,global_metrics_Publisher_based = Content_based(items_ids,users_ids,items_matrix,topn,threshold,users_metrics,recommendations,\"Publisher_based\")\n",
    "print('Evaluating Content-Based Filtering model number 1 (Publisher)...')\n",
    "print('\\nGlobal metrics:\\n%s' % global_metrics_Publisher_based)\n",
    "detailed_results_Publisher_based.head(10)"
   ]
  },
  {
   "cell_type": "code",
   "execution_count": 450,
   "metadata": {},
   "outputs": [
    {
     "data": {
      "text/html": [
       "<div>\n",
       "<style scoped>\n",
       "    .dataframe tbody tr th:only-of-type {\n",
       "        vertical-align: middle;\n",
       "    }\n",
       "\n",
       "    .dataframe tbody tr th {\n",
       "        vertical-align: top;\n",
       "    }\n",
       "\n",
       "    .dataframe thead th {\n",
       "        text-align: right;\n",
       "    }\n",
       "</style>\n",
       "<table border=\"1\" class=\"dataframe\">\n",
       "  <thead>\n",
       "    <tr style=\"text-align: right;\">\n",
       "      <th></th>\n",
       "      <th>ISBN</th>\n",
       "      <th>predicted_rating</th>\n",
       "    </tr>\n",
       "  </thead>\n",
       "  <tbody>\n",
       "    <tr>\n",
       "      <th>11</th>\n",
       "      <td>8484034119</td>\n",
       "      <td>3.535534</td>\n",
       "    </tr>\n",
       "    <tr>\n",
       "      <th>28</th>\n",
       "      <td>8170592461</td>\n",
       "      <td>4.082483</td>\n",
       "    </tr>\n",
       "    <tr>\n",
       "      <th>64</th>\n",
       "      <td>2890212203</td>\n",
       "      <td>5.000000</td>\n",
       "    </tr>\n",
       "    <tr>\n",
       "      <th>79</th>\n",
       "      <td>1930051220</td>\n",
       "      <td>5.000000</td>\n",
       "    </tr>\n",
       "    <tr>\n",
       "      <th>80</th>\n",
       "      <td>1902825454</td>\n",
       "      <td>5.000000</td>\n",
       "    </tr>\n",
       "  </tbody>\n",
       "</table>\n",
       "</div>"
      ],
      "text/plain": [
       "          ISBN  predicted_rating\n",
       "11  8484034119          3.535534\n",
       "28  8170592461          4.082483\n",
       "64  2890212203          5.000000\n",
       "79  1930051220          5.000000\n",
       "80  1902825454          5.000000"
      ]
     },
     "execution_count": 450,
     "metadata": {},
     "output_type": "execute_result"
    }
   ],
   "source": [
    "recommendations_Publisher_based[recommendations_Publisher_based['predicted_rating']>0].head()"
   ]
  },
  {
   "cell_type": "code",
   "execution_count": 451,
   "metadata": {},
   "outputs": [
    {
     "data": {
      "text/plain": [
       "(1500, 1897)"
      ]
     },
     "execution_count": 451,
     "metadata": {},
     "output_type": "execute_result"
    }
   ],
   "source": [
    "count2 = CountVectorizer(stop_words='english')\n",
    "count_matrix2 = count2.fit_transform(expended_books_df['Book-Author'])\n",
    "count_matrix2.shape"
   ]
  },
  {
   "cell_type": "code",
   "execution_count": 452,
   "metadata": {},
   "outputs": [
    {
     "name": "stdout",
     "output_type": "stream",
     "text": [
      "Evaluating Content-Based Filtering model number 2 (BookAuthor)...\n",
      "\n",
      "Global metrics:\n",
      "{'modelName': 'BookAuthor_based', 'recall@5': 0.45454545454545453, 'recall@10': 0.45454545454545453, 'precision@5': 0.007352941176470588, 'precision@10': 0.00429553264604811}\n"
     ]
    },
    {
     "data": {
      "text/html": [
       "<div>\n",
       "<style scoped>\n",
       "    .dataframe tbody tr th:only-of-type {\n",
       "        vertical-align: middle;\n",
       "    }\n",
       "\n",
       "    .dataframe tbody tr th {\n",
       "        vertical-align: top;\n",
       "    }\n",
       "\n",
       "    .dataframe thead th {\n",
       "        text-align: right;\n",
       "    }\n",
       "</style>\n",
       "<table border=\"1\" class=\"dataframe\">\n",
       "  <thead>\n",
       "    <tr style=\"text-align: right;\">\n",
       "      <th></th>\n",
       "      <th>hits@5_count</th>\n",
       "      <th>hits@10_count</th>\n",
       "      <th>recommended@5_count</th>\n",
       "      <th>recommended@10_count</th>\n",
       "      <th>relevents</th>\n",
       "      <th>recall@5</th>\n",
       "      <th>recall@10</th>\n",
       "      <th>precision@5</th>\n",
       "      <th>precision@10</th>\n",
       "      <th>User-ID</th>\n",
       "    </tr>\n",
       "  </thead>\n",
       "  <tbody>\n",
       "    <tr>\n",
       "      <th>38</th>\n",
       "      <td>2</td>\n",
       "      <td>2</td>\n",
       "      <td>5</td>\n",
       "      <td>6</td>\n",
       "      <td>2</td>\n",
       "      <td>1.0</td>\n",
       "      <td>1.0</td>\n",
       "      <td>0.40</td>\n",
       "      <td>0.333333</td>\n",
       "      <td>189835</td>\n",
       "    </tr>\n",
       "    <tr>\n",
       "      <th>39</th>\n",
       "      <td>1</td>\n",
       "      <td>1</td>\n",
       "      <td>5</td>\n",
       "      <td>10</td>\n",
       "      <td>1</td>\n",
       "      <td>1.0</td>\n",
       "      <td>1.0</td>\n",
       "      <td>0.20</td>\n",
       "      <td>0.100000</td>\n",
       "      <td>169663</td>\n",
       "    </tr>\n",
       "    <tr>\n",
       "      <th>118</th>\n",
       "      <td>1</td>\n",
       "      <td>1</td>\n",
       "      <td>4</td>\n",
       "      <td>4</td>\n",
       "      <td>1</td>\n",
       "      <td>1.0</td>\n",
       "      <td>1.0</td>\n",
       "      <td>0.25</td>\n",
       "      <td>0.250000</td>\n",
       "      <td>189835</td>\n",
       "    </tr>\n",
       "    <tr>\n",
       "      <th>31</th>\n",
       "      <td>1</td>\n",
       "      <td>1</td>\n",
       "      <td>5</td>\n",
       "      <td>10</td>\n",
       "      <td>1</td>\n",
       "      <td>1.0</td>\n",
       "      <td>1.0</td>\n",
       "      <td>0.20</td>\n",
       "      <td>0.100000</td>\n",
       "      <td>98391</td>\n",
       "    </tr>\n",
       "    <tr>\n",
       "      <th>0</th>\n",
       "      <td>0</td>\n",
       "      <td>0</td>\n",
       "      <td>5</td>\n",
       "      <td>10</td>\n",
       "      <td>0</td>\n",
       "      <td>1.0</td>\n",
       "      <td>1.0</td>\n",
       "      <td>0.00</td>\n",
       "      <td>0.000000</td>\n",
       "      <td>56554</td>\n",
       "    </tr>\n",
       "    <tr>\n",
       "      <th>111</th>\n",
       "      <td>0</td>\n",
       "      <td>0</td>\n",
       "      <td>3</td>\n",
       "      <td>3</td>\n",
       "      <td>0</td>\n",
       "      <td>1.0</td>\n",
       "      <td>1.0</td>\n",
       "      <td>0.00</td>\n",
       "      <td>0.000000</td>\n",
       "      <td>98391</td>\n",
       "    </tr>\n",
       "    <tr>\n",
       "      <th>105</th>\n",
       "      <td>0</td>\n",
       "      <td>0</td>\n",
       "      <td>5</td>\n",
       "      <td>6</td>\n",
       "      <td>0</td>\n",
       "      <td>1.0</td>\n",
       "      <td>1.0</td>\n",
       "      <td>0.00</td>\n",
       "      <td>0.000000</td>\n",
       "      <td>224430</td>\n",
       "    </tr>\n",
       "    <tr>\n",
       "      <th>106</th>\n",
       "      <td>0</td>\n",
       "      <td>0</td>\n",
       "      <td>5</td>\n",
       "      <td>10</td>\n",
       "      <td>0</td>\n",
       "      <td>1.0</td>\n",
       "      <td>1.0</td>\n",
       "      <td>0.00</td>\n",
       "      <td>0.000000</td>\n",
       "      <td>37712</td>\n",
       "    </tr>\n",
       "    <tr>\n",
       "      <th>107</th>\n",
       "      <td>0</td>\n",
       "      <td>0</td>\n",
       "      <td>5</td>\n",
       "      <td>10</td>\n",
       "      <td>0</td>\n",
       "      <td>1.0</td>\n",
       "      <td>1.0</td>\n",
       "      <td>0.00</td>\n",
       "      <td>0.000000</td>\n",
       "      <td>118135</td>\n",
       "    </tr>\n",
       "    <tr>\n",
       "      <th>108</th>\n",
       "      <td>0</td>\n",
       "      <td>0</td>\n",
       "      <td>5</td>\n",
       "      <td>8</td>\n",
       "      <td>0</td>\n",
       "      <td>1.0</td>\n",
       "      <td>1.0</td>\n",
       "      <td>0.00</td>\n",
       "      <td>0.000000</td>\n",
       "      <td>39345</td>\n",
       "    </tr>\n",
       "  </tbody>\n",
       "</table>\n",
       "</div>"
      ],
      "text/plain": [
       "     hits@5_count  hits@10_count  recommended@5_count  recommended@10_count  \\\n",
       "38              2              2                    5                     6   \n",
       "39              1              1                    5                    10   \n",
       "118             1              1                    4                     4   \n",
       "31              1              1                    5                    10   \n",
       "0               0              0                    5                    10   \n",
       "111             0              0                    3                     3   \n",
       "105             0              0                    5                     6   \n",
       "106             0              0                    5                    10   \n",
       "107             0              0                    5                    10   \n",
       "108             0              0                    5                     8   \n",
       "\n",
       "     relevents  recall@5  recall@10  precision@5  precision@10 User-ID  \n",
       "38           2       1.0        1.0         0.40      0.333333  189835  \n",
       "39           1       1.0        1.0         0.20      0.100000  169663  \n",
       "118          1       1.0        1.0         0.25      0.250000  189835  \n",
       "31           1       1.0        1.0         0.20      0.100000   98391  \n",
       "0            0       1.0        1.0         0.00      0.000000   56554  \n",
       "111          0       1.0        1.0         0.00      0.000000   98391  \n",
       "105          0       1.0        1.0         0.00      0.000000  224430  \n",
       "106          0       1.0        1.0         0.00      0.000000   37712  \n",
       "107          0       1.0        1.0         0.00      0.000000  118135  \n",
       "108          0       1.0        1.0         0.00      0.000000   39345  "
      ]
     },
     "execution_count": 452,
     "metadata": {},
     "output_type": "execute_result"
    }
   ],
   "source": [
    "items_matrix = count_matrix2 \n",
    "recommendations_BookAuthor_based,detailed_results_BookAuthor_based,global_metrics_BookAuthor_based = Content_based(items_ids,users_ids,items_matrix,topn,threshold,users_metrics,recommendations,\"BookAuthor_based\")\n",
    "print('Evaluating Content-Based Filtering model number 2 (BookAuthor)...')\n",
    "print('\\nGlobal metrics:\\n%s' % global_metrics_BookAuthor_based)\n",
    "detailed_results_BookAuthor_based.head(10)"
   ]
  },
  {
   "cell_type": "code",
   "execution_count": 453,
   "metadata": {},
   "outputs": [
    {
     "data": {
      "text/html": [
       "<div>\n",
       "<style scoped>\n",
       "    .dataframe tbody tr th:only-of-type {\n",
       "        vertical-align: middle;\n",
       "    }\n",
       "\n",
       "    .dataframe tbody tr th {\n",
       "        vertical-align: top;\n",
       "    }\n",
       "\n",
       "    .dataframe thead th {\n",
       "        text-align: right;\n",
       "    }\n",
       "</style>\n",
       "<table border=\"1\" class=\"dataframe\">\n",
       "  <thead>\n",
       "    <tr style=\"text-align: right;\">\n",
       "      <th></th>\n",
       "      <th>ISBN</th>\n",
       "      <th>predicted_rating</th>\n",
       "    </tr>\n",
       "  </thead>\n",
       "  <tbody>\n",
       "    <tr>\n",
       "      <th>287</th>\n",
       "      <td>821735144</td>\n",
       "      <td>10.000000</td>\n",
       "    </tr>\n",
       "    <tr>\n",
       "      <th>737</th>\n",
       "      <td>373709080</td>\n",
       "      <td>4.082483</td>\n",
       "    </tr>\n",
       "    <tr>\n",
       "      <th>975</th>\n",
       "      <td>34543319</td>\n",
       "      <td>4.082483</td>\n",
       "    </tr>\n",
       "  </tbody>\n",
       "</table>\n",
       "</div>"
      ],
      "text/plain": [
       "          ISBN  predicted_rating\n",
       "287  821735144         10.000000\n",
       "737  373709080          4.082483\n",
       "975   34543319          4.082483"
      ]
     },
     "execution_count": 453,
     "metadata": {},
     "output_type": "execute_result"
    }
   ],
   "source": [
    "recommendations_BookAuthor_based[recommendations_BookAuthor_based['predicted_rating']>0].head()"
   ]
  },
  {
   "cell_type": "code",
   "execution_count": 454,
   "metadata": {},
   "outputs": [
    {
     "data": {
      "text/plain": [
       "(1500, 3543)"
      ]
     },
     "execution_count": 454,
     "metadata": {},
     "output_type": "execute_result"
    }
   ],
   "source": [
    "count3 = CountVectorizer(stop_words='english')\n",
    "count_matrix3 = count3.fit_transform(expended_books_df['Book-Title'])\n",
    "count_matrix3.shape"
   ]
  },
  {
   "cell_type": "code",
   "execution_count": 455,
   "metadata": {},
   "outputs": [
    {
     "name": "stdout",
     "output_type": "stream",
     "text": [
      "Evaluating Content-Based Filtering model number 3 (BookTitle)...\n",
      "\n",
      "Global metrics:\n",
      "{'modelName': 'BookTitle_based', 'recall@5': 0.5, 'recall@10': 0.5, 'precision@5': 0.0069124423963133645, 'precision@10': 0.004398826979472141}\n"
     ]
    },
    {
     "data": {
      "text/html": [
       "<div>\n",
       "<style scoped>\n",
       "    .dataframe tbody tr th:only-of-type {\n",
       "        vertical-align: middle;\n",
       "    }\n",
       "\n",
       "    .dataframe tbody tr th {\n",
       "        vertical-align: top;\n",
       "    }\n",
       "\n",
       "    .dataframe thead th {\n",
       "        text-align: right;\n",
       "    }\n",
       "</style>\n",
       "<table border=\"1\" class=\"dataframe\">\n",
       "  <thead>\n",
       "    <tr style=\"text-align: right;\">\n",
       "      <th></th>\n",
       "      <th>hits@5_count</th>\n",
       "      <th>hits@10_count</th>\n",
       "      <th>recommended@5_count</th>\n",
       "      <th>recommended@10_count</th>\n",
       "      <th>relevents</th>\n",
       "      <th>recall@5</th>\n",
       "      <th>recall@10</th>\n",
       "      <th>precision@5</th>\n",
       "      <th>precision@10</th>\n",
       "      <th>User-ID</th>\n",
       "    </tr>\n",
       "  </thead>\n",
       "  <tbody>\n",
       "    <tr>\n",
       "      <th>38</th>\n",
       "      <td>2</td>\n",
       "      <td>2</td>\n",
       "      <td>5</td>\n",
       "      <td>6</td>\n",
       "      <td>2</td>\n",
       "      <td>1.0</td>\n",
       "      <td>1.0</td>\n",
       "      <td>0.400000</td>\n",
       "      <td>0.333333</td>\n",
       "      <td>189835</td>\n",
       "    </tr>\n",
       "    <tr>\n",
       "      <th>31</th>\n",
       "      <td>1</td>\n",
       "      <td>1</td>\n",
       "      <td>5</td>\n",
       "      <td>10</td>\n",
       "      <td>1</td>\n",
       "      <td>1.0</td>\n",
       "      <td>1.0</td>\n",
       "      <td>0.200000</td>\n",
       "      <td>0.100000</td>\n",
       "      <td>98391</td>\n",
       "    </tr>\n",
       "    <tr>\n",
       "      <th>165</th>\n",
       "      <td>1</td>\n",
       "      <td>1</td>\n",
       "      <td>3</td>\n",
       "      <td>3</td>\n",
       "      <td>1</td>\n",
       "      <td>1.0</td>\n",
       "      <td>1.0</td>\n",
       "      <td>0.333333</td>\n",
       "      <td>0.333333</td>\n",
       "      <td>267372</td>\n",
       "    </tr>\n",
       "    <tr>\n",
       "      <th>118</th>\n",
       "      <td>1</td>\n",
       "      <td>1</td>\n",
       "      <td>4</td>\n",
       "      <td>4</td>\n",
       "      <td>1</td>\n",
       "      <td>1.0</td>\n",
       "      <td>1.0</td>\n",
       "      <td>0.250000</td>\n",
       "      <td>0.250000</td>\n",
       "      <td>189835</td>\n",
       "    </tr>\n",
       "    <tr>\n",
       "      <th>39</th>\n",
       "      <td>1</td>\n",
       "      <td>1</td>\n",
       "      <td>5</td>\n",
       "      <td>10</td>\n",
       "      <td>1</td>\n",
       "      <td>1.0</td>\n",
       "      <td>1.0</td>\n",
       "      <td>0.200000</td>\n",
       "      <td>0.100000</td>\n",
       "      <td>169663</td>\n",
       "    </tr>\n",
       "    <tr>\n",
       "      <th>154</th>\n",
       "      <td>0</td>\n",
       "      <td>0</td>\n",
       "      <td>5</td>\n",
       "      <td>9</td>\n",
       "      <td>0</td>\n",
       "      <td>1.0</td>\n",
       "      <td>1.0</td>\n",
       "      <td>0.000000</td>\n",
       "      <td>0.000000</td>\n",
       "      <td>265889</td>\n",
       "    </tr>\n",
       "    <tr>\n",
       "      <th>155</th>\n",
       "      <td>0</td>\n",
       "      <td>0</td>\n",
       "      <td>5</td>\n",
       "      <td>10</td>\n",
       "      <td>0</td>\n",
       "      <td>1.0</td>\n",
       "      <td>1.0</td>\n",
       "      <td>0.000000</td>\n",
       "      <td>0.000000</td>\n",
       "      <td>88677</td>\n",
       "    </tr>\n",
       "    <tr>\n",
       "      <th>156</th>\n",
       "      <td>0</td>\n",
       "      <td>0</td>\n",
       "      <td>3</td>\n",
       "      <td>3</td>\n",
       "      <td>0</td>\n",
       "      <td>1.0</td>\n",
       "      <td>1.0</td>\n",
       "      <td>0.000000</td>\n",
       "      <td>0.000000</td>\n",
       "      <td>25409</td>\n",
       "    </tr>\n",
       "    <tr>\n",
       "      <th>157</th>\n",
       "      <td>0</td>\n",
       "      <td>0</td>\n",
       "      <td>5</td>\n",
       "      <td>10</td>\n",
       "      <td>0</td>\n",
       "      <td>1.0</td>\n",
       "      <td>1.0</td>\n",
       "      <td>0.000000</td>\n",
       "      <td>0.000000</td>\n",
       "      <td>229551</td>\n",
       "    </tr>\n",
       "    <tr>\n",
       "      <th>158</th>\n",
       "      <td>0</td>\n",
       "      <td>0</td>\n",
       "      <td>5</td>\n",
       "      <td>9</td>\n",
       "      <td>0</td>\n",
       "      <td>1.0</td>\n",
       "      <td>1.0</td>\n",
       "      <td>0.000000</td>\n",
       "      <td>0.000000</td>\n",
       "      <td>53220</td>\n",
       "    </tr>\n",
       "  </tbody>\n",
       "</table>\n",
       "</div>"
      ],
      "text/plain": [
       "     hits@5_count  hits@10_count  recommended@5_count  recommended@10_count  \\\n",
       "38              2              2                    5                     6   \n",
       "31              1              1                    5                    10   \n",
       "165             1              1                    3                     3   \n",
       "118             1              1                    4                     4   \n",
       "39              1              1                    5                    10   \n",
       "154             0              0                    5                     9   \n",
       "155             0              0                    5                    10   \n",
       "156             0              0                    3                     3   \n",
       "157             0              0                    5                    10   \n",
       "158             0              0                    5                     9   \n",
       "\n",
       "     relevents  recall@5  recall@10  precision@5  precision@10 User-ID  \n",
       "38           2       1.0        1.0     0.400000      0.333333  189835  \n",
       "31           1       1.0        1.0     0.200000      0.100000   98391  \n",
       "165          1       1.0        1.0     0.333333      0.333333  267372  \n",
       "118          1       1.0        1.0     0.250000      0.250000  189835  \n",
       "39           1       1.0        1.0     0.200000      0.100000  169663  \n",
       "154          0       1.0        1.0     0.000000      0.000000  265889  \n",
       "155          0       1.0        1.0     0.000000      0.000000   88677  \n",
       "156          0       1.0        1.0     0.000000      0.000000   25409  \n",
       "157          0       1.0        1.0     0.000000      0.000000  229551  \n",
       "158          0       1.0        1.0     0.000000      0.000000   53220  "
      ]
     },
     "execution_count": 455,
     "metadata": {},
     "output_type": "execute_result"
    }
   ],
   "source": [
    "items_matrix = count_matrix3 \n",
    "recommendations_BookTitle_based,detailed_results_BookTitle_based,global_metrics_BookTitle_based = Content_based(items_ids,users_ids,items_matrix,topn,threshold,users_metrics,recommendations,\"BookTitle_based\")\n",
    "print('Evaluating Content-Based Filtering model number 3 (BookTitle)...')\n",
    "print('\\nGlobal metrics:\\n%s' % global_metrics_BookTitle_based)\n",
    "detailed_results_BookTitle_based.head(10)"
   ]
  },
  {
   "cell_type": "code",
   "execution_count": 456,
   "metadata": {},
   "outputs": [
    {
     "data": {
      "text/html": [
       "<div>\n",
       "<style scoped>\n",
       "    .dataframe tbody tr th:only-of-type {\n",
       "        vertical-align: middle;\n",
       "    }\n",
       "\n",
       "    .dataframe tbody tr th {\n",
       "        vertical-align: top;\n",
       "    }\n",
       "\n",
       "    .dataframe thead th {\n",
       "        text-align: right;\n",
       "    }\n",
       "</style>\n",
       "<table border=\"1\" class=\"dataframe\">\n",
       "  <thead>\n",
       "    <tr style=\"text-align: right;\">\n",
       "      <th></th>\n",
       "      <th>ISBN</th>\n",
       "      <th>predicted_rating</th>\n",
       "    </tr>\n",
       "  </thead>\n",
       "  <tbody>\n",
       "    <tr>\n",
       "      <th>140</th>\n",
       "      <td>1569714827</td>\n",
       "      <td>3.535534</td>\n",
       "    </tr>\n",
       "    <tr>\n",
       "      <th>251</th>\n",
       "      <td>843951818</td>\n",
       "      <td>5.000000</td>\n",
       "    </tr>\n",
       "    <tr>\n",
       "      <th>289</th>\n",
       "      <td>821735144</td>\n",
       "      <td>10.000000</td>\n",
       "    </tr>\n",
       "    <tr>\n",
       "      <th>426</th>\n",
       "      <td>671850245</td>\n",
       "      <td>4.082483</td>\n",
       "    </tr>\n",
       "    <tr>\n",
       "      <th>452</th>\n",
       "      <td>671041177</td>\n",
       "      <td>3.922323</td>\n",
       "    </tr>\n",
       "  </tbody>\n",
       "</table>\n",
       "</div>"
      ],
      "text/plain": [
       "           ISBN  predicted_rating\n",
       "140  1569714827          3.535534\n",
       "251   843951818          5.000000\n",
       "289   821735144         10.000000\n",
       "426   671850245          4.082483\n",
       "452   671041177          3.922323"
      ]
     },
     "execution_count": 456,
     "metadata": {},
     "output_type": "execute_result"
    }
   ],
   "source": [
    "recommendations_BookTitle_based[recommendations_BookTitle_based['predicted_rating']>0].head()"
   ]
  },
  {
   "cell_type": "markdown",
   "metadata": {},
   "source": [
    "### Integration (Publisher + Book-Author)"
   ]
  },
  {
   "cell_type": "markdown",
   "metadata": {},
   "source": [
    "#### Method 1"
   ]
  },
  {
   "cell_type": "markdown",
   "metadata": {},
   "source": [
    "#### وهي أسوء شي  BookTitle طلعت نفس نتائج ال"
   ]
  },
  {
   "cell_type": "code",
   "execution_count": 457,
   "metadata": {},
   "outputs": [],
   "source": [
    "intg = expended_books_df['Publisher'].tolist() + expended_books_df['Book-Author'].tolist()"
   ]
  },
  {
   "cell_type": "code",
   "execution_count": 458,
   "metadata": {},
   "outputs": [
    {
     "data": {
      "text/plain": [
       "(3000, 2616)"
      ]
     },
     "execution_count": 458,
     "metadata": {},
     "output_type": "execute_result"
    }
   ],
   "source": [
    "count4 = CountVectorizer(stop_words='english')\n",
    "count_matrix4 = count4.fit_transform(intg)\n",
    "count_matrix4.shape"
   ]
  },
  {
   "cell_type": "code",
   "execution_count": 459,
   "metadata": {},
   "outputs": [],
   "source": [
    "for i in range(int(count_matrix4.shape[0]/2)):\n",
    "    count_matrix4[i] = count_matrix4[i] + count_matrix4[1500+i]"
   ]
  },
  {
   "cell_type": "code",
   "execution_count": 460,
   "metadata": {},
   "outputs": [],
   "source": [
    "count_matrix4 = count_matrix4[:1500]"
   ]
  },
  {
   "cell_type": "code",
   "execution_count": 461,
   "metadata": {},
   "outputs": [
    {
     "data": {
      "text/plain": [
       "(1500, 2616)"
      ]
     },
     "execution_count": 461,
     "metadata": {},
     "output_type": "execute_result"
    }
   ],
   "source": [
    "count_matrix4.shape"
   ]
  },
  {
   "cell_type": "code",
   "execution_count": 462,
   "metadata": {},
   "outputs": [
    {
     "name": "stdout",
     "output_type": "stream",
     "text": [
      "Evaluating Content-Based Filtering model number 3 (Publisher + Book-Author)...\n",
      "\n",
      "Global metrics:\n",
      "{'modelName': 'BookTitle_based', 'recall@5': 0.5, 'recall@10': 0.5, 'precision@5': 0.0069124423963133645, 'precision@10': 0.004398826979472141}\n"
     ]
    },
    {
     "data": {
      "text/html": [
       "<div>\n",
       "<style scoped>\n",
       "    .dataframe tbody tr th:only-of-type {\n",
       "        vertical-align: middle;\n",
       "    }\n",
       "\n",
       "    .dataframe tbody tr th {\n",
       "        vertical-align: top;\n",
       "    }\n",
       "\n",
       "    .dataframe thead th {\n",
       "        text-align: right;\n",
       "    }\n",
       "</style>\n",
       "<table border=\"1\" class=\"dataframe\">\n",
       "  <thead>\n",
       "    <tr style=\"text-align: right;\">\n",
       "      <th></th>\n",
       "      <th>hits@5_count</th>\n",
       "      <th>hits@10_count</th>\n",
       "      <th>recommended@5_count</th>\n",
       "      <th>recommended@10_count</th>\n",
       "      <th>relevents</th>\n",
       "      <th>recall@5</th>\n",
       "      <th>recall@10</th>\n",
       "      <th>precision@5</th>\n",
       "      <th>precision@10</th>\n",
       "      <th>User-ID</th>\n",
       "    </tr>\n",
       "  </thead>\n",
       "  <tbody>\n",
       "    <tr>\n",
       "      <th>38</th>\n",
       "      <td>2</td>\n",
       "      <td>2</td>\n",
       "      <td>5</td>\n",
       "      <td>6</td>\n",
       "      <td>2</td>\n",
       "      <td>1.0</td>\n",
       "      <td>1.0</td>\n",
       "      <td>0.400000</td>\n",
       "      <td>0.333333</td>\n",
       "      <td>189835</td>\n",
       "    </tr>\n",
       "    <tr>\n",
       "      <th>31</th>\n",
       "      <td>1</td>\n",
       "      <td>1</td>\n",
       "      <td>5</td>\n",
       "      <td>10</td>\n",
       "      <td>1</td>\n",
       "      <td>1.0</td>\n",
       "      <td>1.0</td>\n",
       "      <td>0.200000</td>\n",
       "      <td>0.100000</td>\n",
       "      <td>98391</td>\n",
       "    </tr>\n",
       "    <tr>\n",
       "      <th>165</th>\n",
       "      <td>1</td>\n",
       "      <td>1</td>\n",
       "      <td>3</td>\n",
       "      <td>3</td>\n",
       "      <td>1</td>\n",
       "      <td>1.0</td>\n",
       "      <td>1.0</td>\n",
       "      <td>0.333333</td>\n",
       "      <td>0.333333</td>\n",
       "      <td>267372</td>\n",
       "    </tr>\n",
       "    <tr>\n",
       "      <th>39</th>\n",
       "      <td>1</td>\n",
       "      <td>1</td>\n",
       "      <td>5</td>\n",
       "      <td>10</td>\n",
       "      <td>1</td>\n",
       "      <td>1.0</td>\n",
       "      <td>1.0</td>\n",
       "      <td>0.200000</td>\n",
       "      <td>0.100000</td>\n",
       "      <td>169663</td>\n",
       "    </tr>\n",
       "    <tr>\n",
       "      <th>118</th>\n",
       "      <td>1</td>\n",
       "      <td>1</td>\n",
       "      <td>4</td>\n",
       "      <td>4</td>\n",
       "      <td>1</td>\n",
       "      <td>1.0</td>\n",
       "      <td>1.0</td>\n",
       "      <td>0.250000</td>\n",
       "      <td>0.250000</td>\n",
       "      <td>189835</td>\n",
       "    </tr>\n",
       "    <tr>\n",
       "      <th>0</th>\n",
       "      <td>0</td>\n",
       "      <td>0</td>\n",
       "      <td>5</td>\n",
       "      <td>10</td>\n",
       "      <td>0</td>\n",
       "      <td>1.0</td>\n",
       "      <td>1.0</td>\n",
       "      <td>0.000000</td>\n",
       "      <td>0.000000</td>\n",
       "      <td>56554</td>\n",
       "    </tr>\n",
       "    <tr>\n",
       "      <th>217</th>\n",
       "      <td>0</td>\n",
       "      <td>0</td>\n",
       "      <td>2</td>\n",
       "      <td>2</td>\n",
       "      <td>0</td>\n",
       "      <td>1.0</td>\n",
       "      <td>1.0</td>\n",
       "      <td>0.000000</td>\n",
       "      <td>0.000000</td>\n",
       "      <td>28634</td>\n",
       "    </tr>\n",
       "    <tr>\n",
       "      <th>216</th>\n",
       "      <td>0</td>\n",
       "      <td>0</td>\n",
       "      <td>1</td>\n",
       "      <td>1</td>\n",
       "      <td>0</td>\n",
       "      <td>1.0</td>\n",
       "      <td>1.0</td>\n",
       "      <td>0.000000</td>\n",
       "      <td>0.000000</td>\n",
       "      <td>222488</td>\n",
       "    </tr>\n",
       "    <tr>\n",
       "      <th>215</th>\n",
       "      <td>0</td>\n",
       "      <td>0</td>\n",
       "      <td>1</td>\n",
       "      <td>1</td>\n",
       "      <td>0</td>\n",
       "      <td>1.0</td>\n",
       "      <td>1.0</td>\n",
       "      <td>0.000000</td>\n",
       "      <td>0.000000</td>\n",
       "      <td>144531</td>\n",
       "    </tr>\n",
       "    <tr>\n",
       "      <th>214</th>\n",
       "      <td>0</td>\n",
       "      <td>0</td>\n",
       "      <td>1</td>\n",
       "      <td>1</td>\n",
       "      <td>0</td>\n",
       "      <td>1.0</td>\n",
       "      <td>1.0</td>\n",
       "      <td>0.000000</td>\n",
       "      <td>0.000000</td>\n",
       "      <td>31556</td>\n",
       "    </tr>\n",
       "  </tbody>\n",
       "</table>\n",
       "</div>"
      ],
      "text/plain": [
       "     hits@5_count  hits@10_count  recommended@5_count  recommended@10_count  \\\n",
       "38              2              2                    5                     6   \n",
       "31              1              1                    5                    10   \n",
       "165             1              1                    3                     3   \n",
       "39              1              1                    5                    10   \n",
       "118             1              1                    4                     4   \n",
       "0               0              0                    5                    10   \n",
       "217             0              0                    2                     2   \n",
       "216             0              0                    1                     1   \n",
       "215             0              0                    1                     1   \n",
       "214             0              0                    1                     1   \n",
       "\n",
       "     relevents  recall@5  recall@10  precision@5  precision@10 User-ID  \n",
       "38           2       1.0        1.0     0.400000      0.333333  189835  \n",
       "31           1       1.0        1.0     0.200000      0.100000   98391  \n",
       "165          1       1.0        1.0     0.333333      0.333333  267372  \n",
       "39           1       1.0        1.0     0.200000      0.100000  169663  \n",
       "118          1       1.0        1.0     0.250000      0.250000  189835  \n",
       "0            0       1.0        1.0     0.000000      0.000000   56554  \n",
       "217          0       1.0        1.0     0.000000      0.000000   28634  \n",
       "216          0       1.0        1.0     0.000000      0.000000  222488  \n",
       "215          0       1.0        1.0     0.000000      0.000000  144531  \n",
       "214          0       1.0        1.0     0.000000      0.000000   31556  "
      ]
     },
     "execution_count": 462,
     "metadata": {},
     "output_type": "execute_result"
    }
   ],
   "source": [
    "items_matrix = count_matrix4\n",
    "recommendations_BookTitle_based,detailed_results_BookTitle_based,global_metrics_PublisherBookAuthor_based = Content_based(items_ids,users_ids,items_matrix,topn,threshold,users_metrics,recommendations,\"PublisherBook-Author\")\n",
    "print('Evaluating Content-Based Filtering model number 3 (Publisher + Book-Author)...')\n",
    "print('\\nGlobal metrics:\\n%s' % global_metrics_BookTitle_based)\n",
    "detailed_results_BookTitle_based.head(10)"
   ]
  },
  {
   "cell_type": "code",
   "execution_count": 463,
   "metadata": {},
   "outputs": [
    {
     "data": {
      "text/html": [
       "<div>\n",
       "<style scoped>\n",
       "    .dataframe tbody tr th:only-of-type {\n",
       "        vertical-align: middle;\n",
       "    }\n",
       "\n",
       "    .dataframe tbody tr th {\n",
       "        vertical-align: top;\n",
       "    }\n",
       "\n",
       "    .dataframe thead th {\n",
       "        text-align: right;\n",
       "    }\n",
       "</style>\n",
       "<table border=\"1\" class=\"dataframe\">\n",
       "  <thead>\n",
       "    <tr style=\"text-align: right;\">\n",
       "      <th></th>\n",
       "      <th>ISBN</th>\n",
       "      <th>predicted_rating</th>\n",
       "    </tr>\n",
       "  </thead>\n",
       "  <tbody>\n",
       "    <tr>\n",
       "      <th>11</th>\n",
       "      <td>8484034119</td>\n",
       "      <td>1.825742</td>\n",
       "    </tr>\n",
       "    <tr>\n",
       "      <th>30</th>\n",
       "      <td>8170592461</td>\n",
       "      <td>2.000000</td>\n",
       "    </tr>\n",
       "    <tr>\n",
       "      <th>65</th>\n",
       "      <td>2890212203</td>\n",
       "      <td>2.236068</td>\n",
       "    </tr>\n",
       "    <tr>\n",
       "      <th>79</th>\n",
       "      <td>1931040168</td>\n",
       "      <td>2.000000</td>\n",
       "    </tr>\n",
       "    <tr>\n",
       "      <th>80</th>\n",
       "      <td>1930051220</td>\n",
       "      <td>2.236068</td>\n",
       "    </tr>\n",
       "  </tbody>\n",
       "</table>\n",
       "</div>"
      ],
      "text/plain": [
       "          ISBN  predicted_rating\n",
       "11  8484034119          1.825742\n",
       "30  8170592461          2.000000\n",
       "65  2890212203          2.236068\n",
       "79  1931040168          2.000000\n",
       "80  1930051220          2.236068"
      ]
     },
     "execution_count": 463,
     "metadata": {},
     "output_type": "execute_result"
    }
   ],
   "source": [
    "recommendations_BookTitle_based[recommendations_BookTitle_based['predicted_rating']>0].head()"
   ]
  },
  {
   "cell_type": "markdown",
   "metadata": {},
   "source": [
    "#### Method 2"
   ]
  },
  {
   "cell_type": "markdown",
   "metadata": {},
   "source": [
    "#### كمان نفس اللي قبلا ما تغير شي"
   ]
  },
  {
   "cell_type": "code",
   "execution_count": 464,
   "metadata": {},
   "outputs": [
    {
     "data": {
      "text/plain": [
       "(1500, 2616)"
      ]
     },
     "execution_count": 464,
     "metadata": {},
     "output_type": "execute_result"
    }
   ],
   "source": [
    "count5 = CountVectorizer(stop_words='english')\n",
    "count_matrix5 = count4.fit_transform(expended_books_df['Publisher'] +\" \"+expended_books_df['Book-Author'])\n",
    "count_matrix5.shape"
   ]
  },
  {
   "cell_type": "code",
   "execution_count": 465,
   "metadata": {},
   "outputs": [
    {
     "name": "stdout",
     "output_type": "stream",
     "text": [
      "Evaluating Content-Based Filtering model number 3 (Publisher + Book-Author)...\n",
      "\n",
      "Global metrics:\n",
      "{'modelName': 'BookTitle_based', 'recall@5': 0.5, 'recall@10': 0.5, 'precision@5': 0.0069124423963133645, 'precision@10': 0.004398826979472141}\n"
     ]
    },
    {
     "data": {
      "text/html": [
       "<div>\n",
       "<style scoped>\n",
       "    .dataframe tbody tr th:only-of-type {\n",
       "        vertical-align: middle;\n",
       "    }\n",
       "\n",
       "    .dataframe tbody tr th {\n",
       "        vertical-align: top;\n",
       "    }\n",
       "\n",
       "    .dataframe thead th {\n",
       "        text-align: right;\n",
       "    }\n",
       "</style>\n",
       "<table border=\"1\" class=\"dataframe\">\n",
       "  <thead>\n",
       "    <tr style=\"text-align: right;\">\n",
       "      <th></th>\n",
       "      <th>hits@5_count</th>\n",
       "      <th>hits@10_count</th>\n",
       "      <th>recommended@5_count</th>\n",
       "      <th>recommended@10_count</th>\n",
       "      <th>relevents</th>\n",
       "      <th>recall@5</th>\n",
       "      <th>recall@10</th>\n",
       "      <th>precision@5</th>\n",
       "      <th>precision@10</th>\n",
       "      <th>User-ID</th>\n",
       "    </tr>\n",
       "  </thead>\n",
       "  <tbody>\n",
       "    <tr>\n",
       "      <th>38</th>\n",
       "      <td>2</td>\n",
       "      <td>2</td>\n",
       "      <td>5</td>\n",
       "      <td>6</td>\n",
       "      <td>2</td>\n",
       "      <td>1.0</td>\n",
       "      <td>1.0</td>\n",
       "      <td>0.400000</td>\n",
       "      <td>0.333333</td>\n",
       "      <td>189835</td>\n",
       "    </tr>\n",
       "    <tr>\n",
       "      <th>165</th>\n",
       "      <td>1</td>\n",
       "      <td>1</td>\n",
       "      <td>3</td>\n",
       "      <td>3</td>\n",
       "      <td>1</td>\n",
       "      <td>1.0</td>\n",
       "      <td>1.0</td>\n",
       "      <td>0.333333</td>\n",
       "      <td>0.333333</td>\n",
       "      <td>267372</td>\n",
       "    </tr>\n",
       "    <tr>\n",
       "      <th>39</th>\n",
       "      <td>1</td>\n",
       "      <td>1</td>\n",
       "      <td>5</td>\n",
       "      <td>10</td>\n",
       "      <td>1</td>\n",
       "      <td>1.0</td>\n",
       "      <td>1.0</td>\n",
       "      <td>0.200000</td>\n",
       "      <td>0.100000</td>\n",
       "      <td>169663</td>\n",
       "    </tr>\n",
       "    <tr>\n",
       "      <th>31</th>\n",
       "      <td>1</td>\n",
       "      <td>1</td>\n",
       "      <td>5</td>\n",
       "      <td>10</td>\n",
       "      <td>1</td>\n",
       "      <td>1.0</td>\n",
       "      <td>1.0</td>\n",
       "      <td>0.200000</td>\n",
       "      <td>0.100000</td>\n",
       "      <td>98391</td>\n",
       "    </tr>\n",
       "    <tr>\n",
       "      <th>118</th>\n",
       "      <td>1</td>\n",
       "      <td>1</td>\n",
       "      <td>4</td>\n",
       "      <td>4</td>\n",
       "      <td>1</td>\n",
       "      <td>1.0</td>\n",
       "      <td>1.0</td>\n",
       "      <td>0.250000</td>\n",
       "      <td>0.250000</td>\n",
       "      <td>189835</td>\n",
       "    </tr>\n",
       "    <tr>\n",
       "      <th>272</th>\n",
       "      <td>0</td>\n",
       "      <td>0</td>\n",
       "      <td>5</td>\n",
       "      <td>10</td>\n",
       "      <td>0</td>\n",
       "      <td>1.0</td>\n",
       "      <td>1.0</td>\n",
       "      <td>0.000000</td>\n",
       "      <td>0.000000</td>\n",
       "      <td>83235</td>\n",
       "    </tr>\n",
       "    <tr>\n",
       "      <th>271</th>\n",
       "      <td>0</td>\n",
       "      <td>0</td>\n",
       "      <td>2</td>\n",
       "      <td>2</td>\n",
       "      <td>0</td>\n",
       "      <td>1.0</td>\n",
       "      <td>1.0</td>\n",
       "      <td>0.000000</td>\n",
       "      <td>0.000000</td>\n",
       "      <td>98391</td>\n",
       "    </tr>\n",
       "    <tr>\n",
       "      <th>270</th>\n",
       "      <td>0</td>\n",
       "      <td>0</td>\n",
       "      <td>5</td>\n",
       "      <td>6</td>\n",
       "      <td>0</td>\n",
       "      <td>1.0</td>\n",
       "      <td>1.0</td>\n",
       "      <td>0.000000</td>\n",
       "      <td>0.000000</td>\n",
       "      <td>166391</td>\n",
       "    </tr>\n",
       "    <tr>\n",
       "      <th>269</th>\n",
       "      <td>0</td>\n",
       "      <td>0</td>\n",
       "      <td>5</td>\n",
       "      <td>9</td>\n",
       "      <td>0</td>\n",
       "      <td>1.0</td>\n",
       "      <td>1.0</td>\n",
       "      <td>0.000000</td>\n",
       "      <td>0.000000</td>\n",
       "      <td>75819</td>\n",
       "    </tr>\n",
       "    <tr>\n",
       "      <th>268</th>\n",
       "      <td>0</td>\n",
       "      <td>0</td>\n",
       "      <td>5</td>\n",
       "      <td>10</td>\n",
       "      <td>0</td>\n",
       "      <td>1.0</td>\n",
       "      <td>1.0</td>\n",
       "      <td>0.000000</td>\n",
       "      <td>0.000000</td>\n",
       "      <td>39345</td>\n",
       "    </tr>\n",
       "  </tbody>\n",
       "</table>\n",
       "</div>"
      ],
      "text/plain": [
       "     hits@5_count  hits@10_count  recommended@5_count  recommended@10_count  \\\n",
       "38              2              2                    5                     6   \n",
       "165             1              1                    3                     3   \n",
       "39              1              1                    5                    10   \n",
       "31              1              1                    5                    10   \n",
       "118             1              1                    4                     4   \n",
       "272             0              0                    5                    10   \n",
       "271             0              0                    2                     2   \n",
       "270             0              0                    5                     6   \n",
       "269             0              0                    5                     9   \n",
       "268             0              0                    5                    10   \n",
       "\n",
       "     relevents  recall@5  recall@10  precision@5  precision@10 User-ID  \n",
       "38           2       1.0        1.0     0.400000      0.333333  189835  \n",
       "165          1       1.0        1.0     0.333333      0.333333  267372  \n",
       "39           1       1.0        1.0     0.200000      0.100000  169663  \n",
       "31           1       1.0        1.0     0.200000      0.100000   98391  \n",
       "118          1       1.0        1.0     0.250000      0.250000  189835  \n",
       "272          0       1.0        1.0     0.000000      0.000000   83235  \n",
       "271          0       1.0        1.0     0.000000      0.000000   98391  \n",
       "270          0       1.0        1.0     0.000000      0.000000  166391  \n",
       "269          0       1.0        1.0     0.000000      0.000000   75819  \n",
       "268          0       1.0        1.0     0.000000      0.000000   39345  "
      ]
     },
     "execution_count": 465,
     "metadata": {},
     "output_type": "execute_result"
    }
   ],
   "source": [
    "items_matrix = count_matrix5\n",
    "recommendations_BookTitle_based,detailed_results_BookTitle_based,global_metrics_PublisherBookAuthor_based = Content_based(items_ids,users_ids,items_matrix,topn,threshold,users_metrics,recommendations,\"PublisherBook-Author\")\n",
    "print('Evaluating Content-Based Filtering model number 3 (Publisher + Book-Author)...')\n",
    "print('\\nGlobal metrics:\\n%s' % global_metrics_BookTitle_based)\n",
    "detailed_results_BookTitle_based.head(10)"
   ]
  },
  {
   "cell_type": "code",
   "execution_count": 466,
   "metadata": {},
   "outputs": [
    {
     "data": {
      "text/html": [
       "<div>\n",
       "<style scoped>\n",
       "    .dataframe tbody tr th:only-of-type {\n",
       "        vertical-align: middle;\n",
       "    }\n",
       "\n",
       "    .dataframe tbody tr th {\n",
       "        vertical-align: top;\n",
       "    }\n",
       "\n",
       "    .dataframe thead th {\n",
       "        text-align: right;\n",
       "    }\n",
       "</style>\n",
       "<table border=\"1\" class=\"dataframe\">\n",
       "  <thead>\n",
       "    <tr style=\"text-align: right;\">\n",
       "      <th></th>\n",
       "      <th>ISBN</th>\n",
       "      <th>predicted_rating</th>\n",
       "    </tr>\n",
       "  </thead>\n",
       "  <tbody>\n",
       "    <tr>\n",
       "      <th>11</th>\n",
       "      <td>8484034119</td>\n",
       "      <td>1.825742</td>\n",
       "    </tr>\n",
       "    <tr>\n",
       "      <th>30</th>\n",
       "      <td>8170592461</td>\n",
       "      <td>2.000000</td>\n",
       "    </tr>\n",
       "    <tr>\n",
       "      <th>65</th>\n",
       "      <td>2890212203</td>\n",
       "      <td>2.236068</td>\n",
       "    </tr>\n",
       "    <tr>\n",
       "      <th>79</th>\n",
       "      <td>1931040168</td>\n",
       "      <td>2.000000</td>\n",
       "    </tr>\n",
       "    <tr>\n",
       "      <th>80</th>\n",
       "      <td>1930051220</td>\n",
       "      <td>2.236068</td>\n",
       "    </tr>\n",
       "  </tbody>\n",
       "</table>\n",
       "</div>"
      ],
      "text/plain": [
       "          ISBN  predicted_rating\n",
       "11  8484034119          1.825742\n",
       "30  8170592461          2.000000\n",
       "65  2890212203          2.236068\n",
       "79  1931040168          2.000000\n",
       "80  1930051220          2.236068"
      ]
     },
     "execution_count": 466,
     "metadata": {},
     "output_type": "execute_result"
    }
   ],
   "source": [
    "recommendations_BookTitle_based[recommendations_BookTitle_based['predicted_rating']>0].head()"
   ]
  },
  {
   "cell_type": "markdown",
   "metadata": {},
   "source": [
    "# الطلب الثالث"
   ]
  },
  {
   "cell_type": "markdown",
   "metadata": {},
   "source": [
    "# Collaborative Filtering model"
   ]
  },
  {
   "cell_type": "code",
   "execution_count": 467,
   "metadata": {
    "scrolled": true
   },
   "outputs": [
    {
     "data": {
      "text/html": [
       "<div>\n",
       "<style scoped>\n",
       "    .dataframe tbody tr th:only-of-type {\n",
       "        vertical-align: middle;\n",
       "    }\n",
       "\n",
       "    .dataframe tbody tr th {\n",
       "        vertical-align: top;\n",
       "    }\n",
       "\n",
       "    .dataframe thead th {\n",
       "        text-align: right;\n",
       "    }\n",
       "</style>\n",
       "<table border=\"1\" class=\"dataframe\">\n",
       "  <thead>\n",
       "    <tr style=\"text-align: right;\">\n",
       "      <th>ISBN</th>\n",
       "      <th>0002187272</th>\n",
       "      <th>0002557398</th>\n",
       "      <th>000255755</th>\n",
       "      <th>0006380921</th>\n",
       "      <th>0007107110</th>\n",
       "      <th>0020199600</th>\n",
       "      <th>0020295456</th>\n",
       "      <th>0020426402</th>\n",
       "      <th>0027627403</th>\n",
       "      <th>0028614518</th>\n",
       "      <th>...</th>\n",
       "      <th>8486542480</th>\n",
       "      <th>8495501759</th>\n",
       "      <th>8526708066</th>\n",
       "      <th>880611784</th>\n",
       "      <th>8817844810</th>\n",
       "      <th>9023679245</th>\n",
       "      <th>907433699</th>\n",
       "      <th>9501700194</th>\n",
       "      <th>9681500555</th>\n",
       "      <th>9681501233</th>\n",
       "    </tr>\n",
       "    <tr>\n",
       "      <th>User-ID</th>\n",
       "      <th></th>\n",
       "      <th></th>\n",
       "      <th></th>\n",
       "      <th></th>\n",
       "      <th></th>\n",
       "      <th></th>\n",
       "      <th></th>\n",
       "      <th></th>\n",
       "      <th></th>\n",
       "      <th></th>\n",
       "      <th></th>\n",
       "      <th></th>\n",
       "      <th></th>\n",
       "      <th></th>\n",
       "      <th></th>\n",
       "      <th></th>\n",
       "      <th></th>\n",
       "      <th></th>\n",
       "      <th></th>\n",
       "      <th></th>\n",
       "      <th></th>\n",
       "    </tr>\n",
       "  </thead>\n",
       "  <tbody>\n",
       "    <tr>\n",
       "      <th>100088</th>\n",
       "      <td>0.0</td>\n",
       "      <td>0.0</td>\n",
       "      <td>0.0</td>\n",
       "      <td>0.0</td>\n",
       "      <td>0.0</td>\n",
       "      <td>0.0</td>\n",
       "      <td>0.0</td>\n",
       "      <td>0.0</td>\n",
       "      <td>0.0</td>\n",
       "      <td>0.0</td>\n",
       "      <td>...</td>\n",
       "      <td>0.0</td>\n",
       "      <td>0.0</td>\n",
       "      <td>0.0</td>\n",
       "      <td>0.0</td>\n",
       "      <td>0.0</td>\n",
       "      <td>0.0</td>\n",
       "      <td>0.0</td>\n",
       "      <td>0.0</td>\n",
       "      <td>0.0</td>\n",
       "      <td>0.0</td>\n",
       "    </tr>\n",
       "    <tr>\n",
       "      <th>100164</th>\n",
       "      <td>0.0</td>\n",
       "      <td>0.0</td>\n",
       "      <td>0.0</td>\n",
       "      <td>0.0</td>\n",
       "      <td>0.0</td>\n",
       "      <td>0.0</td>\n",
       "      <td>0.0</td>\n",
       "      <td>0.0</td>\n",
       "      <td>0.0</td>\n",
       "      <td>0.0</td>\n",
       "      <td>...</td>\n",
       "      <td>0.0</td>\n",
       "      <td>0.0</td>\n",
       "      <td>0.0</td>\n",
       "      <td>0.0</td>\n",
       "      <td>0.0</td>\n",
       "      <td>0.0</td>\n",
       "      <td>0.0</td>\n",
       "      <td>0.0</td>\n",
       "      <td>0.0</td>\n",
       "      <td>0.0</td>\n",
       "    </tr>\n",
       "    <tr>\n",
       "      <th>10030</th>\n",
       "      <td>0.0</td>\n",
       "      <td>0.0</td>\n",
       "      <td>0.0</td>\n",
       "      <td>0.0</td>\n",
       "      <td>0.0</td>\n",
       "      <td>8.0</td>\n",
       "      <td>0.0</td>\n",
       "      <td>0.0</td>\n",
       "      <td>0.0</td>\n",
       "      <td>0.0</td>\n",
       "      <td>...</td>\n",
       "      <td>0.0</td>\n",
       "      <td>0.0</td>\n",
       "      <td>0.0</td>\n",
       "      <td>0.0</td>\n",
       "      <td>0.0</td>\n",
       "      <td>0.0</td>\n",
       "      <td>0.0</td>\n",
       "      <td>0.0</td>\n",
       "      <td>0.0</td>\n",
       "      <td>0.0</td>\n",
       "    </tr>\n",
       "    <tr>\n",
       "      <th>100393</th>\n",
       "      <td>0.0</td>\n",
       "      <td>0.0</td>\n",
       "      <td>0.0</td>\n",
       "      <td>0.0</td>\n",
       "      <td>0.0</td>\n",
       "      <td>0.0</td>\n",
       "      <td>0.0</td>\n",
       "      <td>0.0</td>\n",
       "      <td>0.0</td>\n",
       "      <td>0.0</td>\n",
       "      <td>...</td>\n",
       "      <td>0.0</td>\n",
       "      <td>0.0</td>\n",
       "      <td>0.0</td>\n",
       "      <td>0.0</td>\n",
       "      <td>0.0</td>\n",
       "      <td>0.0</td>\n",
       "      <td>0.0</td>\n",
       "      <td>0.0</td>\n",
       "      <td>0.0</td>\n",
       "      <td>0.0</td>\n",
       "    </tr>\n",
       "    <tr>\n",
       "      <th>100545</th>\n",
       "      <td>0.0</td>\n",
       "      <td>0.0</td>\n",
       "      <td>0.0</td>\n",
       "      <td>0.0</td>\n",
       "      <td>0.0</td>\n",
       "      <td>0.0</td>\n",
       "      <td>0.0</td>\n",
       "      <td>0.0</td>\n",
       "      <td>0.0</td>\n",
       "      <td>0.0</td>\n",
       "      <td>...</td>\n",
       "      <td>0.0</td>\n",
       "      <td>0.0</td>\n",
       "      <td>0.0</td>\n",
       "      <td>0.0</td>\n",
       "      <td>0.0</td>\n",
       "      <td>0.0</td>\n",
       "      <td>0.0</td>\n",
       "      <td>0.0</td>\n",
       "      <td>0.0</td>\n",
       "      <td>0.0</td>\n",
       "    </tr>\n",
       "    <tr>\n",
       "      <th>100846</th>\n",
       "      <td>0.0</td>\n",
       "      <td>0.0</td>\n",
       "      <td>0.0</td>\n",
       "      <td>0.0</td>\n",
       "      <td>0.0</td>\n",
       "      <td>0.0</td>\n",
       "      <td>0.0</td>\n",
       "      <td>0.0</td>\n",
       "      <td>0.0</td>\n",
       "      <td>0.0</td>\n",
       "      <td>...</td>\n",
       "      <td>0.0</td>\n",
       "      <td>0.0</td>\n",
       "      <td>0.0</td>\n",
       "      <td>0.0</td>\n",
       "      <td>0.0</td>\n",
       "      <td>0.0</td>\n",
       "      <td>0.0</td>\n",
       "      <td>0.0</td>\n",
       "      <td>0.0</td>\n",
       "      <td>0.0</td>\n",
       "    </tr>\n",
       "    <tr>\n",
       "      <th>100906</th>\n",
       "      <td>0.0</td>\n",
       "      <td>0.0</td>\n",
       "      <td>0.0</td>\n",
       "      <td>0.0</td>\n",
       "      <td>0.0</td>\n",
       "      <td>0.0</td>\n",
       "      <td>0.0</td>\n",
       "      <td>0.0</td>\n",
       "      <td>0.0</td>\n",
       "      <td>0.0</td>\n",
       "      <td>...</td>\n",
       "      <td>0.0</td>\n",
       "      <td>0.0</td>\n",
       "      <td>0.0</td>\n",
       "      <td>0.0</td>\n",
       "      <td>0.0</td>\n",
       "      <td>0.0</td>\n",
       "      <td>0.0</td>\n",
       "      <td>0.0</td>\n",
       "      <td>0.0</td>\n",
       "      <td>0.0</td>\n",
       "    </tr>\n",
       "    <tr>\n",
       "      <th>101081</th>\n",
       "      <td>0.0</td>\n",
       "      <td>0.0</td>\n",
       "      <td>0.0</td>\n",
       "      <td>0.0</td>\n",
       "      <td>0.0</td>\n",
       "      <td>0.0</td>\n",
       "      <td>0.0</td>\n",
       "      <td>0.0</td>\n",
       "      <td>0.0</td>\n",
       "      <td>0.0</td>\n",
       "      <td>...</td>\n",
       "      <td>0.0</td>\n",
       "      <td>0.0</td>\n",
       "      <td>0.0</td>\n",
       "      <td>0.0</td>\n",
       "      <td>0.0</td>\n",
       "      <td>0.0</td>\n",
       "      <td>0.0</td>\n",
       "      <td>0.0</td>\n",
       "      <td>0.0</td>\n",
       "      <td>0.0</td>\n",
       "    </tr>\n",
       "    <tr>\n",
       "      <th>101550</th>\n",
       "      <td>0.0</td>\n",
       "      <td>0.0</td>\n",
       "      <td>0.0</td>\n",
       "      <td>0.0</td>\n",
       "      <td>0.0</td>\n",
       "      <td>0.0</td>\n",
       "      <td>0.0</td>\n",
       "      <td>0.0</td>\n",
       "      <td>0.0</td>\n",
       "      <td>0.0</td>\n",
       "      <td>...</td>\n",
       "      <td>0.0</td>\n",
       "      <td>0.0</td>\n",
       "      <td>0.0</td>\n",
       "      <td>0.0</td>\n",
       "      <td>0.0</td>\n",
       "      <td>0.0</td>\n",
       "      <td>0.0</td>\n",
       "      <td>8.0</td>\n",
       "      <td>0.0</td>\n",
       "      <td>0.0</td>\n",
       "    </tr>\n",
       "    <tr>\n",
       "      <th>101583</th>\n",
       "      <td>0.0</td>\n",
       "      <td>0.0</td>\n",
       "      <td>0.0</td>\n",
       "      <td>0.0</td>\n",
       "      <td>0.0</td>\n",
       "      <td>0.0</td>\n",
       "      <td>0.0</td>\n",
       "      <td>0.0</td>\n",
       "      <td>0.0</td>\n",
       "      <td>0.0</td>\n",
       "      <td>...</td>\n",
       "      <td>0.0</td>\n",
       "      <td>0.0</td>\n",
       "      <td>0.0</td>\n",
       "      <td>0.0</td>\n",
       "      <td>0.0</td>\n",
       "      <td>0.0</td>\n",
       "      <td>0.0</td>\n",
       "      <td>0.0</td>\n",
       "      <td>0.0</td>\n",
       "      <td>0.0</td>\n",
       "    </tr>\n",
       "  </tbody>\n",
       "</table>\n",
       "<p>10 rows × 840 columns</p>\n",
       "</div>"
      ],
      "text/plain": [
       "ISBN     0002187272  0002557398  000255755  0006380921  0007107110  \\\n",
       "User-ID                                                              \n",
       "100088          0.0         0.0        0.0         0.0         0.0   \n",
       "100164          0.0         0.0        0.0         0.0         0.0   \n",
       "10030           0.0         0.0        0.0         0.0         0.0   \n",
       "100393          0.0         0.0        0.0         0.0         0.0   \n",
       "100545          0.0         0.0        0.0         0.0         0.0   \n",
       "100846          0.0         0.0        0.0         0.0         0.0   \n",
       "100906          0.0         0.0        0.0         0.0         0.0   \n",
       "101081          0.0         0.0        0.0         0.0         0.0   \n",
       "101550          0.0         0.0        0.0         0.0         0.0   \n",
       "101583          0.0         0.0        0.0         0.0         0.0   \n",
       "\n",
       "ISBN     0020199600  0020295456  0020426402  0027627403  0028614518  ...  \\\n",
       "User-ID                                                              ...   \n",
       "100088          0.0         0.0         0.0         0.0         0.0  ...   \n",
       "100164          0.0         0.0         0.0         0.0         0.0  ...   \n",
       "10030           8.0         0.0         0.0         0.0         0.0  ...   \n",
       "100393          0.0         0.0         0.0         0.0         0.0  ...   \n",
       "100545          0.0         0.0         0.0         0.0         0.0  ...   \n",
       "100846          0.0         0.0         0.0         0.0         0.0  ...   \n",
       "100906          0.0         0.0         0.0         0.0         0.0  ...   \n",
       "101081          0.0         0.0         0.0         0.0         0.0  ...   \n",
       "101550          0.0         0.0         0.0         0.0         0.0  ...   \n",
       "101583          0.0         0.0         0.0         0.0         0.0  ...   \n",
       "\n",
       "ISBN     8486542480  8495501759  8526708066  880611784  8817844810  \\\n",
       "User-ID                                                              \n",
       "100088          0.0         0.0         0.0        0.0         0.0   \n",
       "100164          0.0         0.0         0.0        0.0         0.0   \n",
       "10030           0.0         0.0         0.0        0.0         0.0   \n",
       "100393          0.0         0.0         0.0        0.0         0.0   \n",
       "100545          0.0         0.0         0.0        0.0         0.0   \n",
       "100846          0.0         0.0         0.0        0.0         0.0   \n",
       "100906          0.0         0.0         0.0        0.0         0.0   \n",
       "101081          0.0         0.0         0.0        0.0         0.0   \n",
       "101550          0.0         0.0         0.0        0.0         0.0   \n",
       "101583          0.0         0.0         0.0        0.0         0.0   \n",
       "\n",
       "ISBN     9023679245  907433699  9501700194  9681500555  9681501233  \n",
       "User-ID                                                             \n",
       "100088          0.0        0.0         0.0         0.0         0.0  \n",
       "100164          0.0        0.0         0.0         0.0         0.0  \n",
       "10030           0.0        0.0         0.0         0.0         0.0  \n",
       "100393          0.0        0.0         0.0         0.0         0.0  \n",
       "100545          0.0        0.0         0.0         0.0         0.0  \n",
       "100846          0.0        0.0         0.0         0.0         0.0  \n",
       "100906          0.0        0.0         0.0         0.0         0.0  \n",
       "101081          0.0        0.0         0.0         0.0         0.0  \n",
       "101550          0.0        0.0         8.0         0.0         0.0  \n",
       "101583          0.0        0.0         0.0         0.0         0.0  \n",
       "\n",
       "[10 rows x 840 columns]"
      ]
     },
     "execution_count": 467,
     "metadata": {},
     "output_type": "execute_result"
    }
   ],
   "source": [
    "users_items_pivot_matrix_df = ratings.pivot(index='User-ID', columns='ISBN', values='Book-Rating').fillna(0)\n",
    "users_items_pivot_matrix_df.head(10)"
   ]
  },
  {
   "cell_type": "code",
   "execution_count": 468,
   "metadata": {},
   "outputs": [
    {
     "data": {
      "text/plain": [
       "array([[0., 0., 0., ..., 0., 0., 0.],\n",
       "       [0., 0., 0., ..., 0., 0., 0.],\n",
       "       [0., 0., 0., ..., 0., 0., 0.],\n",
       "       ...,\n",
       "       [0., 0., 0., ..., 0., 0., 0.],\n",
       "       [0., 0., 0., ..., 0., 0., 0.],\n",
       "       [0., 0., 0., ..., 0., 0., 0.]])"
      ]
     },
     "execution_count": 468,
     "metadata": {},
     "output_type": "execute_result"
    }
   ],
   "source": [
    "users_items_pivot_matrix = users_items_pivot_matrix_df.values\n",
    "users_items_pivot_matrix"
   ]
  },
  {
   "cell_type": "code",
   "execution_count": 469,
   "metadata": {},
   "outputs": [],
   "source": [
    "from scipy.sparse.linalg import svds\n",
    "NUMBER_OF_FACTORS_MF = 15\n",
    "U, sigma, Vt = svds(users_items_pivot_matrix, k = NUMBER_OF_FACTORS_MF)"
   ]
  },
  {
   "cell_type": "code",
   "execution_count": 470,
   "metadata": {
    "colab": {
     "base_uri": "https://localhost:8080/"
    },
    "id": "1CwFEvAhyr3O",
    "outputId": "0ba381cb-d177-4f0c-ad1b-563fb99f6f54"
   },
   "outputs": [
    {
     "data": {
      "text/plain": [
       "(1812, 15)"
      ]
     },
     "execution_count": 470,
     "metadata": {},
     "output_type": "execute_result"
    }
   ],
   "source": [
    "U.shape"
   ]
  },
  {
   "cell_type": "code",
   "execution_count": 471,
   "metadata": {
    "colab": {
     "base_uri": "https://localhost:8080/"
    },
    "id": "ZJyUJkZsy2Yx",
    "outputId": "f9758b4c-158e-4e51-ba78-c0d8b064259a"
   },
   "outputs": [
    {
     "data": {
      "text/plain": [
       "(15, 840)"
      ]
     },
     "execution_count": 471,
     "metadata": {},
     "output_type": "execute_result"
    }
   ],
   "source": [
    "Vt.shape"
   ]
  },
  {
   "cell_type": "code",
   "execution_count": 472,
   "metadata": {
    "colab": {
     "base_uri": "https://localhost:8080/"
    },
    "id": "mjL-ZH-3y7YQ",
    "outputId": "8aa445c6-9232-45aa-a4fe-bf21b78ab3c1"
   },
   "outputs": [
    {
     "data": {
      "text/plain": [
       "(15, 15)"
      ]
     },
     "execution_count": 472,
     "metadata": {},
     "output_type": "execute_result"
    }
   ],
   "source": [
    "sigma = np.diag(sigma)\n",
    "sigma.shape"
   ]
  },
  {
   "cell_type": "markdown",
   "metadata": {
    "id": "AE_vtgvD2s3q"
   },
   "source": [
    "The resulting matrix is not sparse any more. It was generated predictions for items the user have not yet interaction, which we will exploit for recommendations:"
   ]
  },
  {
   "cell_type": "code",
   "execution_count": 473,
   "metadata": {
    "colab": {
     "base_uri": "https://localhost:8080/"
    },
    "id": "i8iA9bkOzAhb",
    "outputId": "c1493bed-b266-4cb1-c3e4-f8c07e0d879a"
   },
   "outputs": [
    {
     "data": {
      "text/plain": [
       "array([[-2.56678426e-17,  3.31200635e-18, -2.08154126e-17, ...,\n",
       "         1.82386321e-17, -9.92618669e-17,  3.19348290e-17],\n",
       "       [-1.83629038e-18, -5.28242549e-18, -1.07635910e-18, ...,\n",
       "        -1.60465927e-18, -1.26522238e-17, -6.36226906e-18],\n",
       "       [-6.61569212e-17, -1.18063921e-16, -3.34184742e-17, ...,\n",
       "        -7.26287308e-17, -4.28185277e-17,  1.31543319e-18],\n",
       "       ...,\n",
       "       [-1.10925717e-17, -2.34379431e-17, -4.76307971e-18, ...,\n",
       "        -2.03242355e-17,  1.85902966e-16,  1.48430115e-17],\n",
       "       [-2.37767926e-34, -3.69291774e-34, -2.87483072e-34, ...,\n",
       "        -7.74360552e-34,  6.70226456e-34,  2.01257768e-33],\n",
       "       [-2.91233389e-33,  2.19563332e-33, -1.20165081e-33, ...,\n",
       "         3.38973968e-33,  1.16821994e-32,  2.99792302e-33]])"
      ]
     },
     "execution_count": 473,
     "metadata": {},
     "output_type": "execute_result"
    }
   ],
   "source": [
    "all_user_predicted_ratings = np.dot(np.dot(U, sigma), Vt) \n",
    "all_user_predicted_ratings"
   ]
  },
  {
   "cell_type": "code",
   "execution_count": 474,
   "metadata": {
    "id": "sTc_ZZf10c5E"
   },
   "outputs": [],
   "source": [
    "preds_df = pd.DataFrame(all_user_predicted_ratings, columns=users_items_pivot_matrix_df.columns, index=users_items_pivot_matrix_df.index)"
   ]
  },
  {
   "cell_type": "code",
   "execution_count": 475,
   "metadata": {
    "colab": {
     "base_uri": "https://localhost:8080/",
     "height": 483
    },
    "id": "PYTZixNB0k8e",
    "outputId": "b1703a6b-4d5a-4e9c-bed2-c848ec60c2c5"
   },
   "outputs": [
    {
     "data": {
      "text/html": [
       "<div>\n",
       "<style scoped>\n",
       "    .dataframe tbody tr th:only-of-type {\n",
       "        vertical-align: middle;\n",
       "    }\n",
       "\n",
       "    .dataframe tbody tr th {\n",
       "        vertical-align: top;\n",
       "    }\n",
       "\n",
       "    .dataframe thead th {\n",
       "        text-align: right;\n",
       "    }\n",
       "</style>\n",
       "<table border=\"1\" class=\"dataframe\">\n",
       "  <thead>\n",
       "    <tr style=\"text-align: right;\">\n",
       "      <th>ISBN</th>\n",
       "      <th>0002187272</th>\n",
       "      <th>0002557398</th>\n",
       "      <th>000255755</th>\n",
       "      <th>0006380921</th>\n",
       "      <th>0007107110</th>\n",
       "      <th>0020199600</th>\n",
       "      <th>0020295456</th>\n",
       "      <th>0020426402</th>\n",
       "      <th>0027627403</th>\n",
       "      <th>0028614518</th>\n",
       "      <th>...</th>\n",
       "      <th>8486542480</th>\n",
       "      <th>8495501759</th>\n",
       "      <th>8526708066</th>\n",
       "      <th>880611784</th>\n",
       "      <th>8817844810</th>\n",
       "      <th>9023679245</th>\n",
       "      <th>907433699</th>\n",
       "      <th>9501700194</th>\n",
       "      <th>9681500555</th>\n",
       "      <th>9681501233</th>\n",
       "    </tr>\n",
       "    <tr>\n",
       "      <th>User-ID</th>\n",
       "      <th></th>\n",
       "      <th></th>\n",
       "      <th></th>\n",
       "      <th></th>\n",
       "      <th></th>\n",
       "      <th></th>\n",
       "      <th></th>\n",
       "      <th></th>\n",
       "      <th></th>\n",
       "      <th></th>\n",
       "      <th></th>\n",
       "      <th></th>\n",
       "      <th></th>\n",
       "      <th></th>\n",
       "      <th></th>\n",
       "      <th></th>\n",
       "      <th></th>\n",
       "      <th></th>\n",
       "      <th></th>\n",
       "      <th></th>\n",
       "      <th></th>\n",
       "    </tr>\n",
       "  </thead>\n",
       "  <tbody>\n",
       "    <tr>\n",
       "      <th>100088</th>\n",
       "      <td>-2.566784e-17</td>\n",
       "      <td>3.312006e-18</td>\n",
       "      <td>-2.081541e-17</td>\n",
       "      <td>5.258457e-05</td>\n",
       "      <td>-3.611404e-17</td>\n",
       "      <td>-3.351760e-02</td>\n",
       "      <td>8.961986e-18</td>\n",
       "      <td>4.197612e-17</td>\n",
       "      <td>-4.681192e-05</td>\n",
       "      <td>9.080498e-04</td>\n",
       "      <td>...</td>\n",
       "      <td>9.910352e-18</td>\n",
       "      <td>6.819094e-17</td>\n",
       "      <td>-2.856224e-17</td>\n",
       "      <td>1.268813e-17</td>\n",
       "      <td>-1.053513e-03</td>\n",
       "      <td>-1.877619e-17</td>\n",
       "      <td>4.680265e-17</td>\n",
       "      <td>1.823863e-17</td>\n",
       "      <td>-9.926187e-17</td>\n",
       "      <td>3.193483e-17</td>\n",
       "    </tr>\n",
       "    <tr>\n",
       "      <th>100164</th>\n",
       "      <td>-1.836290e-18</td>\n",
       "      <td>-5.282425e-18</td>\n",
       "      <td>-1.076359e-18</td>\n",
       "      <td>-1.424513e-05</td>\n",
       "      <td>-6.268762e-19</td>\n",
       "      <td>-1.531011e-03</td>\n",
       "      <td>2.130995e-18</td>\n",
       "      <td>7.162350e-18</td>\n",
       "      <td>-1.168397e-05</td>\n",
       "      <td>-2.187099e-05</td>\n",
       "      <td>...</td>\n",
       "      <td>-1.283967e-18</td>\n",
       "      <td>-9.468149e-19</td>\n",
       "      <td>-4.761991e-18</td>\n",
       "      <td>8.746997e-19</td>\n",
       "      <td>5.586996e-02</td>\n",
       "      <td>-1.162380e-18</td>\n",
       "      <td>1.885838e-18</td>\n",
       "      <td>-1.604659e-18</td>\n",
       "      <td>-1.265222e-17</td>\n",
       "      <td>-6.362269e-18</td>\n",
       "    </tr>\n",
       "    <tr>\n",
       "      <th>10030</th>\n",
       "      <td>-6.615692e-17</td>\n",
       "      <td>-1.180639e-16</td>\n",
       "      <td>-3.341847e-17</td>\n",
       "      <td>-8.333093e-04</td>\n",
       "      <td>1.078266e-16</td>\n",
       "      <td>7.804661e+00</td>\n",
       "      <td>-5.746362e-18</td>\n",
       "      <td>-4.142498e-17</td>\n",
       "      <td>1.946119e-05</td>\n",
       "      <td>-4.111364e-05</td>\n",
       "      <td>...</td>\n",
       "      <td>-4.188860e-17</td>\n",
       "      <td>-4.532885e-17</td>\n",
       "      <td>2.500728e-17</td>\n",
       "      <td>1.541214e-18</td>\n",
       "      <td>-3.564054e-03</td>\n",
       "      <td>7.347417e-17</td>\n",
       "      <td>-3.110103e-17</td>\n",
       "      <td>-7.262873e-17</td>\n",
       "      <td>-4.281853e-17</td>\n",
       "      <td>1.315433e-18</td>\n",
       "    </tr>\n",
       "    <tr>\n",
       "      <th>100393</th>\n",
       "      <td>-2.023775e-18</td>\n",
       "      <td>-6.972997e-18</td>\n",
       "      <td>-1.048904e-18</td>\n",
       "      <td>-1.875841e-05</td>\n",
       "      <td>-1.385398e-18</td>\n",
       "      <td>-7.655479e-03</td>\n",
       "      <td>3.163208e-18</td>\n",
       "      <td>1.082581e-17</td>\n",
       "      <td>-1.750645e-05</td>\n",
       "      <td>-2.831639e-05</td>\n",
       "      <td>...</td>\n",
       "      <td>-1.619870e-18</td>\n",
       "      <td>-4.853590e-19</td>\n",
       "      <td>-7.071030e-18</td>\n",
       "      <td>1.198214e-18</td>\n",
       "      <td>7.345118e-02</td>\n",
       "      <td>-2.098941e-18</td>\n",
       "      <td>3.071185e-18</td>\n",
       "      <td>-2.026896e-18</td>\n",
       "      <td>-1.412896e-17</td>\n",
       "      <td>-9.438949e-18</td>\n",
       "    </tr>\n",
       "    <tr>\n",
       "      <th>100545</th>\n",
       "      <td>1.257103e-33</td>\n",
       "      <td>-1.298163e-33</td>\n",
       "      <td>1.384302e-33</td>\n",
       "      <td>1.916726e-20</td>\n",
       "      <td>-5.354195e-33</td>\n",
       "      <td>-6.484836e-17</td>\n",
       "      <td>2.807534e-33</td>\n",
       "      <td>1.056815e-32</td>\n",
       "      <td>-7.614192e-21</td>\n",
       "      <td>-5.294754e-21</td>\n",
       "      <td>...</td>\n",
       "      <td>2.144725e-34</td>\n",
       "      <td>-4.214023e-33</td>\n",
       "      <td>-6.649253e-33</td>\n",
       "      <td>1.049403e-33</td>\n",
       "      <td>2.327437e-17</td>\n",
       "      <td>-5.949163e-33</td>\n",
       "      <td>1.372629e-33</td>\n",
       "      <td>8.395441e-34</td>\n",
       "      <td>-2.954137e-33</td>\n",
       "      <td>-9.717383e-33</td>\n",
       "    </tr>\n",
       "    <tr>\n",
       "      <th>100846</th>\n",
       "      <td>2.622054e-18</td>\n",
       "      <td>-5.584079e-18</td>\n",
       "      <td>2.173418e-18</td>\n",
       "      <td>5.084888e-05</td>\n",
       "      <td>-5.657296e-19</td>\n",
       "      <td>-4.718021e-03</td>\n",
       "      <td>3.851871e-18</td>\n",
       "      <td>1.249639e-17</td>\n",
       "      <td>-1.972170e-05</td>\n",
       "      <td>-4.049952e-05</td>\n",
       "      <td>...</td>\n",
       "      <td>-1.908647e-18</td>\n",
       "      <td>-4.676433e-19</td>\n",
       "      <td>-8.275494e-18</td>\n",
       "      <td>1.558658e-18</td>\n",
       "      <td>9.655566e-02</td>\n",
       "      <td>-1.271164e-18</td>\n",
       "      <td>3.863520e-18</td>\n",
       "      <td>-2.262572e-18</td>\n",
       "      <td>-2.080213e-17</td>\n",
       "      <td>-1.750881e-17</td>\n",
       "    </tr>\n",
       "    <tr>\n",
       "      <th>100906</th>\n",
       "      <td>1.847967e-16</td>\n",
       "      <td>6.490600e-17</td>\n",
       "      <td>1.259953e-16</td>\n",
       "      <td>-7.397503e-04</td>\n",
       "      <td>1.556697e-17</td>\n",
       "      <td>3.171215e-03</td>\n",
       "      <td>1.454025e-17</td>\n",
       "      <td>5.329131e-17</td>\n",
       "      <td>-1.861027e-04</td>\n",
       "      <td>-2.238301e-04</td>\n",
       "      <td>...</td>\n",
       "      <td>1.847483e-18</td>\n",
       "      <td>-6.625063e-18</td>\n",
       "      <td>-3.229798e-17</td>\n",
       "      <td>5.674223e-18</td>\n",
       "      <td>2.080749e-01</td>\n",
       "      <td>1.900885e-17</td>\n",
       "      <td>7.202515e-17</td>\n",
       "      <td>1.974330e-18</td>\n",
       "      <td>-8.077209e-17</td>\n",
       "      <td>-3.889787e-16</td>\n",
       "    </tr>\n",
       "    <tr>\n",
       "      <th>101081</th>\n",
       "      <td>-2.053427e-17</td>\n",
       "      <td>2.649605e-18</td>\n",
       "      <td>-1.665233e-17</td>\n",
       "      <td>4.206766e-05</td>\n",
       "      <td>-2.889123e-17</td>\n",
       "      <td>-2.681408e-02</td>\n",
       "      <td>7.169589e-18</td>\n",
       "      <td>3.358090e-17</td>\n",
       "      <td>-3.744954e-05</td>\n",
       "      <td>7.264399e-04</td>\n",
       "      <td>...</td>\n",
       "      <td>7.928282e-18</td>\n",
       "      <td>5.455275e-17</td>\n",
       "      <td>-2.284979e-17</td>\n",
       "      <td>1.015050e-17</td>\n",
       "      <td>-8.428107e-04</td>\n",
       "      <td>-1.502095e-17</td>\n",
       "      <td>3.744212e-17</td>\n",
       "      <td>1.459091e-17</td>\n",
       "      <td>-7.940949e-17</td>\n",
       "      <td>2.554786e-17</td>\n",
       "    </tr>\n",
       "    <tr>\n",
       "      <th>101550</th>\n",
       "      <td>5.949633e-33</td>\n",
       "      <td>8.148445e-33</td>\n",
       "      <td>3.955448e-33</td>\n",
       "      <td>5.097257e-21</td>\n",
       "      <td>-4.342972e-33</td>\n",
       "      <td>-7.262873e-17</td>\n",
       "      <td>6.914108e-35</td>\n",
       "      <td>6.264164e-34</td>\n",
       "      <td>-1.302869e-21</td>\n",
       "      <td>2.532686e-21</td>\n",
       "      <td>...</td>\n",
       "      <td>2.219651e-33</td>\n",
       "      <td>2.629077e-33</td>\n",
       "      <td>-2.661296e-34</td>\n",
       "      <td>3.517640e-34</td>\n",
       "      <td>-3.850297e-18</td>\n",
       "      <td>-2.202249e-33</td>\n",
       "      <td>2.642596e-33</td>\n",
       "      <td>3.638519e-33</td>\n",
       "      <td>4.989800e-33</td>\n",
       "      <td>-4.414393e-33</td>\n",
       "    </tr>\n",
       "    <tr>\n",
       "      <th>101583</th>\n",
       "      <td>-1.196454e-32</td>\n",
       "      <td>-1.675900e-32</td>\n",
       "      <td>-7.941560e-33</td>\n",
       "      <td>-6.669934e-21</td>\n",
       "      <td>9.067256e-33</td>\n",
       "      <td>1.453680e-16</td>\n",
       "      <td>-8.557307e-35</td>\n",
       "      <td>-1.167471e-33</td>\n",
       "      <td>2.502316e-21</td>\n",
       "      <td>-5.263623e-21</td>\n",
       "      <td>...</td>\n",
       "      <td>-4.628207e-33</td>\n",
       "      <td>-5.417096e-33</td>\n",
       "      <td>4.586657e-34</td>\n",
       "      <td>-6.786055e-34</td>\n",
       "      <td>8.880532e-18</td>\n",
       "      <td>4.631906e-33</td>\n",
       "      <td>-5.455880e-33</td>\n",
       "      <td>-7.544649e-33</td>\n",
       "      <td>-1.041215e-32</td>\n",
       "      <td>8.662970e-33</td>\n",
       "    </tr>\n",
       "  </tbody>\n",
       "</table>\n",
       "<p>10 rows × 840 columns</p>\n",
       "</div>"
      ],
      "text/plain": [
       "ISBN       0002187272    0002557398     000255755    0006380921    0007107110  \\\n",
       "User-ID                                                                         \n",
       "100088  -2.566784e-17  3.312006e-18 -2.081541e-17  5.258457e-05 -3.611404e-17   \n",
       "100164  -1.836290e-18 -5.282425e-18 -1.076359e-18 -1.424513e-05 -6.268762e-19   \n",
       "10030   -6.615692e-17 -1.180639e-16 -3.341847e-17 -8.333093e-04  1.078266e-16   \n",
       "100393  -2.023775e-18 -6.972997e-18 -1.048904e-18 -1.875841e-05 -1.385398e-18   \n",
       "100545   1.257103e-33 -1.298163e-33  1.384302e-33  1.916726e-20 -5.354195e-33   \n",
       "100846   2.622054e-18 -5.584079e-18  2.173418e-18  5.084888e-05 -5.657296e-19   \n",
       "100906   1.847967e-16  6.490600e-17  1.259953e-16 -7.397503e-04  1.556697e-17   \n",
       "101081  -2.053427e-17  2.649605e-18 -1.665233e-17  4.206766e-05 -2.889123e-17   \n",
       "101550   5.949633e-33  8.148445e-33  3.955448e-33  5.097257e-21 -4.342972e-33   \n",
       "101583  -1.196454e-32 -1.675900e-32 -7.941560e-33 -6.669934e-21  9.067256e-33   \n",
       "\n",
       "ISBN       0020199600    0020295456    0020426402    0027627403    0028614518  \\\n",
       "User-ID                                                                         \n",
       "100088  -3.351760e-02  8.961986e-18  4.197612e-17 -4.681192e-05  9.080498e-04   \n",
       "100164  -1.531011e-03  2.130995e-18  7.162350e-18 -1.168397e-05 -2.187099e-05   \n",
       "10030    7.804661e+00 -5.746362e-18 -4.142498e-17  1.946119e-05 -4.111364e-05   \n",
       "100393  -7.655479e-03  3.163208e-18  1.082581e-17 -1.750645e-05 -2.831639e-05   \n",
       "100545  -6.484836e-17  2.807534e-33  1.056815e-32 -7.614192e-21 -5.294754e-21   \n",
       "100846  -4.718021e-03  3.851871e-18  1.249639e-17 -1.972170e-05 -4.049952e-05   \n",
       "100906   3.171215e-03  1.454025e-17  5.329131e-17 -1.861027e-04 -2.238301e-04   \n",
       "101081  -2.681408e-02  7.169589e-18  3.358090e-17 -3.744954e-05  7.264399e-04   \n",
       "101550  -7.262873e-17  6.914108e-35  6.264164e-34 -1.302869e-21  2.532686e-21   \n",
       "101583   1.453680e-16 -8.557307e-35 -1.167471e-33  2.502316e-21 -5.263623e-21   \n",
       "\n",
       "ISBN     ...    8486542480    8495501759    8526708066     880611784  \\\n",
       "User-ID  ...                                                           \n",
       "100088   ...  9.910352e-18  6.819094e-17 -2.856224e-17  1.268813e-17   \n",
       "100164   ... -1.283967e-18 -9.468149e-19 -4.761991e-18  8.746997e-19   \n",
       "10030    ... -4.188860e-17 -4.532885e-17  2.500728e-17  1.541214e-18   \n",
       "100393   ... -1.619870e-18 -4.853590e-19 -7.071030e-18  1.198214e-18   \n",
       "100545   ...  2.144725e-34 -4.214023e-33 -6.649253e-33  1.049403e-33   \n",
       "100846   ... -1.908647e-18 -4.676433e-19 -8.275494e-18  1.558658e-18   \n",
       "100906   ...  1.847483e-18 -6.625063e-18 -3.229798e-17  5.674223e-18   \n",
       "101081   ...  7.928282e-18  5.455275e-17 -2.284979e-17  1.015050e-17   \n",
       "101550   ...  2.219651e-33  2.629077e-33 -2.661296e-34  3.517640e-34   \n",
       "101583   ... -4.628207e-33 -5.417096e-33  4.586657e-34 -6.786055e-34   \n",
       "\n",
       "ISBN       8817844810    9023679245     907433699    9501700194    9681500555  \\\n",
       "User-ID                                                                         \n",
       "100088  -1.053513e-03 -1.877619e-17  4.680265e-17  1.823863e-17 -9.926187e-17   \n",
       "100164   5.586996e-02 -1.162380e-18  1.885838e-18 -1.604659e-18 -1.265222e-17   \n",
       "10030   -3.564054e-03  7.347417e-17 -3.110103e-17 -7.262873e-17 -4.281853e-17   \n",
       "100393   7.345118e-02 -2.098941e-18  3.071185e-18 -2.026896e-18 -1.412896e-17   \n",
       "100545   2.327437e-17 -5.949163e-33  1.372629e-33  8.395441e-34 -2.954137e-33   \n",
       "100846   9.655566e-02 -1.271164e-18  3.863520e-18 -2.262572e-18 -2.080213e-17   \n",
       "100906   2.080749e-01  1.900885e-17  7.202515e-17  1.974330e-18 -8.077209e-17   \n",
       "101081  -8.428107e-04 -1.502095e-17  3.744212e-17  1.459091e-17 -7.940949e-17   \n",
       "101550  -3.850297e-18 -2.202249e-33  2.642596e-33  3.638519e-33  4.989800e-33   \n",
       "101583   8.880532e-18  4.631906e-33 -5.455880e-33 -7.544649e-33 -1.041215e-32   \n",
       "\n",
       "ISBN       9681501233  \n",
       "User-ID                \n",
       "100088   3.193483e-17  \n",
       "100164  -6.362269e-18  \n",
       "10030    1.315433e-18  \n",
       "100393  -9.438949e-18  \n",
       "100545  -9.717383e-33  \n",
       "100846  -1.750881e-17  \n",
       "100906  -3.889787e-16  \n",
       "101081   2.554786e-17  \n",
       "101550  -4.414393e-33  \n",
       "101583   8.662970e-33  \n",
       "\n",
       "[10 rows x 840 columns]"
      ]
     },
     "execution_count": 475,
     "metadata": {},
     "output_type": "execute_result"
    }
   ],
   "source": [
    "preds_df.head(10)"
   ]
  },
  {
   "cell_type": "code",
   "execution_count": 476,
   "metadata": {
    "colab": {
     "base_uri": "https://localhost:8080/",
     "height": 483
    },
    "id": "r_8gDGQt0KIA",
    "outputId": "3b4e2f75-7bd7-4bc5-ae99-a4b9b637f472"
   },
   "outputs": [
    {
     "data": {
      "text/html": [
       "<div>\n",
       "<style scoped>\n",
       "    .dataframe tbody tr th:only-of-type {\n",
       "        vertical-align: middle;\n",
       "    }\n",
       "\n",
       "    .dataframe tbody tr th {\n",
       "        vertical-align: top;\n",
       "    }\n",
       "\n",
       "    .dataframe thead th {\n",
       "        text-align: right;\n",
       "    }\n",
       "</style>\n",
       "<table border=\"1\" class=\"dataframe\">\n",
       "  <thead>\n",
       "    <tr style=\"text-align: right;\">\n",
       "      <th>ISBN</th>\n",
       "      <th>0002187272</th>\n",
       "      <th>0002557398</th>\n",
       "      <th>000255755</th>\n",
       "      <th>0006380921</th>\n",
       "      <th>0007107110</th>\n",
       "      <th>0020199600</th>\n",
       "      <th>0020295456</th>\n",
       "      <th>0020426402</th>\n",
       "      <th>0027627403</th>\n",
       "      <th>0028614518</th>\n",
       "      <th>...</th>\n",
       "      <th>8486542480</th>\n",
       "      <th>8495501759</th>\n",
       "      <th>8526708066</th>\n",
       "      <th>880611784</th>\n",
       "      <th>8817844810</th>\n",
       "      <th>9023679245</th>\n",
       "      <th>907433699</th>\n",
       "      <th>9501700194</th>\n",
       "      <th>9681500555</th>\n",
       "      <th>9681501233</th>\n",
       "    </tr>\n",
       "    <tr>\n",
       "      <th>User-ID</th>\n",
       "      <th></th>\n",
       "      <th></th>\n",
       "      <th></th>\n",
       "      <th></th>\n",
       "      <th></th>\n",
       "      <th></th>\n",
       "      <th></th>\n",
       "      <th></th>\n",
       "      <th></th>\n",
       "      <th></th>\n",
       "      <th></th>\n",
       "      <th></th>\n",
       "      <th></th>\n",
       "      <th></th>\n",
       "      <th></th>\n",
       "      <th></th>\n",
       "      <th></th>\n",
       "      <th></th>\n",
       "      <th></th>\n",
       "      <th></th>\n",
       "      <th></th>\n",
       "    </tr>\n",
       "  </thead>\n",
       "  <tbody>\n",
       "    <tr>\n",
       "      <th>100088</th>\n",
       "      <td>0.651334</td>\n",
       "      <td>0.651334</td>\n",
       "      <td>0.651334</td>\n",
       "      <td>0.651372</td>\n",
       "      <td>0.651334</td>\n",
       "      <td>0.627281</td>\n",
       "      <td>0.651334</td>\n",
       "      <td>0.651334</td>\n",
       "      <td>0.651300</td>\n",
       "      <td>0.651986</td>\n",
       "      <td>...</td>\n",
       "      <td>0.651334</td>\n",
       "      <td>0.651334</td>\n",
       "      <td>0.651334</td>\n",
       "      <td>0.651334</td>\n",
       "      <td>0.650578</td>\n",
       "      <td>0.651334</td>\n",
       "      <td>0.651334</td>\n",
       "      <td>0.651334</td>\n",
       "      <td>0.651334</td>\n",
       "      <td>0.651334</td>\n",
       "    </tr>\n",
       "    <tr>\n",
       "      <th>100164</th>\n",
       "      <td>0.651334</td>\n",
       "      <td>0.651334</td>\n",
       "      <td>0.651334</td>\n",
       "      <td>0.651324</td>\n",
       "      <td>0.651334</td>\n",
       "      <td>0.650235</td>\n",
       "      <td>0.651334</td>\n",
       "      <td>0.651334</td>\n",
       "      <td>0.651326</td>\n",
       "      <td>0.651318</td>\n",
       "      <td>...</td>\n",
       "      <td>0.651334</td>\n",
       "      <td>0.651334</td>\n",
       "      <td>0.651334</td>\n",
       "      <td>0.651334</td>\n",
       "      <td>0.691427</td>\n",
       "      <td>0.651334</td>\n",
       "      <td>0.651334</td>\n",
       "      <td>0.651334</td>\n",
       "      <td>0.651334</td>\n",
       "      <td>0.651334</td>\n",
       "    </tr>\n",
       "    <tr>\n",
       "      <th>10030</th>\n",
       "      <td>0.651334</td>\n",
       "      <td>0.651334</td>\n",
       "      <td>0.651334</td>\n",
       "      <td>0.650736</td>\n",
       "      <td>0.651334</td>\n",
       "      <td>6.252052</td>\n",
       "      <td>0.651334</td>\n",
       "      <td>0.651334</td>\n",
       "      <td>0.651348</td>\n",
       "      <td>0.651305</td>\n",
       "      <td>...</td>\n",
       "      <td>0.651334</td>\n",
       "      <td>0.651334</td>\n",
       "      <td>0.651334</td>\n",
       "      <td>0.651334</td>\n",
       "      <td>0.648776</td>\n",
       "      <td>0.651334</td>\n",
       "      <td>0.651334</td>\n",
       "      <td>0.651334</td>\n",
       "      <td>0.651334</td>\n",
       "      <td>0.651334</td>\n",
       "    </tr>\n",
       "    <tr>\n",
       "      <th>100393</th>\n",
       "      <td>0.651334</td>\n",
       "      <td>0.651334</td>\n",
       "      <td>0.651334</td>\n",
       "      <td>0.651321</td>\n",
       "      <td>0.651334</td>\n",
       "      <td>0.645840</td>\n",
       "      <td>0.651334</td>\n",
       "      <td>0.651334</td>\n",
       "      <td>0.651321</td>\n",
       "      <td>0.651314</td>\n",
       "      <td>...</td>\n",
       "      <td>0.651334</td>\n",
       "      <td>0.651334</td>\n",
       "      <td>0.651334</td>\n",
       "      <td>0.651334</td>\n",
       "      <td>0.704043</td>\n",
       "      <td>0.651334</td>\n",
       "      <td>0.651334</td>\n",
       "      <td>0.651334</td>\n",
       "      <td>0.651334</td>\n",
       "      <td>0.651334</td>\n",
       "    </tr>\n",
       "    <tr>\n",
       "      <th>100545</th>\n",
       "      <td>0.651334</td>\n",
       "      <td>0.651334</td>\n",
       "      <td>0.651334</td>\n",
       "      <td>0.651334</td>\n",
       "      <td>0.651334</td>\n",
       "      <td>0.651334</td>\n",
       "      <td>0.651334</td>\n",
       "      <td>0.651334</td>\n",
       "      <td>0.651334</td>\n",
       "      <td>0.651334</td>\n",
       "      <td>...</td>\n",
       "      <td>0.651334</td>\n",
       "      <td>0.651334</td>\n",
       "      <td>0.651334</td>\n",
       "      <td>0.651334</td>\n",
       "      <td>0.651334</td>\n",
       "      <td>0.651334</td>\n",
       "      <td>0.651334</td>\n",
       "      <td>0.651334</td>\n",
       "      <td>0.651334</td>\n",
       "      <td>0.651334</td>\n",
       "    </tr>\n",
       "    <tr>\n",
       "      <th>100846</th>\n",
       "      <td>0.651334</td>\n",
       "      <td>0.651334</td>\n",
       "      <td>0.651334</td>\n",
       "      <td>0.651370</td>\n",
       "      <td>0.651334</td>\n",
       "      <td>0.647948</td>\n",
       "      <td>0.651334</td>\n",
       "      <td>0.651334</td>\n",
       "      <td>0.651320</td>\n",
       "      <td>0.651305</td>\n",
       "      <td>...</td>\n",
       "      <td>0.651334</td>\n",
       "      <td>0.651334</td>\n",
       "      <td>0.651334</td>\n",
       "      <td>0.651334</td>\n",
       "      <td>0.720623</td>\n",
       "      <td>0.651334</td>\n",
       "      <td>0.651334</td>\n",
       "      <td>0.651334</td>\n",
       "      <td>0.651334</td>\n",
       "      <td>0.651334</td>\n",
       "    </tr>\n",
       "    <tr>\n",
       "      <th>100906</th>\n",
       "      <td>0.651334</td>\n",
       "      <td>0.651334</td>\n",
       "      <td>0.651334</td>\n",
       "      <td>0.650803</td>\n",
       "      <td>0.651334</td>\n",
       "      <td>0.653610</td>\n",
       "      <td>0.651334</td>\n",
       "      <td>0.651334</td>\n",
       "      <td>0.651200</td>\n",
       "      <td>0.651173</td>\n",
       "      <td>...</td>\n",
       "      <td>0.651334</td>\n",
       "      <td>0.651334</td>\n",
       "      <td>0.651334</td>\n",
       "      <td>0.651334</td>\n",
       "      <td>0.800651</td>\n",
       "      <td>0.651334</td>\n",
       "      <td>0.651334</td>\n",
       "      <td>0.651334</td>\n",
       "      <td>0.651334</td>\n",
       "      <td>0.651334</td>\n",
       "    </tr>\n",
       "    <tr>\n",
       "      <th>101081</th>\n",
       "      <td>0.651334</td>\n",
       "      <td>0.651334</td>\n",
       "      <td>0.651334</td>\n",
       "      <td>0.651364</td>\n",
       "      <td>0.651334</td>\n",
       "      <td>0.632092</td>\n",
       "      <td>0.651334</td>\n",
       "      <td>0.651334</td>\n",
       "      <td>0.651307</td>\n",
       "      <td>0.651855</td>\n",
       "      <td>...</td>\n",
       "      <td>0.651334</td>\n",
       "      <td>0.651334</td>\n",
       "      <td>0.651334</td>\n",
       "      <td>0.651334</td>\n",
       "      <td>0.650729</td>\n",
       "      <td>0.651334</td>\n",
       "      <td>0.651334</td>\n",
       "      <td>0.651334</td>\n",
       "      <td>0.651334</td>\n",
       "      <td>0.651334</td>\n",
       "    </tr>\n",
       "    <tr>\n",
       "      <th>101550</th>\n",
       "      <td>0.651334</td>\n",
       "      <td>0.651334</td>\n",
       "      <td>0.651334</td>\n",
       "      <td>0.651334</td>\n",
       "      <td>0.651334</td>\n",
       "      <td>0.651334</td>\n",
       "      <td>0.651334</td>\n",
       "      <td>0.651334</td>\n",
       "      <td>0.651334</td>\n",
       "      <td>0.651334</td>\n",
       "      <td>...</td>\n",
       "      <td>0.651334</td>\n",
       "      <td>0.651334</td>\n",
       "      <td>0.651334</td>\n",
       "      <td>0.651334</td>\n",
       "      <td>0.651334</td>\n",
       "      <td>0.651334</td>\n",
       "      <td>0.651334</td>\n",
       "      <td>0.651334</td>\n",
       "      <td>0.651334</td>\n",
       "      <td>0.651334</td>\n",
       "    </tr>\n",
       "    <tr>\n",
       "      <th>101583</th>\n",
       "      <td>0.651334</td>\n",
       "      <td>0.651334</td>\n",
       "      <td>0.651334</td>\n",
       "      <td>0.651334</td>\n",
       "      <td>0.651334</td>\n",
       "      <td>0.651334</td>\n",
       "      <td>0.651334</td>\n",
       "      <td>0.651334</td>\n",
       "      <td>0.651334</td>\n",
       "      <td>0.651334</td>\n",
       "      <td>...</td>\n",
       "      <td>0.651334</td>\n",
       "      <td>0.651334</td>\n",
       "      <td>0.651334</td>\n",
       "      <td>0.651334</td>\n",
       "      <td>0.651334</td>\n",
       "      <td>0.651334</td>\n",
       "      <td>0.651334</td>\n",
       "      <td>0.651334</td>\n",
       "      <td>0.651334</td>\n",
       "      <td>0.651334</td>\n",
       "    </tr>\n",
       "  </tbody>\n",
       "</table>\n",
       "<p>10 rows × 840 columns</p>\n",
       "</div>"
      ],
      "text/plain": [
       "ISBN     0002187272  0002557398  000255755  0006380921  0007107110  \\\n",
       "User-ID                                                              \n",
       "100088     0.651334    0.651334   0.651334    0.651372    0.651334   \n",
       "100164     0.651334    0.651334   0.651334    0.651324    0.651334   \n",
       "10030      0.651334    0.651334   0.651334    0.650736    0.651334   \n",
       "100393     0.651334    0.651334   0.651334    0.651321    0.651334   \n",
       "100545     0.651334    0.651334   0.651334    0.651334    0.651334   \n",
       "100846     0.651334    0.651334   0.651334    0.651370    0.651334   \n",
       "100906     0.651334    0.651334   0.651334    0.650803    0.651334   \n",
       "101081     0.651334    0.651334   0.651334    0.651364    0.651334   \n",
       "101550     0.651334    0.651334   0.651334    0.651334    0.651334   \n",
       "101583     0.651334    0.651334   0.651334    0.651334    0.651334   \n",
       "\n",
       "ISBN     0020199600  0020295456  0020426402  0027627403  0028614518  ...  \\\n",
       "User-ID                                                              ...   \n",
       "100088     0.627281    0.651334    0.651334    0.651300    0.651986  ...   \n",
       "100164     0.650235    0.651334    0.651334    0.651326    0.651318  ...   \n",
       "10030      6.252052    0.651334    0.651334    0.651348    0.651305  ...   \n",
       "100393     0.645840    0.651334    0.651334    0.651321    0.651314  ...   \n",
       "100545     0.651334    0.651334    0.651334    0.651334    0.651334  ...   \n",
       "100846     0.647948    0.651334    0.651334    0.651320    0.651305  ...   \n",
       "100906     0.653610    0.651334    0.651334    0.651200    0.651173  ...   \n",
       "101081     0.632092    0.651334    0.651334    0.651307    0.651855  ...   \n",
       "101550     0.651334    0.651334    0.651334    0.651334    0.651334  ...   \n",
       "101583     0.651334    0.651334    0.651334    0.651334    0.651334  ...   \n",
       "\n",
       "ISBN     8486542480  8495501759  8526708066  880611784  8817844810  \\\n",
       "User-ID                                                              \n",
       "100088     0.651334    0.651334    0.651334   0.651334    0.650578   \n",
       "100164     0.651334    0.651334    0.651334   0.651334    0.691427   \n",
       "10030      0.651334    0.651334    0.651334   0.651334    0.648776   \n",
       "100393     0.651334    0.651334    0.651334   0.651334    0.704043   \n",
       "100545     0.651334    0.651334    0.651334   0.651334    0.651334   \n",
       "100846     0.651334    0.651334    0.651334   0.651334    0.720623   \n",
       "100906     0.651334    0.651334    0.651334   0.651334    0.800651   \n",
       "101081     0.651334    0.651334    0.651334   0.651334    0.650729   \n",
       "101550     0.651334    0.651334    0.651334   0.651334    0.651334   \n",
       "101583     0.651334    0.651334    0.651334   0.651334    0.651334   \n",
       "\n",
       "ISBN     9023679245  907433699  9501700194  9681500555  9681501233  \n",
       "User-ID                                                             \n",
       "100088     0.651334   0.651334    0.651334    0.651334    0.651334  \n",
       "100164     0.651334   0.651334    0.651334    0.651334    0.651334  \n",
       "10030      0.651334   0.651334    0.651334    0.651334    0.651334  \n",
       "100393     0.651334   0.651334    0.651334    0.651334    0.651334  \n",
       "100545     0.651334   0.651334    0.651334    0.651334    0.651334  \n",
       "100846     0.651334   0.651334    0.651334    0.651334    0.651334  \n",
       "100906     0.651334   0.651334    0.651334    0.651334    0.651334  \n",
       "101081     0.651334   0.651334    0.651334    0.651334    0.651334  \n",
       "101550     0.651334   0.651334    0.651334    0.651334    0.651334  \n",
       "101583     0.651334   0.651334    0.651334    0.651334    0.651334  \n",
       "\n",
       "[10 rows x 840 columns]"
      ]
     },
     "execution_count": 476,
     "metadata": {},
     "output_type": "execute_result"
    }
   ],
   "source": [
    "preds_df = preds_df.apply(lambda x: normalize(x, all_user_predicted_ratings.max(), all_user_predicted_ratings.min()))\n",
    "preds_df.head(10)"
   ]
  },
  {
   "cell_type": "code",
   "execution_count": 477,
   "metadata": {
    "id": "BBRBSuxs-CEx"
   },
   "outputs": [],
   "source": [
    "class CFRecommender:\n",
    "    MODEL_NAME = 'Collaborative Filtering'\n",
    "    def __init__(self, predictions_df):\n",
    "        self.predictions_df = predictions_df\n",
    "    def get_model_name(self):\n",
    "        return self.MODEL_NAME\n",
    "    def recommend_items(self, user_id, items_to_ignore=[], topn=1000, verbose=False):\n",
    "        sorted_user_predictions = self.predictions_df.loc[user_id].sort_values(ascending=False)\n",
    "        recommendations = {'ISBN': sorted_user_predictions.index, 'predicted_rating': sorted_user_predictions.values}\n",
    "        recommendations_df = pd.DataFrame(recommendations)\n",
    "        recommendations_df = recommendations_df[~recommendations_df['ISBN'].isin(items_to_ignore)] \\\n",
    "                               .sort_values('predicted_rating', ascending = False) \\\n",
    "                               .head(topn)\n",
    "#         print(recommendations_df)\n",
    "        return recommendations_df\n",
    "cf_recommender_model = CFRecommender(preds_df)"
   ]
  },
  {
   "cell_type": "code",
   "execution_count": 478,
   "metadata": {
    "colab": {
     "base_uri": "https://localhost:8080/",
     "height": 464
    },
    "id": "36bJt2fu62Uy",
    "outputId": "efc72ac6-7044-41e3-b565-7f2ce03d1b53"
   },
   "outputs": [
    {
     "name": "stdout",
     "output_type": "stream",
     "text": [
      "Evaluating Collaborative Filtering (SVD Matrix Factorization) model...\n",
      "\n",
      "Global metrics:\n",
      "{'modelName': 'Collaborative Filtering', 'recall@5': 0.46683673469387754, 'recall@10': 0.5051020408163265, 'precision@5': 0.10397727272727272, 'precision@10': 0.05625}\n"
     ]
    },
    {
     "data": {
      "text/html": [
       "<div>\n",
       "<style scoped>\n",
       "    .dataframe tbody tr th:only-of-type {\n",
       "        vertical-align: middle;\n",
       "    }\n",
       "\n",
       "    .dataframe tbody tr th {\n",
       "        vertical-align: top;\n",
       "    }\n",
       "\n",
       "    .dataframe thead th {\n",
       "        text-align: right;\n",
       "    }\n",
       "</style>\n",
       "<table border=\"1\" class=\"dataframe\">\n",
       "  <thead>\n",
       "    <tr style=\"text-align: right;\">\n",
       "      <th></th>\n",
       "      <th>hits@5_count</th>\n",
       "      <th>hits@10_count</th>\n",
       "      <th>recommended@5_count</th>\n",
       "      <th>recommended@10_count</th>\n",
       "      <th>relevents</th>\n",
       "      <th>recall@5</th>\n",
       "      <th>recall@10</th>\n",
       "      <th>precision@5</th>\n",
       "      <th>precision@10</th>\n",
       "      <th>User-ID</th>\n",
       "    </tr>\n",
       "  </thead>\n",
       "  <tbody>\n",
       "    <tr>\n",
       "      <th>152</th>\n",
       "      <td>5</td>\n",
       "      <td>10</td>\n",
       "      <td>5</td>\n",
       "      <td>10</td>\n",
       "      <td>23</td>\n",
       "      <td>0.217391</td>\n",
       "      <td>0.434783</td>\n",
       "      <td>1.0</td>\n",
       "      <td>1.0</td>\n",
       "      <td>98391</td>\n",
       "    </tr>\n",
       "    <tr>\n",
       "      <th>165</th>\n",
       "      <td>5</td>\n",
       "      <td>5</td>\n",
       "      <td>5</td>\n",
       "      <td>10</td>\n",
       "      <td>5</td>\n",
       "      <td>1.000000</td>\n",
       "      <td>1.000000</td>\n",
       "      <td>1.0</td>\n",
       "      <td>0.5</td>\n",
       "      <td>11676</td>\n",
       "    </tr>\n",
       "    <tr>\n",
       "      <th>341</th>\n",
       "      <td>2</td>\n",
       "      <td>2</td>\n",
       "      <td>5</td>\n",
       "      <td>10</td>\n",
       "      <td>2</td>\n",
       "      <td>1.000000</td>\n",
       "      <td>1.000000</td>\n",
       "      <td>0.4</td>\n",
       "      <td>0.2</td>\n",
       "      <td>153797</td>\n",
       "    </tr>\n",
       "    <tr>\n",
       "      <th>208</th>\n",
       "      <td>2</td>\n",
       "      <td>2</td>\n",
       "      <td>5</td>\n",
       "      <td>10</td>\n",
       "      <td>2</td>\n",
       "      <td>1.000000</td>\n",
       "      <td>1.000000</td>\n",
       "      <td>0.4</td>\n",
       "      <td>0.2</td>\n",
       "      <td>68555</td>\n",
       "    </tr>\n",
       "    <tr>\n",
       "      <th>62</th>\n",
       "      <td>2</td>\n",
       "      <td>2</td>\n",
       "      <td>5</td>\n",
       "      <td>10</td>\n",
       "      <td>2</td>\n",
       "      <td>1.000000</td>\n",
       "      <td>1.000000</td>\n",
       "      <td>0.4</td>\n",
       "      <td>0.2</td>\n",
       "      <td>210485</td>\n",
       "    </tr>\n",
       "    <tr>\n",
       "      <th>226</th>\n",
       "      <td>2</td>\n",
       "      <td>2</td>\n",
       "      <td>5</td>\n",
       "      <td>10</td>\n",
       "      <td>3</td>\n",
       "      <td>0.666667</td>\n",
       "      <td>0.666667</td>\n",
       "      <td>0.4</td>\n",
       "      <td>0.2</td>\n",
       "      <td>114368</td>\n",
       "    </tr>\n",
       "    <tr>\n",
       "      <th>4</th>\n",
       "      <td>2</td>\n",
       "      <td>2</td>\n",
       "      <td>5</td>\n",
       "      <td>10</td>\n",
       "      <td>2</td>\n",
       "      <td>1.000000</td>\n",
       "      <td>1.000000</td>\n",
       "      <td>0.4</td>\n",
       "      <td>0.2</td>\n",
       "      <td>226724</td>\n",
       "    </tr>\n",
       "    <tr>\n",
       "      <th>286</th>\n",
       "      <td>1</td>\n",
       "      <td>1</td>\n",
       "      <td>5</td>\n",
       "      <td>10</td>\n",
       "      <td>1</td>\n",
       "      <td>1.000000</td>\n",
       "      <td>1.000000</td>\n",
       "      <td>0.2</td>\n",
       "      <td>0.1</td>\n",
       "      <td>8067</td>\n",
       "    </tr>\n",
       "    <tr>\n",
       "      <th>292</th>\n",
       "      <td>1</td>\n",
       "      <td>1</td>\n",
       "      <td>5</td>\n",
       "      <td>10</td>\n",
       "      <td>1</td>\n",
       "      <td>1.000000</td>\n",
       "      <td>1.000000</td>\n",
       "      <td>0.2</td>\n",
       "      <td>0.1</td>\n",
       "      <td>90049</td>\n",
       "    </tr>\n",
       "    <tr>\n",
       "      <th>115</th>\n",
       "      <td>1</td>\n",
       "      <td>1</td>\n",
       "      <td>5</td>\n",
       "      <td>10</td>\n",
       "      <td>1</td>\n",
       "      <td>1.000000</td>\n",
       "      <td>1.000000</td>\n",
       "      <td>0.2</td>\n",
       "      <td>0.1</td>\n",
       "      <td>165308</td>\n",
       "    </tr>\n",
       "  </tbody>\n",
       "</table>\n",
       "</div>"
      ],
      "text/plain": [
       "     hits@5_count  hits@10_count  recommended@5_count  recommended@10_count  \\\n",
       "152             5             10                    5                    10   \n",
       "165             5              5                    5                    10   \n",
       "341             2              2                    5                    10   \n",
       "208             2              2                    5                    10   \n",
       "62              2              2                    5                    10   \n",
       "226             2              2                    5                    10   \n",
       "4               2              2                    5                    10   \n",
       "286             1              1                    5                    10   \n",
       "292             1              1                    5                    10   \n",
       "115             1              1                    5                    10   \n",
       "\n",
       "     relevents  recall@5  recall@10  precision@5  precision@10 User-ID  \n",
       "152         23  0.217391   0.434783          1.0           1.0   98391  \n",
       "165          5  1.000000   1.000000          1.0           0.5   11676  \n",
       "341          2  1.000000   1.000000          0.4           0.2  153797  \n",
       "208          2  1.000000   1.000000          0.4           0.2   68555  \n",
       "62           2  1.000000   1.000000          0.4           0.2  210485  \n",
       "226          3  0.666667   0.666667          0.4           0.2  114368  \n",
       "4            2  1.000000   1.000000          0.4           0.2  226724  \n",
       "286          1  1.000000   1.000000          0.2           0.1    8067  \n",
       "292          1  1.000000   1.000000          0.2           0.1   90049  \n",
       "115          1  1.000000   1.000000          0.2           0.1  165308  "
      ]
     },
     "execution_count": 478,
     "metadata": {},
     "output_type": "execute_result"
    }
   ],
   "source": [
    "model_evaluator = ModelEvaluator(training_data, testing_data, 0.5)              \n",
    "print('Evaluating Collaborative Filtering (SVD Matrix Factorization) model...')\n",
    "cf_global_metrics, cf_detailed_results_df,recommend_items_cf = model_evaluator.evaluate_model(cf_recommender_model)\n",
    "print('\\nGlobal metrics:\\n%s' % cf_global_metrics)\n",
    "cf_detailed_results_df.head(10)"
   ]
  },
  {
   "cell_type": "code",
   "execution_count": 479,
   "metadata": {},
   "outputs": [
    {
     "data": {
      "text/html": [
       "<div>\n",
       "<style scoped>\n",
       "    .dataframe tbody tr th:only-of-type {\n",
       "        vertical-align: middle;\n",
       "    }\n",
       "\n",
       "    .dataframe tbody tr th {\n",
       "        vertical-align: top;\n",
       "    }\n",
       "\n",
       "    .dataframe thead th {\n",
       "        text-align: right;\n",
       "    }\n",
       "</style>\n",
       "<table border=\"1\" class=\"dataframe\">\n",
       "  <thead>\n",
       "    <tr style=\"text-align: right;\">\n",
       "      <th></th>\n",
       "      <th>ISBN</th>\n",
       "      <th>predicted_rating</th>\n",
       "    </tr>\n",
       "  </thead>\n",
       "  <tbody>\n",
       "    <tr>\n",
       "      <th>0</th>\n",
       "      <td>0425167313</td>\n",
       "      <td>0.651334</td>\n",
       "    </tr>\n",
       "    <tr>\n",
       "      <th>3</th>\n",
       "      <td>0385511612</td>\n",
       "      <td>0.651334</td>\n",
       "    </tr>\n",
       "    <tr>\n",
       "      <th>4</th>\n",
       "      <td>0446601977</td>\n",
       "      <td>0.651334</td>\n",
       "    </tr>\n",
       "    <tr>\n",
       "      <th>5</th>\n",
       "      <td>0316666009</td>\n",
       "      <td>0.651334</td>\n",
       "    </tr>\n",
       "    <tr>\n",
       "      <th>1</th>\n",
       "      <td>0684835959</td>\n",
       "      <td>0.651334</td>\n",
       "    </tr>\n",
       "  </tbody>\n",
       "</table>\n",
       "</div>"
      ],
      "text/plain": [
       "         ISBN  predicted_rating\n",
       "0  0425167313          0.651334\n",
       "3  0385511612          0.651334\n",
       "4  0446601977          0.651334\n",
       "5  0316666009          0.651334\n",
       "1  0684835959          0.651334"
      ]
     },
     "execution_count": 479,
     "metadata": {},
     "output_type": "execute_result"
    }
   ],
   "source": [
    "recommend_items_cf.head()"
   ]
  },
  {
   "cell_type": "markdown",
   "metadata": {},
   "source": [
    "# الطلب الرابع"
   ]
  },
  {
   "cell_type": "markdown",
   "metadata": {},
   "source": [
    "# hybrid = Collaborative + based-content (Publisher)"
   ]
  },
  {
   "cell_type": "code",
   "execution_count": 480,
   "metadata": {},
   "outputs": [
    {
     "name": "stdout",
     "output_type": "stream",
     "text": [
      "Evaluating Collaborative Filtering (SVD Matrix Factorization) model...\n",
      "\n",
      "Global metrics:\n",
      "{'modelName': 'hybrid', 'recall@5': 0.08695652173913043, 'recall@10': 0.18840579710144928, 'precision@5': 0.001875, 'precision@10': 0.0022775052557813596}\n"
     ]
    },
    {
     "data": {
      "text/html": [
       "<div>\n",
       "<style scoped>\n",
       "    .dataframe tbody tr th:only-of-type {\n",
       "        vertical-align: middle;\n",
       "    }\n",
       "\n",
       "    .dataframe tbody tr th {\n",
       "        vertical-align: top;\n",
       "    }\n",
       "\n",
       "    .dataframe thead th {\n",
       "        text-align: right;\n",
       "    }\n",
       "</style>\n",
       "<table border=\"1\" class=\"dataframe\">\n",
       "  <thead>\n",
       "    <tr style=\"text-align: right;\">\n",
       "      <th></th>\n",
       "      <th>hits@5_count</th>\n",
       "      <th>hits@10_count</th>\n",
       "      <th>recommended@5_count</th>\n",
       "      <th>recommended@10_count</th>\n",
       "      <th>relevents</th>\n",
       "      <th>recall@5</th>\n",
       "      <th>recall@10</th>\n",
       "      <th>precision@5</th>\n",
       "      <th>precision@10</th>\n",
       "      <th>User-ID</th>\n",
       "    </tr>\n",
       "  </thead>\n",
       "  <tbody>\n",
       "    <tr>\n",
       "      <th>38</th>\n",
       "      <td>2</td>\n",
       "      <td>2</td>\n",
       "      <td>5</td>\n",
       "      <td>6</td>\n",
       "      <td>2</td>\n",
       "      <td>1.0</td>\n",
       "      <td>1.0</td>\n",
       "      <td>0.400000</td>\n",
       "      <td>0.333333</td>\n",
       "      <td>189835</td>\n",
       "    </tr>\n",
       "    <tr>\n",
       "      <th>118</th>\n",
       "      <td>1</td>\n",
       "      <td>1</td>\n",
       "      <td>4</td>\n",
       "      <td>4</td>\n",
       "      <td>1</td>\n",
       "      <td>1.0</td>\n",
       "      <td>1.0</td>\n",
       "      <td>0.250000</td>\n",
       "      <td>0.250000</td>\n",
       "      <td>189835</td>\n",
       "    </tr>\n",
       "    <tr>\n",
       "      <th>31</th>\n",
       "      <td>1</td>\n",
       "      <td>1</td>\n",
       "      <td>5</td>\n",
       "      <td>10</td>\n",
       "      <td>1</td>\n",
       "      <td>1.0</td>\n",
       "      <td>1.0</td>\n",
       "      <td>0.200000</td>\n",
       "      <td>0.100000</td>\n",
       "      <td>98391</td>\n",
       "    </tr>\n",
       "    <tr>\n",
       "      <th>39</th>\n",
       "      <td>1</td>\n",
       "      <td>1</td>\n",
       "      <td>5</td>\n",
       "      <td>10</td>\n",
       "      <td>1</td>\n",
       "      <td>1.0</td>\n",
       "      <td>1.0</td>\n",
       "      <td>0.200000</td>\n",
       "      <td>0.100000</td>\n",
       "      <td>169663</td>\n",
       "    </tr>\n",
       "    <tr>\n",
       "      <th>165</th>\n",
       "      <td>1</td>\n",
       "      <td>1</td>\n",
       "      <td>3</td>\n",
       "      <td>3</td>\n",
       "      <td>1</td>\n",
       "      <td>1.0</td>\n",
       "      <td>1.0</td>\n",
       "      <td>0.333333</td>\n",
       "      <td>0.333333</td>\n",
       "      <td>267372</td>\n",
       "    </tr>\n",
       "    <tr>\n",
       "      <th>506</th>\n",
       "      <td>0</td>\n",
       "      <td>0</td>\n",
       "      <td>5</td>\n",
       "      <td>10</td>\n",
       "      <td>1</td>\n",
       "      <td>0.0</td>\n",
       "      <td>0.0</td>\n",
       "      <td>0.000000</td>\n",
       "      <td>0.000000</td>\n",
       "      <td>232343</td>\n",
       "    </tr>\n",
       "    <tr>\n",
       "      <th>499</th>\n",
       "      <td>0</td>\n",
       "      <td>0</td>\n",
       "      <td>5</td>\n",
       "      <td>10</td>\n",
       "      <td>0</td>\n",
       "      <td>1.0</td>\n",
       "      <td>1.0</td>\n",
       "      <td>0.000000</td>\n",
       "      <td>0.000000</td>\n",
       "      <td>233255</td>\n",
       "    </tr>\n",
       "    <tr>\n",
       "      <th>500</th>\n",
       "      <td>0</td>\n",
       "      <td>0</td>\n",
       "      <td>5</td>\n",
       "      <td>10</td>\n",
       "      <td>0</td>\n",
       "      <td>1.0</td>\n",
       "      <td>1.0</td>\n",
       "      <td>0.000000</td>\n",
       "      <td>0.000000</td>\n",
       "      <td>140000</td>\n",
       "    </tr>\n",
       "    <tr>\n",
       "      <th>501</th>\n",
       "      <td>0</td>\n",
       "      <td>0</td>\n",
       "      <td>5</td>\n",
       "      <td>10</td>\n",
       "      <td>0</td>\n",
       "      <td>1.0</td>\n",
       "      <td>1.0</td>\n",
       "      <td>0.000000</td>\n",
       "      <td>0.000000</td>\n",
       "      <td>127190</td>\n",
       "    </tr>\n",
       "    <tr>\n",
       "      <th>502</th>\n",
       "      <td>0</td>\n",
       "      <td>0</td>\n",
       "      <td>5</td>\n",
       "      <td>10</td>\n",
       "      <td>0</td>\n",
       "      <td>1.0</td>\n",
       "      <td>1.0</td>\n",
       "      <td>0.000000</td>\n",
       "      <td>0.000000</td>\n",
       "      <td>237271</td>\n",
       "    </tr>\n",
       "  </tbody>\n",
       "</table>\n",
       "</div>"
      ],
      "text/plain": [
       "     hits@5_count  hits@10_count  recommended@5_count  recommended@10_count  \\\n",
       "38              2              2                    5                     6   \n",
       "118             1              1                    4                     4   \n",
       "31              1              1                    5                    10   \n",
       "39              1              1                    5                    10   \n",
       "165             1              1                    3                     3   \n",
       "506             0              0                    5                    10   \n",
       "499             0              0                    5                    10   \n",
       "500             0              0                    5                    10   \n",
       "501             0              0                    5                    10   \n",
       "502             0              0                    5                    10   \n",
       "\n",
       "     relevents  recall@5  recall@10  precision@5  precision@10 User-ID  \n",
       "38           2       1.0        1.0     0.400000      0.333333  189835  \n",
       "118          1       1.0        1.0     0.250000      0.250000  189835  \n",
       "31           1       1.0        1.0     0.200000      0.100000   98391  \n",
       "39           1       1.0        1.0     0.200000      0.100000  169663  \n",
       "165          1       1.0        1.0     0.333333      0.333333  267372  \n",
       "506          1       0.0        0.0     0.000000      0.000000  232343  \n",
       "499          0       1.0        1.0     0.000000      0.000000  233255  \n",
       "500          0       1.0        1.0     0.000000      0.000000  140000  \n",
       "501          0       1.0        1.0     0.000000      0.000000  127190  \n",
       "502          0       1.0        1.0     0.000000      0.000000  237271  "
      ]
     },
     "execution_count": 480,
     "metadata": {},
     "output_type": "execute_result"
    }
   ],
   "source": [
    "recommend_items_cf_copy = recommend_items_cf[recommend_items_cf['predicted_rating']>0]\n",
    "recommendations_Publisher_based_copy = recommendations_Publisher_based[recommendations_Publisher_based['predicted_rating']>0]\n",
    "ids = recommend_items_cf_copy['ISBN'].values\n",
    "collaborative = expended_books_df[expended_books_df['ISBN'].isin(ids)]['Book-Title'].tolist()\n",
    "df = recommendations_Publisher_based_copy[recommendations_Publisher_based_copy['ISBN'].isin(ids)]\n",
    "for idx, user_id in enumerate(users_ids):\n",
    "    favorites_in_test = get_favorite_movies(user_id, testing_data)\n",
    "    metrics = Metrics(favorites_in_test,df,threshold=0.5)\n",
    "    metrics['User-ID'] = user_id\n",
    "    users_metrics.append(metrics)\n",
    "detailed_results_df,global_metrics = result(users_metrics,\"hybrid\")\n",
    "print('Evaluating Collaborative Filtering (SVD Matrix Factorization) model...')\n",
    "print('\\nGlobal metrics:\\n%s' % global_metrics)\n",
    "detailed_results_df.head(10)"
   ]
  },
  {
   "cell_type": "code",
   "execution_count": null,
   "metadata": {},
   "outputs": [],
   "source": []
  }
 ],
 "metadata": {
  "kernelspec": {
   "display_name": "Python 3",
   "language": "python",
   "name": "python3"
  },
  "language_info": {
   "codemirror_mode": {
    "name": "ipython",
    "version": 3
   },
   "file_extension": ".py",
   "mimetype": "text/x-python",
   "name": "python",
   "nbconvert_exporter": "python",
   "pygments_lexer": "ipython3",
   "version": "3.7.6"
  }
 },
 "nbformat": 4,
 "nbformat_minor": 4
}
